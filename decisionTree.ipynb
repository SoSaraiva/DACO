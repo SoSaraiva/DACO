{
 "cells": [
  {
   "cell_type": "markdown",
   "metadata": {},
   "source": [
    "# Decision Tree Classifier"
   ]
  },
  {
   "cell_type": "code",
   "execution_count": 1,
   "metadata": {},
   "outputs": [],
   "source": [
    "# Import necessary libraries\n",
    "\n",
    "import numpy as np\n",
    "import matplotlib.pyplot as plt\n",
    "import pandas as pd\n",
    "\n",
    "from sklearn.model_selection import train_test_split, cross_val_score\n",
    "from sklearn.multioutput import MultiOutputClassifier\n",
    "from sklearn import tree\n",
    "from sklearn.metrics import balanced_accuracy_score, classification_report\n"
   ]
  },
  {
   "cell_type": "code",
   "execution_count": 2,
   "metadata": {},
   "outputs": [],
   "source": [
    "# Load dataset\n",
    "\n",
    "dataset= pd.read_csv('dataset.csv')\n",
    "\n",
    "# Replace 'Unknown' with NaN in Target\n",
    "dataset['Genetic Disorder'].replace('Unknown', np.nan, inplace=True)\n",
    "dataset['Disorder Subclass'].replace('Unknown', np.nan, inplace=True)\n",
    "\n",
    "dataset.dropna(inplace=True)\n",
    "\n",
    "# Alocate features and labels\n",
    "\n",
    "X = dataset.iloc[:, :-2]  # Features\n",
    "y = dataset.iloc[:, -2:]  # Labels (last two columns)\n",
    "\n",
    "# Perform one-hot encoding on the categorical features\n",
    "X = pd.get_dummies(X, drop_first=True)\n",
    "# drop_first is used to drop one of the columns for each categorical feature to avoid multicollinearity.\n",
    "\n",
    "# Check if the target variable has more than 2 classes\n",
    "if y.nunique().any() > 2:\n",
    "    y = pd.get_dummies(y, drop_first=True)\n",
    "    "
   ]
  },
  {
   "cell_type": "code",
   "execution_count": 3,
   "metadata": {},
   "outputs": [
    {
     "name": "stdout",
     "output_type": "stream",
     "text": [
      "Cross-Validation Scores: [0.20724049 0.19468046 0.20243812 0.20908755 0.20206871]\n",
      "Mean Cross-Validation Score: 0.20310306612486148\n"
     ]
    }
   ],
   "source": [
    "# Split the data into validation, validation and test\n",
    "\n",
    "X_train, X_test, y_train, y_test = train_test_split(X, y, train_size=0.75,  random_state=1) # training as 75% \n",
    "\n",
    "\n",
    "# Select and train model of classifier\n",
    "\n",
    "dt = MultiOutputClassifier(tree.DecisionTreeClassifier(splitter = 'random', random_state = 1))\n",
    "# evaluate the change of the criterion from gini to entropy?\n",
    "\n",
    "# Perform cross-validation\n",
    "cv_scores = cross_val_score(dt, X_train, y_train, cv=5) # 5-fold cross-validation\n",
    "\n",
    "print(\"Cross-Validation Scores:\", cv_scores)\n",
    "print(\"Mean Cross-Validation Score:\", cv_scores.mean())\n",
    "\n",
    "\n",
    "dt.fit(X_train, y_train)\n",
    "\n",
    "y_pred = dt.predict(X_test) \n"
   ]
  },
  {
   "cell_type": "code",
   "execution_count": 4,
   "metadata": {},
   "outputs": [],
   "source": [
    "# Separate the multi output targets\n",
    "y_test_last1 = y_test.iloc[:, -1]\n",
    "y_test_last2 = y_test.iloc[:, -2]\n",
    "\n",
    "y_pred_last1 = y_pred[:, -1]\n",
    "y_pred_last2 = y_pred[:, -2]\n",
    "\n",
    "# Evaluate the model\n",
    "\n",
    "balanced_acc_last1 = balanced_accuracy_score(y_test_last1, y_pred_last1)\n",
    "balanced_acc_last2 = balanced_accuracy_score(y_test_last2, y_pred_last2)\n"
   ]
  },
  {
   "cell_type": "markdown",
   "metadata": {},
   "source": [
    "# Use dataset without Unknown values"
   ]
  },
  {
   "cell_type": "code",
   "execution_count": 5,
   "metadata": {},
   "outputs": [],
   "source": [
    "# Train models without unknown data\n",
    "\n",
    "# Replace 'Unknown' with NaN\n",
    "dataset.replace('Unknown', np.nan, inplace=True)\n",
    "\n",
    "dataset.dropna(inplace=True)"
   ]
  },
  {
   "cell_type": "code",
   "execution_count": 6,
   "metadata": {},
   "outputs": [],
   "source": [
    "# Alocate features and labels\n",
    "\n",
    "X = dataset.iloc[:, :-2]  # Features\n",
    "y = dataset.iloc[:, -2:]  # Labels (last two columns)\n",
    "\n",
    "# Perform one-hot encoding on the categorical features\n",
    "X = pd.get_dummies(X, drop_first=True)\n",
    "# drop_first is used to drop one of the columns for each categorical feature to avoid multicollinearity.\n",
    "\n",
    "# Check if the target variable has more than 2 classes\n",
    "if y.nunique().any() > 2:\n",
    "    y = pd.get_dummies(y, drop_first=True)\n",
    "\n",
    "# split the data into validation, validation and test\n",
    "\n",
    "X_train, X_test, y_train, y_test = train_test_split(X, y, train_size=0.75,  random_state=1) # training as 75%"
   ]
  },
  {
   "cell_type": "code",
   "execution_count": 7,
   "metadata": {},
   "outputs": [],
   "source": [
    "# Select and train model of classifier\n",
    "\n",
    "dt = MultiOutputClassifier(tree.DecisionTreeClassifier(splitter = 'random', random_state = 1))\n",
    "# evaluate the change of the criterion from gini to entropy?\n",
    "\n",
    "dt.fit(X_train, y_train)\n",
    "\n",
    "y_pred = dt.predict(X_test) \n"
   ]
  },
  {
   "cell_type": "code",
   "execution_count": 8,
   "metadata": {},
   "outputs": [],
   "source": [
    "# Separate the multi output targets\n",
    "y_test_last1_new = y_test.iloc[:, -1]\n",
    "y_test_last2_new = y_test.iloc[:, -2]\n",
    "\n",
    "y_pred_last1_new = y_pred[:, -1]\n",
    "y_pred_last2_new = y_pred[:, -2]\n",
    "\n",
    "# Evaluate the model\n",
    "\n",
    "balanced_acc_last1_new = balanced_accuracy_score(y_test_last2_new, y_pred_last2_new)\n",
    "balanced_acc_last2_new = balanced_accuracy_score(y_test_last2_new, y_pred_last2_new)\n"
   ]
  },
  {
   "cell_type": "code",
   "execution_count": 9,
   "metadata": {},
   "outputs": [
    {
     "name": "stderr",
     "output_type": "stream",
     "text": [
      "c:\\Users\\Sofia\\miniconda3\\Lib\\site-packages\\sklearn\\metrics\\_classification.py:1471: UndefinedMetricWarning: Recall and F-score are ill-defined and being set to 0.0 in labels with no true samples. Use `zero_division` parameter to control this behavior.\n",
      "  _warn_prf(average, modifier, msg_start, len(result))\n",
      "c:\\Users\\Sofia\\miniconda3\\Lib\\site-packages\\sklearn\\metrics\\_classification.py:1471: UndefinedMetricWarning: Recall and F-score are ill-defined and being set to 0.0 in labels with no true samples. Use `zero_division` parameter to control this behavior.\n",
      "  _warn_prf(average, modifier, msg_start, len(result))\n",
      "c:\\Users\\Sofia\\miniconda3\\Lib\\site-packages\\sklearn\\metrics\\_classification.py:1471: UndefinedMetricWarning: Recall and F-score are ill-defined and being set to 0.0 in labels with no true samples. Use `zero_division` parameter to control this behavior.\n",
      "  _warn_prf(average, modifier, msg_start, len(result))\n"
     ]
    }
   ],
   "source": [
    "# Metrics and information for each output column\n",
    "\n",
    "metrics_dict = {\n",
    "    'Model': 'Decision Tree - W/ Unknowns',\n",
    "\n",
    "    # Metrics for the original dataset\n",
    "    'Scenario': 'Original',\n",
    "    'Balanced Accuracy (Last Column)': balanced_acc_last1,\n",
    "    'Balanced Accuracy (Second to Last Column)': balanced_acc_last2,\n",
    "    'Classification Report (Last Column)': classification_report(y_test_last1, y_pred_last1),\n",
    "    'Classification Report (Second to Last Column)': classification_report(y_test_last2, y_pred_last2),\n",
    "\n",
    "    # Metrics for the dataset without samples with unknown values\n",
    "    'Scenario': 'Decision Tree - Removed Unknowns',\n",
    "    'Balanced Accuracy (Last Column)': balanced_acc_last1_new,\n",
    "    'Balanced Accuracy (Second to Last Column)': balanced_acc_last2_new,\n",
    "    'Classification Report (Last Column)': classification_report(y_test_last1_new, y_pred_last1_new),\n",
    "    'Classification Report (Second to Last Column)': classification_report(y_test_last2_new, y_pred_last2_new),\n",
    "}\n",
    "\n",
    "# Convert the dictionary to a Pandas DataFrame\n",
    "metrics_df = pd.DataFrame(metrics_dict.items(), columns=['Metric', 'Value'])\n",
    "\n",
    "# Save the DataFrame to an Excel file\n",
    "file_path = 'metrics_report.csv'\n",
    "metrics_df.to_csv(file_path, index=False)"
   ]
  }
 ],
 "metadata": {
  "kernelspec": {
   "display_name": "base",
   "language": "python",
   "name": "python3"
  },
  "language_info": {
   "codemirror_mode": {
    "name": "ipython",
    "version": 3
   },
   "file_extension": ".py",
   "mimetype": "text/x-python",
   "name": "python",
   "nbconvert_exporter": "python",
   "pygments_lexer": "ipython3",
   "version": "3.11.5"
  }
 },
 "nbformat": 4,
 "nbformat_minor": 2
}
