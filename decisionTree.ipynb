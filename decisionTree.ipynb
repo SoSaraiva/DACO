{
 "cells": [
  {
   "cell_type": "markdown",
   "metadata": {},
   "source": [
    "##Decision Tree Classifier"
   ]
  },
  {
   "cell_type": "code",
   "execution_count": 48,
   "metadata": {},
   "outputs": [],
   "source": [
    "# Import necessary libraries\n",
    "\n",
    "import numpy as np\n",
    "import matplotlib.pyplot as plt\n",
    "import pandas as pd\n",
    "\n",
    "from sklearn.model_selection import train_test_split\n",
    "from sklearn import tree\n",
    "from sklearn.multioutput import MultiOutputClassifier\n",
    "from sklearn.metrics import confusion_matrix, accuracy_score, precision_score, recall_score, f1_score, balanced_accuracy_score"
   ]
  },
  {
   "cell_type": "code",
   "execution_count": 49,
   "metadata": {},
   "outputs": [],
   "source": [
    "# Load dataset\n",
    "\n",
    "dataset= pd.read_csv('dataset.csv')\n",
    "\n",
    "# Replace 'Unknown' with NaN in Target\n",
    "dataset['Genetic Disorder'].replace('Unknown', np.nan, inplace=True)\n",
    "dataset['Disorder Subclass'].replace('Unknown', np.nan, inplace=True)\n",
    "\n",
    "dataset.dropna(inplace=True)\n",
    "\n",
    "# Alocate features and labels\n",
    "\n",
    "X = dataset.iloc[:, :-2]  # Features\n",
    "y = dataset.iloc[:, -2:]  # Labels (last two columns)\n",
    "\n",
    "# Perform one-hot encoding on the categorical features\n",
    "X = pd.get_dummies(X, drop_first=True)\n",
    "# drop_first is used to drop one of the columns for each categorical feature to avoid multicollinearity.\n",
    "\n",
    "# Check if the target variable has more than 2 classes\n",
    "if y.nunique().any() > 2:\n",
    "    y = pd.get_dummies(y, drop_first=True)\n"
   ]
  },
  {
   "cell_type": "code",
   "execution_count": 50,
   "metadata": {},
   "outputs": [],
   "source": [
    "# split the data into validation, validation and test\n",
    "\n",
    "X_train, X_temp, y_train, y_temp = train_test_split(X, y, train_size=0.5,  random_state=1) # training as 50% \n",
    "X_validation, X_test, y_validation, y_test = train_test_split(X_temp, y_temp, test_size=0.5, random_state=1) # test as 25% and validations as 25%\n",
    "\n",
    "# Select and train model of classifier\n",
    "\n",
    "clf = MultiOutputClassifier(tree.DecisionTreeClassifier(splitter = 'random', random_state = 1))\n",
    "# evaluate the change of the criterion from gini to entropy?\n",
    "\n",
    "clf.fit(X_train, y_train)\n",
    "\n",
    "y_pred = clf.predict(X_validation) \n"
   ]
  },
  {
   "cell_type": "code",
   "execution_count": 51,
   "metadata": {},
   "outputs": [],
   "source": [
    "# Evaluate the model\n",
    "\n",
    "# Separate the multi output targets\n",
    "y_validation_last1 = y_validation.iloc[:, -1]\n",
    "y_validation_last2 = y_validation.iloc[:, -2]\n",
    "\n",
    "y_pred_last1 = y_pred[:, -1]\n",
    "y_pred_last2 = y_pred[:, -2]\n",
    "\n",
    "\n",
    "# Apply metrics\n",
    "\n",
    "accuracy_last1 = accuracy_score(y_validation_last1, y_pred_last1)\n",
    "precision_last1 = precision_score(y_validation_last1, y_pred_last1, average='weighted')\n",
    "recall_last1 = recall_score(y_validation_last1, y_pred_last1, average='weighted')\n",
    "f1_last1 = f1_score(y_validation_last1, y_pred_last1, average='weighted')\n",
    "balanced_acc_last1 = balanced_accuracy_score(y_validation_last1, y_pred_last1)\n",
    "\n",
    "\n",
    "accuracy_last2 = accuracy_score(y_validation_last2, y_pred_last2)\n",
    "precision_last2 = precision_score(y_validation_last2, y_pred_last2, average='weighted')\n",
    "recall_last2 = recall_score(y_validation_last2, y_pred_last2, average='weighted')\n",
    "f1_last2 = f1_score(y_validation_last2, y_pred_last2, average='weighted')\n",
    "balanced_acc_last2 = balanced_accuracy_score(y_validation_last2, y_pred_last2)\n"
   ]
  },
  {
   "cell_type": "code",
   "execution_count": 52,
   "metadata": {},
   "outputs": [],
   "source": [
    "# Train model without unknown data\n",
    "\n",
    "# Replace 'Unknown' with NaN in other\n",
    "dataset.replace('Unknown', np.nan, inplace=True)\n",
    "\n",
    "dataset.dropna(inplace=True)"
   ]
  },
  {
   "cell_type": "code",
   "execution_count": 53,
   "metadata": {},
   "outputs": [],
   "source": [
    "# Alocate features and labels\n",
    "\n",
    "X = dataset.iloc[:, :-2]  # Features\n",
    "y = dataset.iloc[:, -2:]  # Labels (last two columns)\n",
    "\n",
    "# Perform one-hot encoding on the categorical features\n",
    "X = pd.get_dummies(X, drop_first=True)\n",
    "# drop_first is used to drop one of the columns for each categorical feature to avoid multicollinearity.\n",
    "\n",
    "# Check if the target variable has more than 2 classes\n",
    "if y.nunique().any() > 2:\n",
    "    y = pd.get_dummies(y, drop_first=True)\n",
    "\n",
    "# split the data into validation, validation and test\n",
    "\n",
    "X_train, X_temp, y_train, y_temp = train_test_split(X, y, train_size=0.5,  random_state=1) # training as 50% \n",
    "X_validation, X_test, y_validation, y_test = train_test_split(X_temp, y_temp, test_size=0.5, random_state=1) # test as 25% and validations as 25%\n"
   ]
  },
  {
   "cell_type": "code",
   "execution_count": 54,
   "metadata": {},
   "outputs": [],
   "source": [
    "# Select and train model of classifier\n",
    "\n",
    "clf = MultiOutputClassifier(tree.DecisionTreeClassifier(splitter = 'random', random_state = 1))\n",
    "# evaluate the change of the criterion from gini to entropy?\n",
    "\n",
    "clf.fit(X_train, y_train)\n",
    "\n",
    "y_pred = clf.predict(X_validation) \n"
   ]
  },
  {
   "cell_type": "code",
   "execution_count": 55,
   "metadata": {},
   "outputs": [
    {
     "name": "stderr",
     "output_type": "stream",
     "text": [
      "c:\\Users\\Sofia\\miniconda3\\Lib\\site-packages\\sklearn\\metrics\\_classification.py:1471: UndefinedMetricWarning: Precision is ill-defined and being set to 0.0 in labels with no predicted samples. Use `zero_division` parameter to control this behavior.\n",
      "  _warn_prf(average, modifier, msg_start, len(result))\n"
     ]
    }
   ],
   "source": [
    "# Evaluate the model\n",
    "\n",
    "# Separate the multi output targets\n",
    "y_validation_last1 = y_validation.iloc[:, -1]\n",
    "y_validation_last2 = y_validation.iloc[:, -2]\n",
    "\n",
    "y_pred_last1 = y_pred[:, -1]\n",
    "y_pred_last2 = y_pred[:, -2]\n",
    "\n",
    "\n",
    "# Apply metrics\n",
    "\n",
    "accuracy_last1_2 = accuracy_score(y_validation_last1, y_pred_last1)\n",
    "precision_last1_2 = precision_score(y_validation_last1, y_pred_last1, average='weighted')\n",
    "recall_last1_2 = recall_score(y_validation_last1, y_pred_last1, average='weighted')\n",
    "f1_last1_2 = f1_score(y_validation_last1, y_pred_last1, average='weighted')\n",
    "balanced_acc_last1_2 = balanced_accuracy_score(y_validation_last1, y_pred_last1)\n",
    "\n",
    "\n",
    "accuracy_last2_2 = accuracy_score(y_validation_last2, y_pred_last2)\n",
    "precision_last2_2 = precision_score(y_validation_last2, y_pred_last2, average='weighted')\n",
    "recall_last2_2 = recall_score(y_validation_last2, y_pred_last2, average='weighted')\n",
    "f1_last2_2 = f1_score(y_validation_last2, y_pred_last2, average='weighted')\n",
    "balanced_acc_last2_2 = balanced_accuracy_score(y_validation_last2, y_pred_last2)"
   ]
  },
  {
   "cell_type": "code",
   "execution_count": 57,
   "metadata": {},
   "outputs": [
    {
     "name": "stdout",
     "output_type": "stream",
     "text": [
      "\n",
      "Metrics for the last column:\n",
      "Accuracy: 0.3167109929078014\n",
      "Precision: 0.31485364374741737\n",
      "Recall: 0.3167109929078014\n",
      "F1 Score: 0.3155485749720203\n",
      "balanced accuracy: 0.24276277477776237\n",
      "\n",
      "Metrics for the second-to-last column:\n",
      "Accuracy: 0.5113031914893617\n",
      "Precision: 0.5084881300574924\n",
      "Recall: 0.5113031914893617\n",
      "F1 Score: 0.5097805104589799\n",
      "balanced accuracy: 0.44204814221037453\n",
      "\n",
      "-------------------------REMOVING UNKNOWNS ---------------------------\n",
      "\n",
      "Metrics for the last column:\n",
      "Accuracy: 0.32\n",
      "Precision: 0.32000172135177685\n",
      "Recall: 0.32\n",
      "F1 Score: 0.3133084587432364\n",
      "balanced accuracy: 0.24611987943997926\n",
      "\n",
      "Metrics for the second-to-last column:\n",
      "Accuracy: 0.412\n",
      "Precision: 0.4075234558544903\n",
      "Recall: 0.412\n",
      "F1 Score: 0.4093380486790097\n",
      "balanced accuracy: 0.3815946925703024\n"
     ]
    }
   ],
   "source": [
    "\n",
    "print(\"\\nMetrics for the last column:\")\n",
    "print(\"Accuracy:\", accuracy_last1)\n",
    "print(\"Precision:\", precision_last1)\n",
    "print(\"Recall:\", recall_last1)\n",
    "print(\"F1 Score:\", f1_last1)\n",
    "print(\"balanced accuracy:\", balanced_acc_last1)\n",
    "\n",
    "print(\"\\nMetrics for the second-to-last column:\")\n",
    "print(\"Accuracy:\", accuracy_last2)\n",
    "print(\"Precision:\", precision_last2)\n",
    "print(\"Recall:\", recall_last2)\n",
    "print(\"F1 Score:\", f1_last2)\n",
    "print(\"balanced accuracy:\", balanced_acc_last2)\n",
    "\n",
    "print('\\n-------------------------REMOVING UNKNOWNS ---------------------------')\n",
    "\n",
    "print(\"\\nMetrics for the last column:\")\n",
    "print(\"Accuracy:\", accuracy_last1_2)\n",
    "print(\"Precision:\", precision_last1_2)\n",
    "print(\"Recall:\", recall_last1_2)\n",
    "print(\"F1 Score:\", f1_last1_2)\n",
    "print(\"balanced accuracy:\", balanced_acc_last1_2)\n",
    "\n",
    "print(\"\\nMetrics for the second-to-last column:\")\n",
    "print(\"Accuracy:\", accuracy_last2_2)\n",
    "print(\"Precision:\", precision_last2_2)\n",
    "print(\"Recall:\", recall_last2_2)\n",
    "print(\"F1 Score:\", f1_last2_2)\n",
    "print(\"balanced accuracy:\", balanced_acc_last2_2)"
   ]
  }
 ],
 "metadata": {
  "kernelspec": {
   "display_name": "base",
   "language": "python",
   "name": "python3"
  },
  "language_info": {
   "codemirror_mode": {
    "name": "ipython",
    "version": 3
   },
   "file_extension": ".py",
   "mimetype": "text/x-python",
   "name": "python",
   "nbconvert_exporter": "python",
   "pygments_lexer": "ipython3",
   "version": "3.11.5"
  }
 },
 "nbformat": 4,
 "nbformat_minor": 2
}
