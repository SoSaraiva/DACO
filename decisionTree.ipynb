{
 "cells": [
  {
   "cell_type": "markdown",
   "metadata": {},
   "source": [
    "# Decision Tree Classifier"
   ]
  },
  {
   "cell_type": "code",
   "execution_count": 1,
   "metadata": {},
   "outputs": [],
   "source": [
    "# Import necessary libraries\n",
    "\n",
    "import numpy as np\n",
    "import matplotlib.pyplot as plt\n",
    "import pandas as pd\n",
    "\n",
    "from sklearn.model_selection import train_test_split, KFold, cross_val_score\n",
    "from sklearn.multioutput import MultiOutputClassifier\n",
    "from sklearn import tree\n",
    "from sklearn.metrics import balanced_accuracy_score, classification_report\n",
    "from sklearn.preprocessing import LabelEncoder\n",
    "\n"
   ]
  },
  {
   "cell_type": "code",
   "execution_count": 2,
   "metadata": {},
   "outputs": [],
   "source": [
    "# Load dataset\n",
    "dataset= pd.read_csv('dataset.csv')\n",
    "\n",
    "# Replace 'Unknown' with NaN in Target\n",
    "dataset['Genetic Disorder'].replace('Unknown', np.nan, inplace=True)\n",
    "dataset['Disorder Subclass'].replace('Unknown', np.nan, inplace=True)\n",
    "# Eliminate samples of NaN targets\n",
    "dataset.dropna(inplace=True)\n",
    "\n",
    "\n",
    "# Encode categorical variables\n",
    "label_encoder = LabelEncoder()\n",
    "\n",
    "# List of categorical columns to encode\n",
    "categorical_unordered_columns = [\n",
    "    'Genes in mother\\'s side', 'Inherited from father', 'Maternal gene', 'Paternal gene', 'Status',\n",
    "    'Respiratory Rate (breaths/min)', 'Heart Rate (rates/min)', 'Follow-up',\n",
    "    'Gender', 'Birth asphyxia', 'Autopsy shows birth defect (if applicable)', 'Place of birth',\n",
    "    'Folic acid details (peri-conceptional)',\n",
    "    'H/O serious maternal illness', 'H/O radiation exposure (x-ray)', 'H/O substance abuse', \n",
    "    'Assisted conception IVF/ART', 'History of anomalies in previous pregnancies',\n",
    "    'Birth defects', 'Blood test result',\n",
    "    'Symptom 1', 'Symptom 2', 'Symptom 3', 'Symptom 4', 'Symptom 5', \n",
    "    'Genetic Disorder', 'Disorder Subclass'\n",
    "]\n",
    "\n",
    "quantitative_with_unknowns_or_ordered_columns = [\n",
    "    'Patient Age', \"Mother's age\", \"Father's age\", 'No. of previous abortion',\n",
    "    'White Blood cell count (thousand per microliter)']\n",
    "\n",
    "dataset_encoded=dataset.copy()\n",
    "\n",
    "for column in quantitative_with_unknowns_or_ordered_columns:\n",
    "    dataset_encoded[column] = label_encoder.fit_transform(dataset_encoded[column].astype(str))\n",
    "dataset=pd.get_dummies(dataset_encoded, columns=categorical_unordered_columns, drop_first=False)\n",
    "\n",
    "\n",
    "# Alocate features and labels\n",
    "X = dataset.iloc[:, :-12]  # Features\n",
    "y = dataset.iloc[:, -12:]  # Labels (last two columns encoded into 3+9)\n",
    "\n",
    "\n",
    "# Split the data into validation, validation and test\n",
    "X_train, X_test, y_train, y_test = train_test_split(X, y, train_size=0.75,  random_state=1) # training as 75% \n",
    "    "
   ]
  },
  {
   "cell_type": "code",
   "execution_count": 3,
   "metadata": {},
   "outputs": [
    {
     "name": "stdout",
     "output_type": "stream",
     "text": [
      "Cross-validated scores: [0.06058367 0.06243074 0.0439601  0.04617658 0.05319542]\n",
      "Mean cross-validated score: 0.053269301810121905\n"
     ]
    }
   ],
   "source": [
    "# Select and train model of classifier\n",
    "\n",
    "# Best Hyperparameters: {'estimator__criterion': 'gini', 'estimator__max_depth': 10, 'estimator__max_features': None, 'estimator__min_samples_leaf': 1, 'estimator__min_samples_split': 10, 'estimator__splitter': 'random'}\n",
    "# Best Mean Accuracy: 0.2690801625415589\n",
    "\n",
    "dt = MultiOutputClassifier(tree.DecisionTreeClassifier(criterion= 'gini', max_depth= 10, max_features= None, min_samples_leaf= 1, min_samples_split= 10, splitter = 'random', random_state = 1))\n",
    "\n",
    "kf = KFold(n_splits=5, shuffle=True, random_state=1)\n",
    "\n",
    "cv_scores = cross_val_score(dt, X_train, y_train, cv=kf)\n",
    "\n",
    "print(\"Cross-validated scores:\", cv_scores)\n",
    "print(\"Mean cross-validated score:\", cv_scores.mean())\n",
    "\n",
    "dt.fit(X_train, y_train)\n",
    "\n",
    "y_pred = dt.predict(X_test) \n"
   ]
  },
  {
   "cell_type": "code",
   "execution_count": 4,
   "metadata": {},
   "outputs": [],
   "source": [
    "# Get 12 targets to evaluate model\n",
    "y_test_columns = y_test.columns[-12:] \n",
    "y_pred_columns = y_pred[:, -12:]\n",
    "\n",
    "balanced_acc_scores_ = {}\n",
    "\n",
    "for i, column in enumerate(y_test_columns):\n",
    "    y_test_ = y_test[column]\n",
    "    y_pred_ = y_pred_columns[:, i]\n",
    "    \n",
    "    balanced_acc_scores_[column] = balanced_accuracy_score(y_test_, y_pred_)\n",
    "\n"
   ]
  },
  {
   "cell_type": "markdown",
   "metadata": {},
   "source": [
    "# Use dataset without Unknown values"
   ]
  },
  {
   "cell_type": "code",
   "execution_count": 5,
   "metadata": {},
   "outputs": [],
   "source": [
    "# Train models without unknown data\n",
    "\n",
    "# Replace 'Unknown' with NaN\n",
    "dataset.replace('Unknown', np.nan, inplace=True)\n",
    "\n",
    "dataset.dropna(inplace=True)"
   ]
  },
  {
   "cell_type": "code",
   "execution_count": 6,
   "metadata": {},
   "outputs": [],
   "source": [
    "# Alocate features and labels\n",
    "\n",
    "X = dataset.iloc[:, :-12]  # Features\n",
    "y = dataset.iloc[:, -12:]  # Labels (last two columns encoded into 3+9)\n",
    "\n",
    "# split the data into validation, validation and test\n",
    "\n",
    "X_train, X_test, y_train, y_test = train_test_split(X, y, train_size=0.75,  random_state=1) # training as 75%"
   ]
  },
  {
   "cell_type": "code",
   "execution_count": 7,
   "metadata": {},
   "outputs": [
    {
     "name": "stdout",
     "output_type": "stream",
     "text": [
      "Cross-validated scores: [0.06058367 0.06243074 0.0439601  0.04617658 0.05319542]\n",
      "Mean cross-validated score: 0.053269301810121905\n"
     ]
    }
   ],
   "source": [
    "# Select and train model of classifier\n",
    "\n",
    "# Best Hyperparameters: {'estimator__criterion': 'gini', 'estimator__max_depth': 10, 'estimator__max_features': None, 'estimator__min_samples_leaf': 1, 'estimator__min_samples_split': 10, 'estimator__splitter': 'random'}\n",
    "# Best Mean Accuracy: 0.2690801625415589\n",
    "\n",
    "dt = MultiOutputClassifier(tree.DecisionTreeClassifier(criterion= 'gini', max_depth= 10, max_features= None, min_samples_leaf= 1, min_samples_split= 10, splitter = 'random', random_state = 1))\n",
    "\n",
    "kf = KFold(n_splits=5, shuffle=True, random_state=1)  \n",
    "\n",
    "cv_scores = cross_val_score(dt, X_train, y_train, cv=kf)\n",
    "\n",
    "print(\"Cross-validated scores:\", cv_scores)\n",
    "print(\"Mean cross-validated score:\", cv_scores.mean())\n",
    "\n",
    "dt.fit(X_train, y_train)\n",
    "\n",
    "y_pred = dt.predict(X_test) \n"
   ]
  },
  {
   "cell_type": "code",
   "execution_count": 8,
   "metadata": {},
   "outputs": [],
   "source": [
    "# Get 12 targets to evaluate model\n",
    "y_test_columns = y_test.columns[-12:] \n",
    "y_pred_columns = y_pred[:, -12:]\n",
    "\n",
    "balanced_acc_scores_new = {}\n",
    "\n",
    "for i, column in enumerate(y_test_columns):\n",
    "    y_test_new = y_test[column]\n",
    "    y_pred_new = y_pred_columns[:, i]\n",
    "    \n",
    "    balanced_acc_scores_new[column] = balanced_accuracy_score(y_test_new, y_pred_new)\n"
   ]
  },
  {
   "cell_type": "code",
   "execution_count": 9,
   "metadata": {},
   "outputs": [
    {
     "name": "stdout",
     "output_type": "stream",
     "text": [
      "\n",
      "Classification Report:\n",
      "              precision    recall  f1-score   support\n",
      "\n",
      "       False       0.88      0.93      0.90      3874\n",
      "        True       0.33      0.20      0.25       638\n",
      "\n",
      "    accuracy                           0.83      4512\n",
      "   macro avg       0.60      0.56      0.57      4512\n",
      "weighted avg       0.80      0.83      0.81      4512\n",
      "\n",
      "Balanced Accuracy for Genetic Disorder_Mitochondrial genetic inheritance disorders: 0.6425133221053974\n",
      "Balanced Accuracy for Genetic Disorder_Multifactorial genetic inheritance disorders: 0.5769690292337931\n",
      "Balanced Accuracy for Genetic Disorder_Single-gene inheritance diseases: 0.5367640595608529\n",
      "Balanced Accuracy for Disorder Subclass_Alzheimer's: 0.5131696428571428\n",
      "Balanced Accuracy for Disorder Subclass_Cancer: 0.5889046365661065\n",
      "Balanced Accuracy for Disorder Subclass_Cystic fibrosis: 0.6139036813871077\n",
      "Balanced Accuracy for Disorder Subclass_Diabetes: 0.5541720469778024\n",
      "Balanced Accuracy for Disorder Subclass_Hemochromatosis: 0.5805461951280393\n",
      "Balanced Accuracy for Disorder Subclass_Leber's hereditary optic neuropathy: 0.5360329444063143\n",
      "Balanced Accuracy for Disorder Subclass_Leigh syndrome: 0.5171093099591445\n",
      "Balanced Accuracy for Disorder Subclass_Mitochondrial myopathy: 0.531538856555974\n",
      "Balanced Accuracy for Disorder Subclass_Tay-Sachs: 0.564921597726504\n",
      "\n",
      "-------------------------REMOVING UNKNOWNS ---------------------------\n",
      "\n",
      "Classification Report:\n",
      "              precision    recall  f1-score   support\n",
      "\n",
      "       False       0.88      0.93      0.90      3874\n",
      "        True       0.33      0.20      0.25       638\n",
      "\n",
      "    accuracy                           0.83      4512\n",
      "   macro avg       0.60      0.56      0.57      4512\n",
      "weighted avg       0.80      0.83      0.81      4512\n",
      "\n",
      "Balanced Accuracy for Genetic Disorder_Mitochondrial genetic inheritance disorders: 0.6425133221053974\n",
      "Balanced Accuracy for Genetic Disorder_Multifactorial genetic inheritance disorders: 0.5769690292337931\n",
      "Balanced Accuracy for Genetic Disorder_Single-gene inheritance diseases: 0.5367640595608529\n",
      "Balanced Accuracy for Disorder Subclass_Alzheimer's: 0.5131696428571428\n",
      "Balanced Accuracy for Disorder Subclass_Cancer: 0.5889046365661065\n",
      "Balanced Accuracy for Disorder Subclass_Cystic fibrosis: 0.6139036813871077\n",
      "Balanced Accuracy for Disorder Subclass_Diabetes: 0.5541720469778024\n",
      "Balanced Accuracy for Disorder Subclass_Hemochromatosis: 0.5805461951280393\n",
      "Balanced Accuracy for Disorder Subclass_Leber's hereditary optic neuropathy: 0.5360329444063143\n",
      "Balanced Accuracy for Disorder Subclass_Leigh syndrome: 0.5171093099591445\n",
      "Balanced Accuracy for Disorder Subclass_Mitochondrial myopathy: 0.531538856555974\n",
      "Balanced Accuracy for Disorder Subclass_Tay-Sachs: 0.564921597726504\n"
     ]
    }
   ],
   "source": [
    "# Metrics and information for each output column\n",
    "print('\\nClassification Report:')\n",
    "print(classification_report(y_test_, y_pred_))\n",
    "for column, score in balanced_acc_scores_.items():\n",
    "    print(f'Balanced Accuracy for {column}: {score}')\n",
    "\n",
    "print('\\n-------------------------REMOVING UNKNOWNS ---------------------------')\n",
    "\n",
    "print('\\nClassification Report:')\n",
    "print(classification_report(y_test_new, y_pred_new))\n",
    "\n",
    "for column, score in balanced_acc_scores_new.items():\n",
    "    print(f'Balanced Accuracy for {column}: {score}')\n"
   ]
  },
  {
   "cell_type": "markdown",
   "metadata": {},
   "source": [
    "# Tuning Hyperparameters"
   ]
  },
  {
   "cell_type": "code",
   "execution_count": 10,
   "metadata": {},
   "outputs": [
    {
     "ename": "NameError",
     "evalue": "name 'ParameterGrid' is not defined",
     "output_type": "error",
     "traceback": [
      "\u001b[1;31m---------------------------------------------------------------------------\u001b[0m",
      "\u001b[1;31mNameError\u001b[0m                                 Traceback (most recent call last)",
      "Cell \u001b[1;32mIn[10], line 13\u001b[0m\n\u001b[0;32m     10\u001b[0m dt \u001b[38;5;241m=\u001b[39m MultiOutputClassifier(tree\u001b[38;5;241m.\u001b[39mDecisionTreeClassifier())\n\u001b[0;32m     12\u001b[0m \u001b[38;5;66;03m# Generate all combinations\u001b[39;00m\n\u001b[1;32m---> 13\u001b[0m grid \u001b[38;5;241m=\u001b[39m ParameterGrid(param_grid)\n\u001b[0;32m     16\u001b[0m all_mean_scores \u001b[38;5;241m=\u001b[39m []\n\u001b[0;32m     17\u001b[0m \u001b[38;5;28;01mfor\u001b[39;00m params \u001b[38;5;129;01min\u001b[39;00m grid:\n",
      "\u001b[1;31mNameError\u001b[0m: name 'ParameterGrid' is not defined"
     ]
    }
   ],
   "source": [
    "param_grid = {\n",
    "    'estimator__criterion': ['gini', 'entropy'],\n",
    "    'estimator__splitter': ['best', 'random'],\n",
    "    'estimator__max_depth': [None, 10, 20, 30],\n",
    "    'estimator__min_samples_split': [2, 5, 10],\n",
    "    'estimator__min_samples_leaf': [1, 2, 4],\n",
    "    'estimator__max_features': [None, 'sqrt', 'log2']\n",
    "}\n",
    "\n",
    "dt = MultiOutputClassifier(tree.DecisionTreeClassifier())\n",
    "\n",
    "# Generate all combinations\n",
    "grid = ParameterGrid(param_grid)\n",
    "\n",
    "\n",
    "all_mean_scores = []\n",
    "for params in grid:\n",
    "    dt.set_params(**params)\n",
    "\n",
    "    scores = cross_val_score(dt, X_train, y_train, cv=5)\n",
    "  \n",
    "    # Calculate mean accuracy\n",
    "    mean_accuracy = scores.mean()\n",
    "    all_mean_scores.append((params, mean_accuracy))\n",
    "    \n",
    "    print(f'Parameters: {params}, Mean Accuracy: {mean_accuracy}')\n",
    "\n",
    "# Find the best hyperparameters based on the highest mean accuracy\n",
    "best_params, best_mean_accuracy = max(all_mean_scores, key=lambda x: x[1])\n",
    "\n",
    "print(\"Best Hyperparameters:\", best_params)\n",
    "print(\"Best Mean Accuracy:\", best_mean_accuracy)"
   ]
  }
 ],
 "metadata": {
  "kernelspec": {
   "display_name": "base",
   "language": "python",
   "name": "python3"
  },
  "language_info": {
   "codemirror_mode": {
    "name": "ipython",
    "version": 3
   },
   "file_extension": ".py",
   "mimetype": "text/x-python",
   "name": "python",
   "nbconvert_exporter": "python",
   "pygments_lexer": "ipython3",
   "version": "3.11.5"
  }
 },
 "nbformat": 4,
 "nbformat_minor": 2
}
