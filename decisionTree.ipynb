{
 "cells": [
  {
   "cell_type": "markdown",
   "metadata": {},
   "source": [
    "# Decision Tree Classifier"
   ]
  },
  {
   "cell_type": "code",
   "execution_count": 6,
   "metadata": {},
   "outputs": [],
   "source": [
    "# Import necessary libraries\n",
    "\n",
    "import numpy as np\n",
    "import matplotlib.pyplot as plt\n",
    "import pandas as pd\n",
    "\n",
    "from sklearn.model_selection import train_test_split, cross_val_score\n",
    "from sklearn.multioutput import MultiOutputClassifier\n",
    "from sklearn import tree\n",
    "from sklearn.metrics import balanced_accuracy_score, classification_report, confusion_matrix\n"
   ]
  },
  {
   "cell_type": "code",
   "execution_count": 7,
   "metadata": {},
   "outputs": [],
   "source": [
    "# Load dataset\n",
    "\n",
    "dataset= pd.read_csv('dataset.csv')\n",
    "\n",
    "# Replace 'Unknown' with NaN in Target\n",
    "dataset['Genetic Disorder'].replace('Unknown', np.nan, inplace=True)\n",
    "dataset['Disorder Subclass'].replace('Unknown', np.nan, inplace=True)\n",
    "\n",
    "dataset.dropna(inplace=True)\n",
    "\n",
    "# Alocate features and labels\n",
    "\n",
    "X = dataset.iloc[:, :-2]  # Features\n",
    "y = dataset.iloc[:, -2:]  # Labels (last two columns)\n",
    "\n",
    "# Perform one-hot encoding on the categorical features\n",
    "X = pd.get_dummies(X, drop_first=True)\n",
    "# drop_first is used to drop one of the columns for each categorical feature to avoid multicollinearity.\n",
    "\n",
    "# Check if the target variable has more than 2 classes\n",
    "if y.nunique().any() > 2:\n",
    "    y = pd.get_dummies(y, drop_first=True)\n",
    "    "
   ]
  },
  {
   "cell_type": "code",
   "execution_count": 8,
   "metadata": {},
   "outputs": [
    {
     "name": "stdout",
     "output_type": "stream",
     "text": [
      "Cross-Validation Scores: [0.20724049 0.19468046 0.20243812 0.20908755 0.20206871]\n",
      "Mean Cross-Validation Score: 0.20310306612486148\n"
     ]
    }
   ],
   "source": [
    "# Split the data into validation, validation and test\n",
    "\n",
    "X_train, X_test, y_train, y_test = train_test_split(X, y, train_size=0.75,  random_state=1) # training as 75% \n",
    "\n",
    "\n",
    "# Select and train model of classifier\n",
    "\n",
    "dt = MultiOutputClassifier(tree.DecisionTreeClassifier(splitter = 'random', random_state = 1))\n",
    "# evaluate the change of the criterion from gini to entropy?\n",
    "\n",
    "# Perform cross-validation\n",
    "cv_scores = cross_val_score(dt, X_train, y_train, cv=5) # 5-fold cross-validation\n",
    "\n",
    "print(\"Cross-Validation Scores:\", cv_scores)\n",
    "print(\"Mean Cross-Validation Score:\", cv_scores.mean())\n",
    "\n",
    "\n",
    "dt.fit(X_train, y_train)\n",
    "\n",
    "y_pred = dt.predict(X_test) \n"
   ]
  },
  {
   "cell_type": "code",
   "execution_count": 9,
   "metadata": {},
   "outputs": [],
   "source": [
    "# Separate the multi output targets\n",
    "y_test_last1 = y_test.iloc[:, -1]\n",
    "y_test_last2 = y_test.iloc[:, -2]\n",
    "\n",
    "y_pred_last1 = y_pred[:, -1]\n",
    "y_pred_last2 = y_pred[:, -2]\n",
    "\n",
    "# Evaluate the model\n",
    "\n",
    "balanced_acc_last1 = balanced_accuracy_score(y_test_last1, y_pred_last1)\n",
    "balanced_acc_last2 = balanced_accuracy_score(y_test_last2, y_pred_last2)\n"
   ]
  },
  {
   "cell_type": "markdown",
   "metadata": {},
   "source": [
    "# Use dataset without Unknown values"
   ]
  },
  {
   "cell_type": "code",
   "execution_count": 10,
   "metadata": {},
   "outputs": [],
   "source": [
    "# Train models without unknown data\n",
    "\n",
    "# Replace 'Unknown' with NaN\n",
    "dataset.replace('Unknown', np.nan, inplace=True)\n",
    "\n",
    "dataset.dropna(inplace=True)"
   ]
  },
  {
   "cell_type": "code",
   "execution_count": 11,
   "metadata": {},
   "outputs": [],
   "source": [
    "# Alocate features and labels\n",
    "\n",
    "X = dataset.iloc[:, :-2]  # Features\n",
    "y = dataset.iloc[:, -2:]  # Labels (last two columns)\n",
    "\n",
    "# Perform one-hot encoding on the categorical features\n",
    "X = pd.get_dummies(X, drop_first=True)\n",
    "# drop_first is used to drop one of the columns for each categorical feature to avoid multicollinearity.\n",
    "\n",
    "# Check if the target variable has more than 2 classes\n",
    "if y.nunique().any() > 2:\n",
    "    y = pd.get_dummies(y, drop_first=True)\n",
    "\n",
    "# split the data into validation, validation and test\n",
    "\n",
    "X_train, X_test, y_train, y_test = train_test_split(X, y, train_size=0.75,  random_state=1) # training as 75%"
   ]
  },
  {
   "cell_type": "code",
   "execution_count": 12,
   "metadata": {},
   "outputs": [],
   "source": [
    "# Select and train model of classifier\n",
    "\n",
    "dt = MultiOutputClassifier(tree.DecisionTreeClassifier(splitter = 'random', random_state = 1))\n",
    "# evaluate the change of the criterion from gini to entropy?\n",
    "\n",
    "dt.fit(X_train, y_train)\n",
    "\n",
    "y_pred = dt.predict(X_test) \n"
   ]
  },
  {
   "cell_type": "code",
   "execution_count": 13,
   "metadata": {},
   "outputs": [],
   "source": [
    "# Separate the multi output targets\n",
    "y_test_last1_new = y_test.iloc[:, -1]\n",
    "y_test_last2_new = y_test.iloc[:, -2]\n",
    "\n",
    "y_pred_last1_new = y_pred[:, -1]\n",
    "y_pred_last2_new = y_pred[:, -2]\n",
    "\n",
    "# Evaluate the model\n",
    "\n",
    "balanced_acc_last1_new = balanced_accuracy_score(y_test_last2_new, y_pred_last2_new)\n",
    "balanced_acc_last2_new = balanced_accuracy_score(y_test_last2_new, y_pred_last2_new)\n"
   ]
  },
  {
   "cell_type": "code",
   "execution_count": 14,
   "metadata": {},
   "outputs": [
    {
     "data": {
      "text/plain": [
       "\"\\nmetrics_dict = {\\n    'Model': 'Decision Tree - W/ Unknowns',\\n\\n    # Metrics for the original dataset\\n    'Scenario': 'Original',\\n    'Balanced Accuracy (Last Column)': balanced_acc_last1,\\n    'Balanced Accuracy (Second to Last Column)': balanced_acc_last2,\\n    'Classification Report (Last Column)': classification_report(y_test_last1, y_pred_last1),\\n    'Classification Report (Second to Last Column)': classification_report(y_test_last2, y_pred_last2),\\n\\n    # Metrics for the dataset without samples with unknown values\\n    'Scenario': 'Decision Tree - Removed Unknowns',\\n    'Balanced Accuracy (Last Column)': balanced_acc_last1_new,\\n    'Balanced Accuracy (Second to Last Column)': balanced_acc_last2_new,\\n    'Classification Report (Last Column)': classification_report(y_test_last1_new, y_pred_last1_new),\\n    'Classification Report (Second to Last Column)': classification_report(y_test_last2_new, y_pred_last2_new),\\n}\\n\\n# Convert the dictionary to a Pandas DataFrame\\nmetrics_df = pd.DataFrame(metrics_dict.items(), columns=['Metric', 'Value'])\\n\\n# Save the DataFrame to an Excel file\\nfile_path = 'metrics_report.csv'\\nmetrics_df.to_csv(file_path, index=False)\\n\""
      ]
     },
     "execution_count": 14,
     "metadata": {},
     "output_type": "execute_result"
    }
   ],
   "source": [
    "# Metrics and information for each output column\n",
    "'''\n",
    "metrics_dict = {\n",
    "    'Model': 'Decision Tree - W/ Unknowns',\n",
    "\n",
    "    # Metrics for the original dataset\n",
    "    'Scenario': 'Original',\n",
    "    'Balanced Accuracy (Last Column)': balanced_acc_last1,\n",
    "    'Balanced Accuracy (Second to Last Column)': balanced_acc_last2,\n",
    "    'Classification Report (Last Column)': classification_report(y_test_last1, y_pred_last1),\n",
    "    'Classification Report (Second to Last Column)': classification_report(y_test_last2, y_pred_last2),\n",
    "\n",
    "    # Metrics for the dataset without samples with unknown values\n",
    "    'Scenario': 'Decision Tree - Removed Unknowns',\n",
    "    'Balanced Accuracy (Last Column)': balanced_acc_last1_new,\n",
    "    'Balanced Accuracy (Second to Last Column)': balanced_acc_last2_new,\n",
    "    'Classification Report (Last Column)': classification_report(y_test_last1_new, y_pred_last1_new),\n",
    "    'Classification Report (Second to Last Column)': classification_report(y_test_last2_new, y_pred_last2_new),\n",
    "}\n",
    "\n",
    "# Convert the dictionary to a Pandas DataFrame\n",
    "metrics_df = pd.DataFrame(metrics_dict.items(), columns=['Metric', 'Value'])\n",
    "\n",
    "# Save the DataFrame to an Excel file\n",
    "file_path = 'metrics_report.csv'\n",
    "metrics_df.to_csv(file_path, index=False)\n",
    "'''"
   ]
  },
  {
   "cell_type": "code",
   "execution_count": 15,
   "metadata": {},
   "outputs": [
    {
     "name": "stdout",
     "output_type": "stream",
     "text": [
      "\n",
      "Classification Report (Last Column):\n",
      "                                     precision    recall  f1-score   support\n",
      "\n",
      "                        Alzheimer's       0.11      0.12      0.12        32\n",
      "                             Cancer       0.07      0.05      0.05        22\n",
      "                    Cystic fibrosis       0.36      0.39      0.38       745\n",
      "                           Diabetes       0.28      0.26      0.27       417\n",
      "                    Hemochromatosis       0.29      0.27      0.28       315\n",
      "Leber's hereditary optic neuropathy       0.24      0.23      0.23       141\n",
      "                     Leigh syndrome       0.38      0.37      0.38      1186\n",
      "             Mitochondrial myopathy       0.31      0.33      0.32      1016\n",
      "                          Tay-Sachs       0.27      0.25      0.26       638\n",
      "\n",
      "                           accuracy                           0.32      4512\n",
      "                          macro avg       0.26      0.25      0.25      4512\n",
      "                       weighted avg       0.32      0.32      0.32      4512\n",
      "\n",
      "balanced accuracy: 0.25286414662923923\n",
      "\n",
      "Classification Report (Second to Last Column):\n",
      "                                              precision    recall  f1-score   support\n",
      "\n",
      " Mitochondrial genetic inheritance disorders       0.61      0.64      0.62      2343\n",
      "Multifactorial genetic inheritance disorders       0.31      0.29      0.30       471\n",
      "            Single-gene inheritance diseases       0.45      0.44      0.44      1698\n",
      "\n",
      "                                    accuracy                           0.53      4512\n",
      "                                   macro avg       0.46      0.45      0.46      4512\n",
      "                                weighted avg       0.52      0.53      0.52      4512\n",
      "\n",
      "balanced accuracy: 0.4533583604943184\n",
      "\n",
      "-------------------------REMOVING UNKNOWNS ---------------------------\n",
      "\n",
      "Classification Report (Last Column):\n",
      "                                     precision    recall  f1-score   support\n",
      "\n",
      "                        Alzheimer's       0.00      0.00      0.00         1\n",
      "                             Cancer       0.00      0.00      0.00         0\n",
      "                    Cystic fibrosis       0.32      0.31      0.31        45\n",
      "                           Diabetes       0.27      0.32      0.29        25\n",
      "                    Hemochromatosis       0.36      0.24      0.29        17\n",
      "Leber's hereditary optic neuropathy       0.00      0.00      0.00        10\n",
      "                     Leigh syndrome       0.26      0.31      0.28        59\n",
      "             Mitochondrial myopathy       0.35      0.40      0.37        62\n",
      "                          Tay-Sachs       0.21      0.12      0.16        32\n",
      "\n",
      "                           accuracy                           0.29       251\n",
      "                          macro avg       0.20      0.19      0.19       251\n",
      "                       weighted avg       0.28      0.29      0.28       251\n",
      "\n",
      "balanced accuracy: 0.3999700153671244\n",
      "\n",
      "Classification Report (Second to Last Column):\n",
      "                                              precision    recall  f1-score   support\n",
      "\n",
      " Mitochondrial genetic inheritance disorders       0.60      0.56      0.58       131\n",
      "Multifactorial genetic inheritance disorders       0.24      0.23      0.24        26\n",
      "            Single-gene inheritance diseases       0.37      0.40      0.39        94\n",
      "\n",
      "                                    accuracy                           0.47       251\n",
      "                                   macro avg       0.40      0.40      0.40       251\n",
      "                                weighted avg       0.48      0.47      0.47       251\n",
      "\n",
      "balanced accuracy: 0.3999700153671244\n"
     ]
    },
    {
     "name": "stderr",
     "output_type": "stream",
     "text": [
      "c:\\Users\\Sofia\\miniconda3\\Lib\\site-packages\\sklearn\\metrics\\_classification.py:1471: UndefinedMetricWarning: Recall and F-score are ill-defined and being set to 0.0 in labels with no true samples. Use `zero_division` parameter to control this behavior.\n",
      "  _warn_prf(average, modifier, msg_start, len(result))\n",
      "c:\\Users\\Sofia\\miniconda3\\Lib\\site-packages\\sklearn\\metrics\\_classification.py:1471: UndefinedMetricWarning: Recall and F-score are ill-defined and being set to 0.0 in labels with no true samples. Use `zero_division` parameter to control this behavior.\n",
      "  _warn_prf(average, modifier, msg_start, len(result))\n",
      "c:\\Users\\Sofia\\miniconda3\\Lib\\site-packages\\sklearn\\metrics\\_classification.py:1471: UndefinedMetricWarning: Recall and F-score are ill-defined and being set to 0.0 in labels with no true samples. Use `zero_division` parameter to control this behavior.\n",
      "  _warn_prf(average, modifier, msg_start, len(result))\n"
     ]
    }
   ],
   "source": [
    "# Metrics and information for each output column\n",
    "print('\\nClassification Report (Last Column):')\n",
    "print(classification_report(y_test_last1, y_pred_last1))\n",
    "print(\"balanced accuracy:\", balanced_acc_last1)\n",
    "\n",
    "print('\\nClassification Report (Second to Last Column):')\n",
    "print(classification_report(y_test_last2, y_pred_last2))\n",
    "print(\"balanced accuracy:\", balanced_acc_last2)\n",
    "\n",
    "print('\\n-------------------------REMOVING UNKNOWNS ---------------------------')\n",
    "\n",
    "print('\\nClassification Report (Last Column):')\n",
    "print(classification_report(y_test_last1_new, y_pred_last1_new))\n",
    "print(\"balanced accuracy:\", balanced_acc_last1_new)\n",
    "\n",
    "print('\\nClassification Report (Second to Last Column):')\n",
    "print(classification_report(y_test_last2_new, y_pred_last2_new))\n",
    "print(\"balanced accuracy:\", balanced_acc_last2_new)"
   ]
  },
  {
   "cell_type": "markdown",
   "metadata": {},
   "source": [
    "# Identifying Unnecessary Features"
   ]
  },
  {
   "cell_type": "code",
   "execution_count": 17,
   "metadata": {},
   "outputs": [
    {
     "ename": "KeyError",
     "evalue": "0",
     "output_type": "error",
     "traceback": [
      "\u001b[1;31m---------------------------------------------------------------------------\u001b[0m",
      "\u001b[1;31mKeyError\u001b[0m                                  Traceback (most recent call last)",
      "File \u001b[1;32mc:\\Users\\Sofia\\miniconda3\\Lib\\site-packages\\pandas\\core\\indexes\\base.py:3653\u001b[0m, in \u001b[0;36mIndex.get_loc\u001b[1;34m(self, key)\u001b[0m\n\u001b[0;32m   3652\u001b[0m \u001b[38;5;28;01mtry\u001b[39;00m:\n\u001b[1;32m-> 3653\u001b[0m     \u001b[38;5;28;01mreturn\u001b[39;00m \u001b[38;5;28mself\u001b[39m\u001b[38;5;241m.\u001b[39m_engine\u001b[38;5;241m.\u001b[39mget_loc(casted_key)\n\u001b[0;32m   3654\u001b[0m \u001b[38;5;28;01mexcept\u001b[39;00m \u001b[38;5;167;01mKeyError\u001b[39;00m \u001b[38;5;28;01mas\u001b[39;00m err:\n",
      "File \u001b[1;32mc:\\Users\\Sofia\\miniconda3\\Lib\\site-packages\\pandas\\_libs\\index.pyx:147\u001b[0m, in \u001b[0;36mpandas._libs.index.IndexEngine.get_loc\u001b[1;34m()\u001b[0m\n",
      "File \u001b[1;32mc:\\Users\\Sofia\\miniconda3\\Lib\\site-packages\\pandas\\_libs\\index.pyx:176\u001b[0m, in \u001b[0;36mpandas._libs.index.IndexEngine.get_loc\u001b[1;34m()\u001b[0m\n",
      "File \u001b[1;32mpandas\\_libs\\hashtable_class_helper.pxi:7080\u001b[0m, in \u001b[0;36mpandas._libs.hashtable.PyObjectHashTable.get_item\u001b[1;34m()\u001b[0m\n",
      "File \u001b[1;32mpandas\\_libs\\hashtable_class_helper.pxi:7088\u001b[0m, in \u001b[0;36mpandas._libs.hashtable.PyObjectHashTable.get_item\u001b[1;34m()\u001b[0m\n",
      "\u001b[1;31mKeyError\u001b[0m: 0",
      "\nThe above exception was the direct cause of the following exception:\n",
      "\u001b[1;31mKeyError\u001b[0m                                  Traceback (most recent call last)",
      "Cell \u001b[1;32mIn[17], line 3\u001b[0m\n\u001b[0;32m      1\u001b[0m \u001b[38;5;28;01mimport\u001b[39;00m \u001b[38;5;21;01mseaborn\u001b[39;00m \u001b[38;5;28;01mas\u001b[39;00m \u001b[38;5;21;01msns\u001b[39;00m\n\u001b[1;32m----> 3\u001b[0m num_outputs \u001b[38;5;241m=\u001b[39m \u001b[38;5;28mlen\u001b[39m(y_test[\u001b[38;5;241m0\u001b[39m])  \u001b[38;5;66;03m# Assuming y_test is a list of arrays or a DataFrame with multiple columns\u001b[39;00m\n\u001b[0;32m      5\u001b[0m \u001b[38;5;66;03m# Create an empty confusion matrix to aggregate results for each output\u001b[39;00m\n\u001b[0;32m      6\u001b[0m aggregate_cm \u001b[38;5;241m=\u001b[39m np\u001b[38;5;241m.\u001b[39mzeros((num_outputs, num_outputs), dtype\u001b[38;5;241m=\u001b[39m\u001b[38;5;28mint\u001b[39m)\n",
      "File \u001b[1;32mc:\\Users\\Sofia\\miniconda3\\Lib\\site-packages\\pandas\\core\\frame.py:3761\u001b[0m, in \u001b[0;36mDataFrame.__getitem__\u001b[1;34m(self, key)\u001b[0m\n\u001b[0;32m   3759\u001b[0m \u001b[38;5;28;01mif\u001b[39;00m \u001b[38;5;28mself\u001b[39m\u001b[38;5;241m.\u001b[39mcolumns\u001b[38;5;241m.\u001b[39mnlevels \u001b[38;5;241m>\u001b[39m \u001b[38;5;241m1\u001b[39m:\n\u001b[0;32m   3760\u001b[0m     \u001b[38;5;28;01mreturn\u001b[39;00m \u001b[38;5;28mself\u001b[39m\u001b[38;5;241m.\u001b[39m_getitem_multilevel(key)\n\u001b[1;32m-> 3761\u001b[0m indexer \u001b[38;5;241m=\u001b[39m \u001b[38;5;28mself\u001b[39m\u001b[38;5;241m.\u001b[39mcolumns\u001b[38;5;241m.\u001b[39mget_loc(key)\n\u001b[0;32m   3762\u001b[0m \u001b[38;5;28;01mif\u001b[39;00m is_integer(indexer):\n\u001b[0;32m   3763\u001b[0m     indexer \u001b[38;5;241m=\u001b[39m [indexer]\n",
      "File \u001b[1;32mc:\\Users\\Sofia\\miniconda3\\Lib\\site-packages\\pandas\\core\\indexes\\base.py:3655\u001b[0m, in \u001b[0;36mIndex.get_loc\u001b[1;34m(self, key)\u001b[0m\n\u001b[0;32m   3653\u001b[0m     \u001b[38;5;28;01mreturn\u001b[39;00m \u001b[38;5;28mself\u001b[39m\u001b[38;5;241m.\u001b[39m_engine\u001b[38;5;241m.\u001b[39mget_loc(casted_key)\n\u001b[0;32m   3654\u001b[0m \u001b[38;5;28;01mexcept\u001b[39;00m \u001b[38;5;167;01mKeyError\u001b[39;00m \u001b[38;5;28;01mas\u001b[39;00m err:\n\u001b[1;32m-> 3655\u001b[0m     \u001b[38;5;28;01mraise\u001b[39;00m \u001b[38;5;167;01mKeyError\u001b[39;00m(key) \u001b[38;5;28;01mfrom\u001b[39;00m \u001b[38;5;21;01merr\u001b[39;00m\n\u001b[0;32m   3656\u001b[0m \u001b[38;5;28;01mexcept\u001b[39;00m \u001b[38;5;167;01mTypeError\u001b[39;00m:\n\u001b[0;32m   3657\u001b[0m     \u001b[38;5;66;03m# If we have a listlike key, _check_indexing_error will raise\u001b[39;00m\n\u001b[0;32m   3658\u001b[0m     \u001b[38;5;66;03m#  InvalidIndexError. Otherwise we fall through and re-raise\u001b[39;00m\n\u001b[0;32m   3659\u001b[0m     \u001b[38;5;66;03m#  the TypeError.\u001b[39;00m\n\u001b[0;32m   3660\u001b[0m     \u001b[38;5;28mself\u001b[39m\u001b[38;5;241m.\u001b[39m_check_indexing_error(key)\n",
      "\u001b[1;31mKeyError\u001b[0m: 0"
     ]
    }
   ],
   "source": [
    "import seaborn as sns\n",
    "\n",
    "num_outputs = len(y_test[0])  # Assuming y_test is a list of arrays or a DataFrame with multiple columns\n",
    "\n",
    "# Create an empty confusion matrix to aggregate results for each output\n",
    "aggregate_cm = np.zeros((num_outputs, num_outputs), dtype=int)\n",
    "\n",
    "# Iterate through each output and calculate confusion matrix\n",
    "for i in range(num_outputs):\n",
    "    cm_i = confusion_matrix(y_test[:, i], y_pred[:, i])\n",
    "    aggregate_cm += cm_i\n",
    "\n",
    "# Create a heatmap for the aggregated confusion matrix\n",
    "sns.heatmap(aggregate_cm, annot=True, fmt=\"d\", cmap=\"Blues\", annot_kws={\"size\": 14})\n",
    "plt.show()"
   ]
  }
 ],
 "metadata": {
  "kernelspec": {
   "display_name": "base",
   "language": "python",
   "name": "python3"
  },
  "language_info": {
   "codemirror_mode": {
    "name": "ipython",
    "version": 3
   },
   "file_extension": ".py",
   "mimetype": "text/x-python",
   "name": "python",
   "nbconvert_exporter": "python",
   "pygments_lexer": "ipython3",
   "version": "3.11.5"
  }
 },
 "nbformat": 4,
 "nbformat_minor": 2
}
