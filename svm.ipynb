{
  "nbformat": 4,
  "nbformat_minor": 0,
  "metadata": {
    "colab": {
      "provenance": [],
      "gpuType": "T4"
    },
    "kernelspec": {
      "name": "python3",
      "display_name": "Python 3"
    },
    "language_info": {
      "name": "python"
    },
    "accelerator": "GPU"
  },
  "cells": [
    {
      "cell_type": "code",
      "source": [
        "# Import necessary libraries\n",
        "\n",
        "import numpy as np\n",
        "import matplotlib.pyplot as plt\n",
        "import pandas as pd\n",
        "\n",
        "from sklearn.model_selection import train_test_split\n",
        "from sklearn import tree\n",
        "from sklearn.svm import SVC, SVR\n",
        "from sklearn.multioutput import MultiOutputClassifier\n",
        "from sklearn.metrics import confusion_matrix, classification_report, accuracy_score, precision_score, recall_score, f1_score, balanced_accuracy_score\n",
        "from sklearn.preprocessing import StandardScaler, LabelEncoder\n",
        "from sklearn.model_selection import cross_val_predict\n",
        "from sklearn.model_selection import StratifiedKFold\n",
        "from sklearn.metrics import classification_report"
      ],
      "metadata": {
        "id": "vqQxY73opUoD"
      },
      "execution_count": 54,
      "outputs": []
    },
    {
      "cell_type": "code",
      "source": [
        "# Load dataset\n",
        "df = pd.read_csv('dataset.csv')\n",
        "print(\"Dataset Size:\", df.shape)\n",
        "\n",
        "# Label encoder\n",
        "label_encoder = LabelEncoder()\n",
        "\n",
        "# Replace 'Unknown' with NaN\n",
        "df['Genetic Disorder'].replace('Unknown', np.nan, inplace=True)\n",
        "df['Disorder Subclass'].replace('Unknown', np.nan, inplace=True)\n",
        "\n",
        "df.dropna(inplace=True)"
      ],
      "metadata": {
        "colab": {
          "base_uri": "https://localhost:8080/"
        },
        "id": "9zliLJO9BK1D",
        "outputId": "717ab0f9-0368-4069-ed57-65d6d851313d"
      },
      "execution_count": 55,
      "outputs": [
        {
          "output_type": "stream",
          "name": "stdout",
          "text": [
            "Dataset Size: (22083, 33)\n"
          ]
        }
      ]
    },
    {
      "cell_type": "code",
      "source": [
        "categorical_unordered_columns = [\n",
        "    'Genes in mother\\'s side', 'Inherited from father', 'Maternal gene', 'Paternal gene',\n",
        "    'Gender', 'Birth asphyxia',\n",
        "    'Autopsy shows birth defect (if applicable)', 'Place of birth',\n",
        "    'Folic acid details (peri-conceptional)', 'H/O serious maternal illness',\n",
        "    'H/O radiation exposure (xUnknownray)', 'H/O substance abuse', 'Status',\n",
        "    'Assisted conception IVF/ART', 'History of anomalies in previous pregnancies',\n",
        "    'Symptom 1', 'Symptom 2', 'Symptom 3', 'Symptom 4', 'Symptom 5'\n",
        "]\n",
        "\n",
        "quantitative_with_unknowns_or_ordered_columns = ['Patient Age', \"Mother's age\", \"Father's age\", 'Respiratory Rate (breaths/min)',\n",
        "    'Heart Rate (rates/min)', 'Follow-up', 'No. of previous abortion',\n",
        "    'Birth defects', 'White Blood cell count (thousand per microliter)', 'Blood test result']\n",
        "\n",
        "\n",
        "df_encoded=df.copy()\n",
        "for column in quantitative_with_unknowns_or_ordered_columns:\n",
        "    df_encoded[column] = label_encoder.fit_transform(df_encoded[column].astype(str))\n",
        "df_encoded=pd.get_dummies(df_encoded, columns=categorical_unordered_columns, drop_first=False)"
      ],
      "metadata": {
        "id": "yhjPfny-BQsA"
      },
      "execution_count": 56,
      "outputs": []
    },
    {
      "cell_type": "markdown",
      "source": [
        "Run this following cell if you want to use features selection:"
      ],
      "metadata": {
        "id": "kSMZJSN8BXiA"
      }
    },
    {
      "cell_type": "code",
      "source": [
        "# With feature selection\n",
        "\n",
        "\n",
        "df=df[[\"Symptom 5\", \"Symptom 4\", \"Symptom 3\", \"Symptom 2\", \"Genes in mother's side\", \"Inherited from father\",\"Genetic Disorder\",\"Disorder Subclass\"]]\n",
        "\n",
        "df_encoded=df.copy()\n",
        "df_encoded=pd.get_dummies(df_encoded, columns=[\"Symptom 5\", \"Symptom 4\", \"Symptom 3\", \"Symptom 2\", \"Genes in mother's side\", \"Inherited from father\"], drop_first=False)"
      ],
      "metadata": {
        "id": "kREhuHV2BYY1"
      },
      "execution_count": 45,
      "outputs": []
    },
    {
      "cell_type": "code",
      "source": [
        "# Extract features and target\n",
        "X = df_encoded.drop(columns=['Genetic Disorder', 'Disorder Subclass'], axis=1)\n",
        "y = df_encoded[['Genetic Disorder','Disorder Subclass']]"
      ],
      "metadata": {
        "id": "T5iJ4O9TBb0C"
      },
      "execution_count": 57,
      "outputs": []
    },
    {
      "cell_type": "code",
      "source": [
        "# Check if the target variable has more than 2 classes\n",
        "if y['Genetic Disorder'].nunique() > 2:\n",
        "    label_encoder_gd = LabelEncoder()\n",
        "    y['Genetic Disorder'] = label_encoder_gd.fit_transform(y['Genetic Disorder'])\n",
        "\n",
        "if y['Disorder Subclass'].nunique() > 2:\n",
        "    label_encoder_ds = LabelEncoder()\n",
        "    y['Disorder Subclass'] = label_encoder_ds.fit_transform(y['Disorder Subclass'])"
      ],
      "metadata": {
        "colab": {
          "base_uri": "https://localhost:8080/"
        },
        "id": "-nUYqKaoBeBu",
        "outputId": "6c84ea11-b287-43df-e692-7b90557634d2"
      },
      "execution_count": 58,
      "outputs": [
        {
          "output_type": "stream",
          "name": "stderr",
          "text": [
            "<ipython-input-58-522f1949c820>:4: SettingWithCopyWarning: \n",
            "A value is trying to be set on a copy of a slice from a DataFrame.\n",
            "Try using .loc[row_indexer,col_indexer] = value instead\n",
            "\n",
            "See the caveats in the documentation: https://pandas.pydata.org/pandas-docs/stable/user_guide/indexing.html#returning-a-view-versus-a-copy\n",
            "  y['Genetic Disorder'] = label_encoder_gd.fit_transform(y['Genetic Disorder'])\n",
            "<ipython-input-58-522f1949c820>:8: SettingWithCopyWarning: \n",
            "A value is trying to be set on a copy of a slice from a DataFrame.\n",
            "Try using .loc[row_indexer,col_indexer] = value instead\n",
            "\n",
            "See the caveats in the documentation: https://pandas.pydata.org/pandas-docs/stable/user_guide/indexing.html#returning-a-view-versus-a-copy\n",
            "  y['Disorder Subclass'] = label_encoder_ds.fit_transform(y['Disorder Subclass'])\n"
          ]
        }
      ]
    },
    {
      "cell_type": "code",
      "source": [
        "# Scale features\n",
        "\n",
        "scaler = StandardScaler()\n",
        "X = scaler.fit_transform(X)"
      ],
      "metadata": {
        "id": "rMzYSPawBlLg"
      },
      "execution_count": 59,
      "outputs": []
    },
    {
      "cell_type": "code",
      "source": [
        "# Split the data into training and validation sets\n",
        "X_train, X_test, y_train, y_test = train_test_split(X, y, test_size=0.15, random_state=1)  # 75% for training\n"
      ],
      "metadata": {
        "id": "BfshqFsIBr_K"
      },
      "execution_count": 60,
      "outputs": []
    },
    {
      "cell_type": "markdown",
      "source": [
        "class weights manually balanced"
      ],
      "metadata": {
        "id": "xos54mH2ODHh"
      }
    },
    {
      "cell_type": "code",
      "source": [
        "# Get the class labels and their counts\n",
        "class_labels_gd = y['Genetic Disorder']\n",
        "class_counts_gd = class_labels_gd.value_counts()\n",
        "class_labels_ds = y['Disorder Subclass']\n",
        "class_counts_ds = class_labels_ds.value_counts()\n",
        "\n",
        "# Order class counts by class labels\n",
        "sorted_class_counts_gd = class_counts_gd.sort_index()\n",
        "sorted_class_counts_ds = class_counts_ds.sort_index()\n",
        "\n",
        "# Calculate class weights for Genetic Disorder\n",
        "total_samples_gd = len(class_labels_gd)\n",
        "num_classes_gd = len(sorted_class_counts_gd)\n",
        "class_weights_gd = {label: total_samples_gd / (num_classes_gd * count) for label, count in sorted_class_counts_gd.items()}\n",
        "print(\"Class Weights Genetic Disorder:\", class_weights_gd)\n",
        "\n",
        "# Calculate class weights for Disorder Subclass\n",
        "total_samples_ds = len(class_labels_ds)\n",
        "num_classes_ds = len(sorted_class_counts_ds)\n",
        "class_weights_ds = {label: total_samples_ds / (num_classes_ds * count) for label, count in sorted_class_counts_ds.items()}\n",
        "print(\"Class Weights Disorder Subclass:\", class_weights_ds)"
      ],
      "metadata": {
        "id": "rygegyqAOLbd"
      },
      "execution_count": null,
      "outputs": []
    },
    {
      "cell_type": "markdown",
      "source": [
        "class weights automatically balanced:"
      ],
      "metadata": {
        "id": "yL1T6YBaN97j"
      }
    },
    {
      "cell_type": "code",
      "source": [
        "# Select and train model of classifier\n",
        "svm_classifier = SVC(kernel='linear', random_state=1, class_weight='balanced')\n",
        "\n",
        "# Create MultiOutputClassifier\n",
        "clf = MultiOutputClassifier(svm_classifier)\n",
        "\n",
        "# Training Genetic Disorder\n",
        "clf.fit(X_train, y_train[['Genetic Disorder']])\n",
        "y_pred_gd = clf.predict(X_test)\n",
        "\n",
        "# Training Disorder Subclass\n",
        "clf.fit(X_train, y_train[['Disorder Subclass']])\n",
        "y_pred_ds = clf.predict(X_test)\n"
      ],
      "metadata": {
        "id": "McaF7HhACQUo"
      },
      "execution_count": 61,
      "outputs": []
    },
    {
      "cell_type": "code",
      "source": [
        "from sklearn.metrics import confusion_matrix, accuracy_score, precision_score, recall_score, f1_score, balanced_accuracy_score\n",
        "\n",
        "# Metrics for Genetic Disorder\n",
        "accuracy_gd = accuracy_score(y_test['Genetic Disorder'], y_pred_gd)\n",
        "precision_gd = precision_score(y_test['Genetic Disorder'], y_pred_gd, average='weighted')\n",
        "recall_gd = recall_score(y_test['Genetic Disorder'], y_pred_gd, average='weighted')\n",
        "f1_gd = f1_score(y_test['Genetic Disorder'], y_pred_gd, average='weighted')\n",
        "balanced_acc_gd = balanced_accuracy_score(y_test['Genetic Disorder'], y_pred_gd)\n",
        "\n",
        "# Metrics for Disorder Subclass\n",
        "accuracy_ds = accuracy_score(y_test['Disorder Subclass'], y_pred_ds)\n",
        "precision_ds = precision_score(y_test['Disorder Subclass'], y_pred_ds, average='weighted')\n",
        "recall_ds = recall_score(y_test['Disorder Subclass'], y_pred_ds, average='weighted')\n",
        "f1_ds = f1_score(y_test['Disorder Subclass'], y_pred_ds, average='weighted')\n",
        "balanced_acc_ds = balanced_accuracy_score(y_test['Disorder Subclass'], y_pred_ds)\n",
        "\n",
        "# Print metrics for Genetic Disorder\n",
        "print(\"Metrics for Genetic Disorder:\")\n",
        "print(\"Accuracy: {:.3f}\".format(accuracy_gd))\n",
        "print(\"Precision: {:.3f}\".format(precision_gd))\n",
        "print(\"Recall: {:.3f}\".format(recall_gd))\n",
        "print(\"F1 Score: {:.3f}\".format(f1_gd))\n",
        "print(\"Balanced Accuracy: {:.3f}\".format(balanced_acc_gd))\n",
        "\n",
        "# Print metrics for Disorder Subclass\n",
        "print(\"\\nMetrics for Disorder Subclass:\")\n",
        "print(\"Accuracy: {:.3f}\".format(accuracy_ds))\n",
        "print(\"Precision: {:.3f}\".format(precision_ds))\n",
        "print(\"Recall: {:.3f}\".format(recall_ds))\n",
        "print(\"F1 Score: {:.3f}\".format(f1_ds))\n",
        "print(\"Balanced Accuracy: {:.3f}\".format(balanced_acc_ds))\n"
      ],
      "metadata": {
        "colab": {
          "base_uri": "https://localhost:8080/"
        },
        "id": "LFFaPCLOHsQe",
        "outputId": "8d5ab56a-6949-496c-ffff-c41f8576b3dc"
      },
      "execution_count": 62,
      "outputs": [
        {
          "output_type": "stream",
          "name": "stdout",
          "text": [
            "Metrics for Genetic Disorder:\n",
            "Accuracy: 0.516\n",
            "Precision: 0.266\n",
            "Recall: 0.516\n",
            "F1 Score: 0.351\n",
            "Balanced Accuracy: 0.333\n",
            "\n",
            "Metrics for Disorder Subclass:\n",
            "Accuracy: 0.421\n",
            "Precision: 0.393\n",
            "Recall: 0.421\n",
            "F1 Score: 0.387\n",
            "Balanced Accuracy: 0.251\n"
          ]
        },
        {
          "output_type": "stream",
          "name": "stderr",
          "text": [
            "/usr/local/lib/python3.10/dist-packages/sklearn/metrics/_classification.py:1344: UndefinedMetricWarning: Precision is ill-defined and being set to 0.0 in labels with no predicted samples. Use `zero_division` parameter to control this behavior.\n",
            "  _warn_prf(average, modifier, msg_start, len(result))\n",
            "/usr/local/lib/python3.10/dist-packages/sklearn/metrics/_classification.py:1344: UndefinedMetricWarning: Precision is ill-defined and being set to 0.0 in labels with no predicted samples. Use `zero_division` parameter to control this behavior.\n",
            "  _warn_prf(average, modifier, msg_start, len(result))\n"
          ]
        }
      ]
    },
    {
      "cell_type": "code",
      "source": [
        "from sklearn.metrics import classification_report, balanced_accuracy_score, f1_score\n",
        "\n",
        "# Print Outputs for Disorder Subclass\n",
        "print('\\nDisorder Subclass')\n",
        "print(classification_report(y_test['Disorder Subclass'], y_pred_ds))\n",
        "print('\\nBalanced accuracy:')\n",
        "print(balanced_accuracy_score(y_test['Disorder Subclass'], y_pred_ds))\n",
        "print('\\nMacro f1:')\n",
        "print(f1_score(y_test['Disorder Subclass'], y_pred_ds, average='macro'))\n",
        "print('\\nWeighted f1:')\n",
        "print(f1_score(y_test['Disorder Subclass'], y_pred_ds, average='weighted'))\n"
      ],
      "metadata": {
        "colab": {
          "base_uri": "https://localhost:8080/"
        },
        "id": "mCkOD78hIo5C",
        "outputId": "0ce547fd-2b9a-4a44-8379-2443280932e9"
      },
      "execution_count": 63,
      "outputs": [
        {
          "output_type": "stream",
          "name": "stdout",
          "text": [
            "\n",
            "Disorder Subclass\n",
            "              precision    recall  f1-score   support\n",
            "\n",
            "           0       0.00      0.00      0.00        20\n",
            "           1       0.00      0.00      0.00        13\n",
            "           2       0.41      0.68      0.51       444\n",
            "           3       0.27      0.03      0.06       240\n",
            "           4       0.49      0.22      0.31       184\n",
            "           5       0.00      0.00      0.00        86\n",
            "           6       0.44      0.58      0.50       703\n",
            "           7       0.40      0.38      0.39       608\n",
            "           8       0.42      0.36      0.39       410\n",
            "\n",
            "    accuracy                           0.42      2708\n",
            "   macro avg       0.27      0.25      0.24      2708\n",
            "weighted avg       0.39      0.42      0.39      2708\n",
            "\n",
            "\n",
            "Balanced accuracy:\n",
            "0.2510783796158719\n",
            "\n",
            "Macro f1:\n",
            "0.2398498480353163\n",
            "\n",
            "Weighted f1:\n",
            "0.3871360837967648\n"
          ]
        },
        {
          "output_type": "stream",
          "name": "stderr",
          "text": [
            "/usr/local/lib/python3.10/dist-packages/sklearn/metrics/_classification.py:1344: UndefinedMetricWarning: Precision and F-score are ill-defined and being set to 0.0 in labels with no predicted samples. Use `zero_division` parameter to control this behavior.\n",
            "  _warn_prf(average, modifier, msg_start, len(result))\n",
            "/usr/local/lib/python3.10/dist-packages/sklearn/metrics/_classification.py:1344: UndefinedMetricWarning: Precision and F-score are ill-defined and being set to 0.0 in labels with no predicted samples. Use `zero_division` parameter to control this behavior.\n",
            "  _warn_prf(average, modifier, msg_start, len(result))\n",
            "/usr/local/lib/python3.10/dist-packages/sklearn/metrics/_classification.py:1344: UndefinedMetricWarning: Precision and F-score are ill-defined and being set to 0.0 in labels with no predicted samples. Use `zero_division` parameter to control this behavior.\n",
            "  _warn_prf(average, modifier, msg_start, len(result))\n"
          ]
        }
      ]
    },
    {
      "cell_type": "code",
      "source": [
        "# Print Outputs for Genetic Disorder\n",
        "print('\\nGenetic Disorder')\n",
        "print(classification_report(y_test['Genetic Disorder'], y_pred_gd))\n",
        "print('\\nBalanced accuracy:')\n",
        "print(balanced_accuracy_score(y_test['Genetic Disorder'], y_pred_gd))\n",
        "print('\\nMacro f1:')\n",
        "print(f1_score(y_test['Genetic Disorder'], y_pred_gd, average='macro'))\n",
        "print('\\nWeighted f1:')\n",
        "print(f1_score(y_test['Genetic Disorder'], y_pred_gd, average='weighted'))"
      ],
      "metadata": {
        "colab": {
          "base_uri": "https://localhost:8080/"
        },
        "id": "SH9Ce55eI6iw",
        "outputId": "ef763af6-4589-439c-f641-2f006604afd3"
      },
      "execution_count": 65,
      "outputs": [
        {
          "output_type": "stream",
          "name": "stdout",
          "text": [
            "\n",
            "Genetic Disorder\n",
            "              precision    recall  f1-score   support\n",
            "\n",
            "           0       0.52      1.00      0.68      1397\n",
            "           1       0.00      0.00      0.00       273\n",
            "           2       0.00      0.00      0.00      1038\n",
            "\n",
            "    accuracy                           0.52      2708\n",
            "   macro avg       0.17      0.33      0.23      2708\n",
            "weighted avg       0.27      0.52      0.35      2708\n",
            "\n",
            "\n",
            "Balanced accuracy:\n",
            "0.3333333333333333\n",
            "\n",
            "Macro f1:\n",
            "0.22687779131140884\n",
            "\n",
            "Weighted f1:\n",
            "0.35112438086636427\n"
          ]
        },
        {
          "output_type": "stream",
          "name": "stderr",
          "text": [
            "/usr/local/lib/python3.10/dist-packages/sklearn/metrics/_classification.py:1344: UndefinedMetricWarning: Precision and F-score are ill-defined and being set to 0.0 in labels with no predicted samples. Use `zero_division` parameter to control this behavior.\n",
            "  _warn_prf(average, modifier, msg_start, len(result))\n",
            "/usr/local/lib/python3.10/dist-packages/sklearn/metrics/_classification.py:1344: UndefinedMetricWarning: Precision and F-score are ill-defined and being set to 0.0 in labels with no predicted samples. Use `zero_division` parameter to control this behavior.\n",
            "  _warn_prf(average, modifier, msg_start, len(result))\n",
            "/usr/local/lib/python3.10/dist-packages/sklearn/metrics/_classification.py:1344: UndefinedMetricWarning: Precision and F-score are ill-defined and being set to 0.0 in labels with no predicted samples. Use `zero_division` parameter to control this behavior.\n",
            "  _warn_prf(average, modifier, msg_start, len(result))\n"
          ]
        }
      ]
    }
  ]
}