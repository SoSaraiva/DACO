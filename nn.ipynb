{
  "nbformat": 4,
  "nbformat_minor": 0,
  "metadata": {
    "colab": {
      "provenance": []
    },
    "kernelspec": {
      "name": "python3",
      "display_name": "Python 3"
    },
    "language_info": {
      "name": "python"
    }
  },
  "cells": [
    {
      "cell_type": "code",
      "source": [
        "!pip install scikeras\n"
      ],
      "metadata": {
        "colab": {
          "base_uri": "https://localhost:8080/"
        },
        "id": "BQ0N5y9U9vsn",
        "outputId": "81477936-dcbb-4fc2-fe47-94fc3e2f4e4f"
      },
      "execution_count": null,
      "outputs": [
        {
          "output_type": "stream",
          "name": "stdout",
          "text": [
            "Collecting scikeras\n",
            "  Downloading scikeras-0.12.0-py3-none-any.whl (27 kB)\n",
            "Requirement already satisfied: packaging>=0.21 in /usr/local/lib/python3.10/dist-packages (from scikeras) (23.2)\n",
            "Requirement already satisfied: scikit-learn>=1.0.0 in /usr/local/lib/python3.10/dist-packages (from scikeras) (1.2.2)\n",
            "Requirement already satisfied: numpy>=1.17.3 in /usr/local/lib/python3.10/dist-packages (from scikit-learn>=1.0.0->scikeras) (1.23.5)\n",
            "Requirement already satisfied: scipy>=1.3.2 in /usr/local/lib/python3.10/dist-packages (from scikit-learn>=1.0.0->scikeras) (1.11.4)\n",
            "Requirement already satisfied: joblib>=1.1.1 in /usr/local/lib/python3.10/dist-packages (from scikit-learn>=1.0.0->scikeras) (1.3.2)\n",
            "Requirement already satisfied: threadpoolctl>=2.0.0 in /usr/local/lib/python3.10/dist-packages (from scikit-learn>=1.0.0->scikeras) (3.2.0)\n",
            "Installing collected packages: scikeras\n",
            "Successfully installed scikeras-0.12.0\n"
          ]
        }
      ]
    },
    {
      "cell_type": "code",
      "execution_count": 124,
      "metadata": {
        "id": "N3pYJc0dvIk8"
      },
      "outputs": [],
      "source": [
        "# Necessary Imports\n",
        "import numpy as np\n",
        "import tensorflow as tf\n",
        "import pandas as pd\n",
        "import matplotlib.pyplot as plt\n",
        "from sklearn.model_selection import train_test_split, RandomizedSearchCV\n",
        "from sklearn.preprocessing import StandardScaler, LabelEncoder\n",
        "from sklearn.metrics import classification_report\n",
        "from sklearn.preprocessing import StandardScaler, LabelEncoder\n",
        "from sklearn.model_selection import train_test_split\n",
        "from sklearn.metrics import classification_report\n",
        "from scikeras.wrappers import KerasClassifier\n",
        "from keras import layers, models, optimizers, losses, metrics\n",
        "from keras.models import Sequential\n",
        "from keras.layers import Conv2D, GlobalAveragePooling2D, Dense, MaxPooling1D, Dropout, BatchNormalization, Conv1D, Flatten\n",
        "from keras.losses import SparseCategoricalCrossentropy\n",
        "from keras.optimizers import Adam\n",
        "from keras.callbacks import TensorBoard\n",
        "from keras.utils import to_categorical"
      ]
    },
    {
      "cell_type": "code",
      "source": [
        "# Load dataset\n",
        "df = pd.read_csv('dataset.csv')\n",
        "print(\"Dataset Size:\", df.shape)\n",
        "\n",
        "# Label encoder\n",
        "label_encoder = LabelEncoder()\n",
        "\n",
        "# Replace 'Unknown' with NaN\n",
        "df['Genetic Disorder'].replace('Unknown', np.nan, inplace=True)\n",
        "df['Disorder Subclass'].replace('Unknown', np.nan, inplace=True)\n",
        "\n",
        "df.dropna(inplace=True)\n",
        "\n",
        "\n"
      ],
      "metadata": {
        "colab": {
          "base_uri": "https://localhost:8080/"
        },
        "id": "rmDt-UvewBdF",
        "outputId": "6710b1af-59b2-43dc-82bb-4276bbeb81ea"
      },
      "execution_count": 125,
      "outputs": [
        {
          "output_type": "stream",
          "name": "stdout",
          "text": [
            "Dataset Size: (22083, 33)\n"
          ]
        }
      ]
    },
    {
      "cell_type": "code",
      "source": [
        "categorical_unordered_columns = [\n",
        "    'Genes in mother\\'s side', 'Inherited from father', 'Maternal gene', 'Paternal gene',\n",
        "    'Gender', 'Birth asphyxia',\n",
        "    'Autopsy shows birth defect (if applicable)', 'Place of birth',\n",
        "    'Folic acid details (peri-conceptional)', 'H/O serious maternal illness',\n",
        "    'H/O radiation exposure (xUnknownray)', 'H/O substance abuse', 'Status',\n",
        "    'Assisted conception IVF/ART', 'History of anomalies in previous pregnancies',\n",
        "    'Symptom 1', 'Symptom 2', 'Symptom 3', 'Symptom 4', 'Symptom 5'\n",
        "]\n",
        "\n",
        "quantitative_with_unknowns_or_ordered_columns = ['Patient Age', \"Mother's age\", \"Father's age\", 'Respiratory Rate (breaths/min)',\n",
        "    'Heart Rate (rates/min)', 'Follow-up', 'No. of previous abortion',\n",
        "    'Birth defects', 'White Blood cell count (thousand per microliter)', 'Blood test result']\n",
        "\n",
        "\n",
        "df_encoded=df.copy()\n",
        "for column in quantitative_with_unknowns_or_ordered_columns:\n",
        "    df_encoded[column] = label_encoder.fit_transform(df_encoded[column].astype(str))\n",
        "df_encoded=pd.get_dummies(df_encoded, columns=categorical_unordered_columns, drop_first=False)"
      ],
      "metadata": {
        "id": "rhL8s1s5_qR9"
      },
      "execution_count": 126,
      "outputs": []
    },
    {
      "cell_type": "markdown",
      "source": [
        "Run this following cell if you want to use features selection:"
      ],
      "metadata": {
        "id": "w_aUsdmt-5dr"
      }
    },
    {
      "cell_type": "code",
      "source": [
        "# With feature selection\n",
        "\n",
        "df=df[[\"Symptom 5\", \"Symptom 4\", \"Symptom 3\", \"Symptom 2\", \"Genes in mother's side\", \"Inherited from father\",\"Genetic Disorder\",\"Disorder Subclass\"]]\n",
        "\n",
        "df_encoded=df.copy()\n",
        "df_encoded=pd.get_dummies(df_encoded, columns=[\"Symptom 5\", \"Symptom 4\", \"Symptom 3\", \"Symptom 2\", \"Genes in mother's side\", \"Inherited from father\"], drop_first=False)"
      ],
      "metadata": {
        "id": "dHUx9kFmxiF4"
      },
      "execution_count": 127,
      "outputs": []
    },
    {
      "cell_type": "code",
      "source": [
        "# Extract features and target\n",
        "X = df_encoded.drop(columns=['Genetic Disorder', 'Disorder Subclass'], axis=1)\n",
        "y = df_encoded[['Genetic Disorder','Disorder Subclass']]"
      ],
      "metadata": {
        "id": "kUfq1qlhxnNP"
      },
      "execution_count": 128,
      "outputs": []
    },
    {
      "cell_type": "code",
      "source": [
        "# Check if the target variable has more than 2 classes\n",
        "if y['Genetic Disorder'].nunique() > 2:\n",
        "    label_encoder_gd = LabelEncoder()\n",
        "    y['Genetic Disorder'] = label_encoder_gd.fit_transform(y['Genetic Disorder'])\n",
        "\n",
        "if y['Disorder Subclass'].nunique() > 2:\n",
        "    label_encoder_ds = LabelEncoder()\n",
        "    y['Disorder Subclass'] = label_encoder_ds.fit_transform(y['Disorder Subclass'])"
      ],
      "metadata": {
        "colab": {
          "base_uri": "https://localhost:8080/"
        },
        "id": "jEqeEQr5Ytsy",
        "outputId": "21154056-e39b-4ee1-a743-ac53639f32fd"
      },
      "execution_count": 129,
      "outputs": [
        {
          "output_type": "stream",
          "name": "stderr",
          "text": [
            "<ipython-input-129-522f1949c820>:4: SettingWithCopyWarning: \n",
            "A value is trying to be set on a copy of a slice from a DataFrame.\n",
            "Try using .loc[row_indexer,col_indexer] = value instead\n",
            "\n",
            "See the caveats in the documentation: https://pandas.pydata.org/pandas-docs/stable/user_guide/indexing.html#returning-a-view-versus-a-copy\n",
            "  y['Genetic Disorder'] = label_encoder_gd.fit_transform(y['Genetic Disorder'])\n",
            "<ipython-input-129-522f1949c820>:8: SettingWithCopyWarning: \n",
            "A value is trying to be set on a copy of a slice from a DataFrame.\n",
            "Try using .loc[row_indexer,col_indexer] = value instead\n",
            "\n",
            "See the caveats in the documentation: https://pandas.pydata.org/pandas-docs/stable/user_guide/indexing.html#returning-a-view-versus-a-copy\n",
            "  y['Disorder Subclass'] = label_encoder_ds.fit_transform(y['Disorder Subclass'])\n"
          ]
        }
      ]
    },
    {
      "cell_type": "code",
      "source": [
        "# Scale features\n",
        "\n",
        "scaler = StandardScaler()\n",
        "X = scaler.fit_transform(X)"
      ],
      "metadata": {
        "id": "poBCfAKGx-If"
      },
      "execution_count": 130,
      "outputs": []
    },
    {
      "cell_type": "code",
      "source": [
        "# Tensorboard\n",
        "\n",
        "log_dir_gd = \"logs/fit/train_gd\"\n",
        "tensorboard_callback_gd = TensorBoard(log_dir=log_dir_gd, histogram_freq=1)\n",
        "\n",
        "log_dir_ds= \"logs/fit/train_ds\"\n",
        "tensorboard_callback_ds = TensorBoard(log_dir=log_dir_ds, histogram_freq=1)"
      ],
      "metadata": {
        "id": "1OleFdw7Al1Z"
      },
      "execution_count": null,
      "outputs": []
    },
    {
      "cell_type": "code",
      "source": [
        "# Split the data into training and validation sets\n",
        "X_train, X_test, y_train, y_test = train_test_split(X, y, test_size=0.15, random_state=1)  # 75% for training\n",
        "\n",
        "# One-Hot Encode the Target Variable\n",
        "y_train_categorical_gd = to_categorical(label_encoder.fit_transform(y_train['Genetic Disorder']))\n",
        "y_train_categorical_ds = to_categorical(label_encoder.fit_transform(y_train['Disorder Subclass']))\n",
        "\n",
        "# Hyperparameter search space\n",
        "param_dist = {\n",
        "    'batch_size': [16, 32, 64],\n",
        "    'epochs': [5, 10, 15],\n",
        "}\n",
        "\n",
        "def create_nn_model(input_dim, output_dim):\n",
        "    model = Sequential()\n",
        "    model.add(Dense(64, input_dim=input_dim, activation='relu'))\n",
        "    model.add(Dense(32, activation='relu'))\n",
        "    model.add(Dense(output_dim, activation='softmax'))\n",
        "    model.compile(optimizer='adam', loss='categorical_crossentropy', metrics=['accuracy'])\n",
        "    return model\n",
        "\n",
        "# Build and train the model for Genetic Disorder\n",
        "model_gd = KerasClassifier(build_fn=create_nn_model, input_dim=X_train.shape[1], output_dim=y_train_categorical_gd.shape[1])\n",
        "\n",
        "random_search_gd = RandomizedSearchCV(model_gd, param_distributions=param_dist, n_iter=3, cv=3, verbose=1)\n",
        "random_search_gd.fit(X_train, y_train_categorical_gd)\n",
        "\n",
        "# Get the best hyperparameters for Genetic Disorder\n",
        "best_params_gd = random_search_gd.best_params_\n",
        "\n",
        "# Build and train the model for Disorder Subclass\n",
        "model_ds = KerasClassifier(build_fn=create_nn_model, input_dim=X_train.shape[1], output_dim=y_train_categorical_ds.shape[1])\n",
        "\n",
        "random_search_ds = RandomizedSearchCV(model_ds, param_distributions=param_dist, n_iter=3, cv=3, verbose=1)\n",
        "random_search_ds.fit(X_train, y_train_categorical_ds)\n",
        "\n",
        "# Get the best hyperparameters for Disorder Subclass\n",
        "best_params_ds = random_search_ds.best_params_\n",
        "\n",
        "# Now you can use the best hyperparameters to train your final models\n",
        "model_gd_final = create_nn_model(input_dim=X_train.shape[1], output_dim=y_train_categorical_gd.shape[1])\n",
        "model_gd_final.fit(X_train, y_train_categorical_gd, epochs=best_params_gd['epochs'], batch_size=best_params_gd['batch_size'],callbacks=[tensorboard_callback_gd])\n",
        "\n",
        "model_ds_final = create_nn_model(input_dim=X_train.shape[1], output_dim=y_train_categorical_ds.shape[1])\n",
        "model_ds_final.fit(X_train, y_train_categorical_ds, epochs=best_params_ds['epochs'], batch_size=best_params_ds['batch_size'],callbacks=[tensorboard_callback_gd])\n"
      ],
      "metadata": {
        "colab": {
          "base_uri": "https://localhost:8080/"
        },
        "id": "u4TFRlgGGfEt",
        "outputId": "0ce6f582-d61e-40bc-8901-2464fc18175f"
      },
      "execution_count": 131,
      "outputs": [
        {
          "output_type": "stream",
          "name": "stdout",
          "text": [
            "Fitting 3 folds for each of 3 candidates, totalling 9 fits\n",
            "Epoch 1/5\n"
          ]
        },
        {
          "output_type": "stream",
          "name": "stderr",
          "text": [
            "/usr/local/lib/python3.10/dist-packages/scikeras/wrappers.py:915: UserWarning: ``build_fn`` will be renamed to ``model`` in a future release, at which point use of ``build_fn`` will raise an Error instead.\n",
            "  X, y = self._initialize(X, y)\n"
          ]
        },
        {
          "output_type": "stream",
          "name": "stdout",
          "text": [
            "160/160 [==============================] - 1s 3ms/step - loss: 0.9114 - accuracy: 0.5207\n",
            "Epoch 2/5\n",
            "160/160 [==============================] - 0s 3ms/step - loss: 0.8415 - accuracy: 0.5805\n",
            "Epoch 3/5\n",
            "160/160 [==============================] - 0s 3ms/step - loss: 0.8292 - accuracy: 0.5860\n",
            "Epoch 4/5\n",
            "160/160 [==============================] - 1s 3ms/step - loss: 0.8227 - accuracy: 0.5850\n",
            "Epoch 5/5\n",
            "160/160 [==============================] - 1s 4ms/step - loss: 0.8177 - accuracy: 0.5873\n",
            "80/80 [==============================] - 0s 3ms/step\n"
          ]
        },
        {
          "output_type": "stream",
          "name": "stderr",
          "text": [
            "/usr/local/lib/python3.10/dist-packages/scikeras/wrappers.py:915: UserWarning: ``build_fn`` will be renamed to ``model`` in a future release, at which point use of ``build_fn`` will raise an Error instead.\n",
            "  X, y = self._initialize(X, y)\n"
          ]
        },
        {
          "output_type": "stream",
          "name": "stdout",
          "text": [
            "Epoch 1/5\n",
            "160/160 [==============================] - 2s 4ms/step - loss: 0.8935 - accuracy: 0.5260\n",
            "Epoch 2/5\n",
            "160/160 [==============================] - 1s 3ms/step - loss: 0.8316 - accuracy: 0.5782\n",
            "Epoch 3/5\n",
            "160/160 [==============================] - 1s 6ms/step - loss: 0.8228 - accuracy: 0.5819\n",
            "Epoch 4/5\n",
            "160/160 [==============================] - 1s 6ms/step - loss: 0.8168 - accuracy: 0.5867\n",
            "Epoch 5/5\n",
            "160/160 [==============================] - 1s 6ms/step - loss: 0.8134 - accuracy: 0.5860\n",
            "80/80 [==============================] - 0s 2ms/step\n",
            "Epoch 1/5\n"
          ]
        },
        {
          "output_type": "stream",
          "name": "stderr",
          "text": [
            "/usr/local/lib/python3.10/dist-packages/scikeras/wrappers.py:915: UserWarning: ``build_fn`` will be renamed to ``model`` in a future release, at which point use of ``build_fn`` will raise an Error instead.\n",
            "  X, y = self._initialize(X, y)\n"
          ]
        },
        {
          "output_type": "stream",
          "name": "stdout",
          "text": [
            "160/160 [==============================] - 1s 3ms/step - loss: 0.8922 - accuracy: 0.5295\n",
            "Epoch 2/5\n",
            "160/160 [==============================] - 0s 3ms/step - loss: 0.8395 - accuracy: 0.5716\n",
            "Epoch 3/5\n",
            "160/160 [==============================] - 0s 3ms/step - loss: 0.8271 - accuracy: 0.5819\n",
            "Epoch 4/5\n",
            "160/160 [==============================] - 0s 3ms/step - loss: 0.8209 - accuracy: 0.5833\n",
            "Epoch 5/5\n",
            "160/160 [==============================] - 0s 3ms/step - loss: 0.8175 - accuracy: 0.5871\n",
            "80/80 [==============================] - 0s 2ms/step\n",
            "Epoch 1/5\n"
          ]
        },
        {
          "output_type": "stream",
          "name": "stderr",
          "text": [
            "/usr/local/lib/python3.10/dist-packages/scikeras/wrappers.py:915: UserWarning: ``build_fn`` will be renamed to ``model`` in a future release, at which point use of ``build_fn`` will raise an Error instead.\n",
            "  X, y = self._initialize(X, y)\n"
          ]
        },
        {
          "output_type": "stream",
          "name": "stdout",
          "text": [
            "320/320 [==============================] - 7s 12ms/step - loss: 0.8646 - accuracy: 0.5476\n",
            "Epoch 2/5\n",
            "320/320 [==============================] - 3s 9ms/step - loss: 0.8276 - accuracy: 0.5797\n",
            "Epoch 3/5\n",
            "320/320 [==============================] - 2s 7ms/step - loss: 0.8178 - accuracy: 0.5857\n",
            "Epoch 4/5\n",
            "320/320 [==============================] - 1s 4ms/step - loss: 0.8139 - accuracy: 0.5866\n",
            "Epoch 5/5\n",
            "320/320 [==============================] - 1s 3ms/step - loss: 0.8110 - accuracy: 0.5861\n",
            "160/160 [==============================] - 0s 2ms/step\n",
            "Epoch 1/5\n"
          ]
        },
        {
          "output_type": "stream",
          "name": "stderr",
          "text": [
            "/usr/local/lib/python3.10/dist-packages/scikeras/wrappers.py:915: UserWarning: ``build_fn`` will be renamed to ``model`` in a future release, at which point use of ``build_fn`` will raise an Error instead.\n",
            "  X, y = self._initialize(X, y)\n"
          ]
        },
        {
          "output_type": "stream",
          "name": "stdout",
          "text": [
            "320/320 [==============================] - 3s 5ms/step - loss: 0.8649 - accuracy: 0.5476\n",
            "Epoch 2/5\n",
            "320/320 [==============================] - 1s 4ms/step - loss: 0.8257 - accuracy: 0.5785\n",
            "Epoch 3/5\n",
            "320/320 [==============================] - 1s 3ms/step - loss: 0.8164 - accuracy: 0.5799\n",
            "Epoch 4/5\n",
            "320/320 [==============================] - 1s 3ms/step - loss: 0.8120 - accuracy: 0.5884\n",
            "Epoch 5/5\n",
            "320/320 [==============================] - 1s 3ms/step - loss: 0.8077 - accuracy: 0.5876\n",
            "160/160 [==============================] - 0s 1ms/step\n",
            "Epoch 1/5\n"
          ]
        },
        {
          "output_type": "stream",
          "name": "stderr",
          "text": [
            "/usr/local/lib/python3.10/dist-packages/scikeras/wrappers.py:915: UserWarning: ``build_fn`` will be renamed to ``model`` in a future release, at which point use of ``build_fn`` will raise an Error instead.\n",
            "  X, y = self._initialize(X, y)\n"
          ]
        },
        {
          "output_type": "stream",
          "name": "stdout",
          "text": [
            "320/320 [==============================] - 2s 3ms/step - loss: 0.8789 - accuracy: 0.5383\n",
            "Epoch 2/5\n",
            "320/320 [==============================] - 1s 4ms/step - loss: 0.8312 - accuracy: 0.5771\n",
            "Epoch 3/5\n",
            "320/320 [==============================] - 1s 4ms/step - loss: 0.8225 - accuracy: 0.5824\n",
            "Epoch 4/5\n",
            "320/320 [==============================] - 1s 4ms/step - loss: 0.8164 - accuracy: 0.5870\n",
            "Epoch 5/5\n",
            "320/320 [==============================] - 1s 3ms/step - loss: 0.8142 - accuracy: 0.5890\n",
            "160/160 [==============================] - 0s 2ms/step\n",
            "Epoch 1/15\n"
          ]
        },
        {
          "output_type": "stream",
          "name": "stderr",
          "text": [
            "/usr/local/lib/python3.10/dist-packages/scikeras/wrappers.py:915: UserWarning: ``build_fn`` will be renamed to ``model`` in a future release, at which point use of ``build_fn`` will raise an Error instead.\n",
            "  X, y = self._initialize(X, y)\n"
          ]
        },
        {
          "output_type": "stream",
          "name": "stdout",
          "text": [
            "640/640 [==============================] - 3s 3ms/step - loss: 0.8615 - accuracy: 0.5629\n",
            "Epoch 2/15\n",
            "640/640 [==============================] - 2s 3ms/step - loss: 0.8242 - accuracy: 0.5803\n",
            "Epoch 3/15\n",
            "640/640 [==============================] - 3s 4ms/step - loss: 0.8164 - accuracy: 0.5801\n",
            "Epoch 4/15\n",
            "640/640 [==============================] - 2s 3ms/step - loss: 0.8119 - accuracy: 0.5874\n",
            "Epoch 5/15\n",
            "640/640 [==============================] - 2s 3ms/step - loss: 0.8107 - accuracy: 0.5869\n",
            "Epoch 6/15\n",
            "640/640 [==============================] - 2s 3ms/step - loss: 0.8084 - accuracy: 0.5902\n",
            "Epoch 7/15\n",
            "640/640 [==============================] - 2s 3ms/step - loss: 0.8067 - accuracy: 0.5924\n",
            "Epoch 8/15\n",
            "640/640 [==============================] - 2s 3ms/step - loss: 0.8051 - accuracy: 0.5906\n",
            "Epoch 9/15\n",
            "640/640 [==============================] - 2s 3ms/step - loss: 0.8046 - accuracy: 0.5890\n",
            "Epoch 10/15\n",
            "640/640 [==============================] - 3s 4ms/step - loss: 0.8044 - accuracy: 0.5930\n",
            "Epoch 11/15\n",
            "640/640 [==============================] - 2s 3ms/step - loss: 0.8025 - accuracy: 0.5935\n",
            "Epoch 12/15\n",
            "640/640 [==============================] - 2s 3ms/step - loss: 0.8031 - accuracy: 0.5905\n",
            "Epoch 13/15\n",
            "640/640 [==============================] - 2s 3ms/step - loss: 0.8011 - accuracy: 0.5925\n",
            "Epoch 14/15\n",
            "640/640 [==============================] - 2s 3ms/step - loss: 0.8012 - accuracy: 0.5934\n",
            "Epoch 15/15\n",
            "640/640 [==============================] - 2s 3ms/step - loss: 0.8014 - accuracy: 0.5909\n",
            "320/320 [==============================] - 1s 2ms/step\n"
          ]
        },
        {
          "output_type": "stream",
          "name": "stderr",
          "text": [
            "/usr/local/lib/python3.10/dist-packages/scikeras/wrappers.py:915: UserWarning: ``build_fn`` will be renamed to ``model`` in a future release, at which point use of ``build_fn`` will raise an Error instead.\n",
            "  X, y = self._initialize(X, y)\n"
          ]
        },
        {
          "output_type": "stream",
          "name": "stdout",
          "text": [
            "Epoch 1/15\n",
            "640/640 [==============================] - 3s 3ms/step - loss: 0.8580 - accuracy: 0.5554\n",
            "Epoch 2/15\n",
            "640/640 [==============================] - 2s 3ms/step - loss: 0.8215 - accuracy: 0.5816\n",
            "Epoch 3/15\n",
            "640/640 [==============================] - 2s 3ms/step - loss: 0.8146 - accuracy: 0.5859\n",
            "Epoch 4/15\n",
            "640/640 [==============================] - 2s 3ms/step - loss: 0.8124 - accuracy: 0.5846\n",
            "Epoch 5/15\n",
            "640/640 [==============================] - 2s 3ms/step - loss: 0.8104 - accuracy: 0.5872\n",
            "Epoch 6/15\n",
            "640/640 [==============================] - 2s 3ms/step - loss: 0.8079 - accuracy: 0.5841\n",
            "Epoch 7/15\n",
            "640/640 [==============================] - 3s 4ms/step - loss: 0.8056 - accuracy: 0.5891\n",
            "Epoch 8/15\n",
            "640/640 [==============================] - 2s 3ms/step - loss: 0.8041 - accuracy: 0.5864\n",
            "Epoch 9/15\n",
            "640/640 [==============================] - 2s 3ms/step - loss: 0.8031 - accuracy: 0.5901\n",
            "Epoch 10/15\n",
            "640/640 [==============================] - 2s 3ms/step - loss: 0.8024 - accuracy: 0.5901\n",
            "Epoch 11/15\n",
            "640/640 [==============================] - 2s 3ms/step - loss: 0.8027 - accuracy: 0.5894\n",
            "Epoch 12/15\n",
            "640/640 [==============================] - 2s 3ms/step - loss: 0.7997 - accuracy: 0.5900\n",
            "Epoch 13/15\n",
            "640/640 [==============================] - 2s 3ms/step - loss: 0.7995 - accuracy: 0.5926\n",
            "Epoch 14/15\n",
            "640/640 [==============================] - 2s 4ms/step - loss: 0.7989 - accuracy: 0.5926\n",
            "Epoch 15/15\n",
            "640/640 [==============================] - 2s 3ms/step - loss: 0.7987 - accuracy: 0.5942\n",
            "320/320 [==============================] - 1s 2ms/step\n",
            "Epoch 1/15\n"
          ]
        },
        {
          "output_type": "stream",
          "name": "stderr",
          "text": [
            "/usr/local/lib/python3.10/dist-packages/scikeras/wrappers.py:915: UserWarning: ``build_fn`` will be renamed to ``model`` in a future release, at which point use of ``build_fn`` will raise an Error instead.\n",
            "  X, y = self._initialize(X, y)\n"
          ]
        },
        {
          "output_type": "stream",
          "name": "stdout",
          "text": [
            "640/640 [==============================] - 3s 3ms/step - loss: 0.8689 - accuracy: 0.5477\n",
            "Epoch 2/15\n",
            "640/640 [==============================] - 2s 3ms/step - loss: 0.8332 - accuracy: 0.5801\n",
            "Epoch 3/15\n",
            "640/640 [==============================] - 2s 3ms/step - loss: 0.8244 - accuracy: 0.5796\n",
            "Epoch 4/15\n",
            "640/640 [==============================] - 3s 4ms/step - loss: 0.8187 - accuracy: 0.5839\n",
            "Epoch 5/15\n",
            "640/640 [==============================] - 3s 4ms/step - loss: 0.8152 - accuracy: 0.5850\n",
            "Epoch 6/15\n",
            "640/640 [==============================] - 2s 3ms/step - loss: 0.8135 - accuracy: 0.5879\n",
            "Epoch 7/15\n",
            "640/640 [==============================] - 2s 3ms/step - loss: 0.8106 - accuracy: 0.5887\n",
            "Epoch 8/15\n",
            "640/640 [==============================] - 2s 3ms/step - loss: 0.8105 - accuracy: 0.5852\n",
            "Epoch 9/15\n",
            "640/640 [==============================] - 2s 3ms/step - loss: 0.8093 - accuracy: 0.5892\n",
            "Epoch 10/15\n",
            "640/640 [==============================] - 2s 3ms/step - loss: 0.8082 - accuracy: 0.5900\n",
            "Epoch 11/15\n",
            "640/640 [==============================] - 2s 3ms/step - loss: 0.8064 - accuracy: 0.5934\n",
            "Epoch 12/15\n",
            "640/640 [==============================] - 3s 4ms/step - loss: 0.8061 - accuracy: 0.5900\n",
            "Epoch 13/15\n",
            "640/640 [==============================] - 2s 3ms/step - loss: 0.8062 - accuracy: 0.5915\n",
            "Epoch 14/15\n",
            "640/640 [==============================] - 2s 3ms/step - loss: 0.8056 - accuracy: 0.5919\n",
            "Epoch 15/15\n",
            "640/640 [==============================] - 2s 3ms/step - loss: 0.8040 - accuracy: 0.5938\n",
            "320/320 [==============================] - 1s 2ms/step\n",
            "Epoch 1/5\n"
          ]
        },
        {
          "output_type": "stream",
          "name": "stderr",
          "text": [
            "/usr/local/lib/python3.10/dist-packages/scikeras/wrappers.py:915: UserWarning: ``build_fn`` will be renamed to ``model`` in a future release, at which point use of ``build_fn`` will raise an Error instead.\n",
            "  X, y = self._initialize(X, y)\n"
          ]
        },
        {
          "output_type": "stream",
          "name": "stdout",
          "text": [
            "480/480 [==============================] - 2s 3ms/step - loss: 0.8596 - accuracy: 0.5551\n",
            "Epoch 2/5\n",
            "480/480 [==============================] - 1s 3ms/step - loss: 0.8256 - accuracy: 0.5783\n",
            "Epoch 3/5\n",
            "480/480 [==============================] - 2s 4ms/step - loss: 0.8185 - accuracy: 0.5846\n",
            "Epoch 4/5\n",
            "480/480 [==============================] - 2s 4ms/step - loss: 0.8138 - accuracy: 0.5873\n",
            "Epoch 5/5\n",
            "480/480 [==============================] - 2s 3ms/step - loss: 0.8119 - accuracy: 0.5823\n",
            "Fitting 3 folds for each of 3 candidates, totalling 9 fits\n",
            "Epoch 1/15\n"
          ]
        },
        {
          "output_type": "stream",
          "name": "stderr",
          "text": [
            "/usr/local/lib/python3.10/dist-packages/scikeras/wrappers.py:915: UserWarning: ``build_fn`` will be renamed to ``model`` in a future release, at which point use of ``build_fn`` will raise an Error instead.\n",
            "  X, y = self._initialize(X, y)\n"
          ]
        },
        {
          "output_type": "stream",
          "name": "stdout",
          "text": [
            "640/640 [==============================] - 3s 3ms/step - loss: 1.5421 - accuracy: 0.3477\n",
            "Epoch 2/15\n",
            "640/640 [==============================] - 2s 3ms/step - loss: 1.3991 - accuracy: 0.3796\n",
            "Epoch 3/15\n",
            "640/640 [==============================] - 2s 3ms/step - loss: 1.3865 - accuracy: 0.3829\n",
            "Epoch 4/15\n",
            "640/640 [==============================] - 2s 3ms/step - loss: 1.3818 - accuracy: 0.3843\n",
            "Epoch 5/15\n",
            "640/640 [==============================] - 2s 3ms/step - loss: 1.3766 - accuracy: 0.3881\n",
            "Epoch 6/15\n",
            "640/640 [==============================] - 2s 4ms/step - loss: 1.3745 - accuracy: 0.3836\n",
            "Epoch 7/15\n",
            "640/640 [==============================] - 2s 3ms/step - loss: 1.3734 - accuracy: 0.3904\n",
            "Epoch 8/15\n",
            "640/640 [==============================] - 2s 3ms/step - loss: 1.3695 - accuracy: 0.3888\n",
            "Epoch 9/15\n",
            "640/640 [==============================] - 2s 3ms/step - loss: 1.3690 - accuracy: 0.3900\n",
            "Epoch 10/15\n",
            "640/640 [==============================] - 2s 3ms/step - loss: 1.3688 - accuracy: 0.3921\n",
            "Epoch 11/15\n",
            "640/640 [==============================] - 2s 3ms/step - loss: 1.3673 - accuracy: 0.3863\n",
            "Epoch 12/15\n",
            "640/640 [==============================] - 2s 4ms/step - loss: 1.3640 - accuracy: 0.3963\n",
            "Epoch 13/15\n",
            "640/640 [==============================] - 3s 4ms/step - loss: 1.3649 - accuracy: 0.3924\n",
            "Epoch 14/15\n",
            "640/640 [==============================] - 2s 3ms/step - loss: 1.3630 - accuracy: 0.3916\n",
            "Epoch 15/15\n",
            "640/640 [==============================] - 2s 3ms/step - loss: 1.3608 - accuracy: 0.3951\n",
            "320/320 [==============================] - 1s 2ms/step\n",
            "Epoch 1/15\n"
          ]
        },
        {
          "output_type": "stream",
          "name": "stderr",
          "text": [
            "/usr/local/lib/python3.10/dist-packages/scikeras/wrappers.py:915: UserWarning: ``build_fn`` will be renamed to ``model`` in a future release, at which point use of ``build_fn`` will raise an Error instead.\n",
            "  X, y = self._initialize(X, y)\n"
          ]
        },
        {
          "output_type": "stream",
          "name": "stdout",
          "text": [
            "640/640 [==============================] - 2s 3ms/step - loss: 1.5225 - accuracy: 0.3625\n",
            "Epoch 2/15\n",
            "640/640 [==============================] - 2s 3ms/step - loss: 1.4001 - accuracy: 0.3817\n",
            "Epoch 3/15\n",
            "640/640 [==============================] - 2s 3ms/step - loss: 1.3866 - accuracy: 0.3875\n",
            "Epoch 4/15\n",
            "640/640 [==============================] - 3s 4ms/step - loss: 1.3795 - accuracy: 0.3816\n",
            "Epoch 5/15\n",
            "640/640 [==============================] - 2s 3ms/step - loss: 1.3764 - accuracy: 0.3866\n",
            "Epoch 6/15\n",
            "640/640 [==============================] - 2s 3ms/step - loss: 1.3720 - accuracy: 0.3850\n",
            "Epoch 7/15\n",
            "640/640 [==============================] - 2s 3ms/step - loss: 1.3708 - accuracy: 0.3843\n",
            "Epoch 8/15\n",
            "640/640 [==============================] - 2s 2ms/step - loss: 1.3694 - accuracy: 0.3913\n",
            "Epoch 9/15\n",
            "640/640 [==============================] - 2s 2ms/step - loss: 1.3665 - accuracy: 0.3843\n",
            "Epoch 10/15\n",
            "640/640 [==============================] - 2s 3ms/step - loss: 1.3647 - accuracy: 0.3881\n",
            "Epoch 11/15\n",
            "640/640 [==============================] - 2s 3ms/step - loss: 1.3655 - accuracy: 0.3890\n",
            "Epoch 12/15\n",
            "640/640 [==============================] - 2s 4ms/step - loss: 1.3629 - accuracy: 0.3916\n",
            "Epoch 13/15\n",
            "640/640 [==============================] - 2s 3ms/step - loss: 1.3608 - accuracy: 0.3930\n",
            "Epoch 14/15\n",
            "640/640 [==============================] - 2s 3ms/step - loss: 1.3606 - accuracy: 0.3866\n",
            "Epoch 15/15\n",
            "640/640 [==============================] - 2s 3ms/step - loss: 1.3602 - accuracy: 0.3883\n",
            "320/320 [==============================] - 1s 2ms/step\n",
            "Epoch 1/15\n"
          ]
        },
        {
          "output_type": "stream",
          "name": "stderr",
          "text": [
            "/usr/local/lib/python3.10/dist-packages/scikeras/wrappers.py:915: UserWarning: ``build_fn`` will be renamed to ``model`` in a future release, at which point use of ``build_fn`` will raise an Error instead.\n",
            "  X, y = self._initialize(X, y)\n"
          ]
        },
        {
          "output_type": "stream",
          "name": "stdout",
          "text": [
            "640/640 [==============================] - 3s 3ms/step - loss: 1.5292 - accuracy: 0.3537\n",
            "Epoch 2/15\n",
            "640/640 [==============================] - 2s 4ms/step - loss: 1.3978 - accuracy: 0.3796\n",
            "Epoch 3/15\n",
            "640/640 [==============================] - 2s 2ms/step - loss: 1.3824 - accuracy: 0.3840\n",
            "Epoch 4/15\n",
            "640/640 [==============================] - 1s 2ms/step - loss: 1.3775 - accuracy: 0.3828\n",
            "Epoch 5/15\n",
            "640/640 [==============================] - 2s 2ms/step - loss: 1.3715 - accuracy: 0.3876\n",
            "Epoch 6/15\n",
            "640/640 [==============================] - 1s 2ms/step - loss: 1.3704 - accuracy: 0.3918\n",
            "Epoch 7/15\n",
            "640/640 [==============================] - 2s 2ms/step - loss: 1.3662 - accuracy: 0.3922\n",
            "Epoch 8/15\n",
            "640/640 [==============================] - 1s 2ms/step - loss: 1.3647 - accuracy: 0.3916\n",
            "Epoch 9/15\n",
            "640/640 [==============================] - 2s 3ms/step - loss: 1.3633 - accuracy: 0.3917\n",
            "Epoch 10/15\n",
            "640/640 [==============================] - 2s 4ms/step - loss: 1.3626 - accuracy: 0.3957\n",
            "Epoch 11/15\n",
            "640/640 [==============================] - 2s 3ms/step - loss: 1.3604 - accuracy: 0.3927\n",
            "Epoch 12/15\n",
            "640/640 [==============================] - 1s 2ms/step - loss: 1.3594 - accuracy: 0.3927\n",
            "Epoch 13/15\n",
            "640/640 [==============================] - 2s 2ms/step - loss: 1.3576 - accuracy: 0.3886\n",
            "Epoch 14/15\n",
            "640/640 [==============================] - 2s 2ms/step - loss: 1.3561 - accuracy: 0.3944\n",
            "Epoch 15/15\n",
            "640/640 [==============================] - 2s 2ms/step - loss: 1.3566 - accuracy: 0.3923\n",
            "320/320 [==============================] - 1s 2ms/step\n",
            "Epoch 1/5\n"
          ]
        },
        {
          "output_type": "stream",
          "name": "stderr",
          "text": [
            "/usr/local/lib/python3.10/dist-packages/scikeras/wrappers.py:915: UserWarning: ``build_fn`` will be renamed to ``model`` in a future release, at which point use of ``build_fn`` will raise an Error instead.\n",
            "  X, y = self._initialize(X, y)\n"
          ]
        },
        {
          "output_type": "stream",
          "name": "stdout",
          "text": [
            "160/160 [==============================] - 1s 3ms/step - loss: 1.6965 - accuracy: 0.3159\n",
            "Epoch 2/5\n",
            "160/160 [==============================] - 0s 2ms/step - loss: 1.4246 - accuracy: 0.3818\n",
            "Epoch 3/5\n",
            "160/160 [==============================] - 1s 4ms/step - loss: 1.3991 - accuracy: 0.3844\n",
            "Epoch 4/5\n",
            "160/160 [==============================] - 1s 4ms/step - loss: 1.3896 - accuracy: 0.3877\n",
            "Epoch 5/5\n",
            "160/160 [==============================] - 1s 4ms/step - loss: 1.3811 - accuracy: 0.3894\n",
            "80/80 [==============================] - 0s 2ms/step\n",
            "Epoch 1/5\n"
          ]
        },
        {
          "output_type": "stream",
          "name": "stderr",
          "text": [
            "/usr/local/lib/python3.10/dist-packages/scikeras/wrappers.py:915: UserWarning: ``build_fn`` will be renamed to ``model`` in a future release, at which point use of ``build_fn`` will raise an Error instead.\n",
            "  X, y = self._initialize(X, y)\n"
          ]
        },
        {
          "output_type": "stream",
          "name": "stdout",
          "text": [
            "160/160 [==============================] - 1s 3ms/step - loss: 1.7346 - accuracy: 0.3127\n",
            "Epoch 2/5\n",
            "160/160 [==============================] - 0s 3ms/step - loss: 1.4375 - accuracy: 0.3838\n",
            "Epoch 3/5\n",
            "160/160 [==============================] - 0s 3ms/step - loss: 1.4062 - accuracy: 0.3847\n",
            "Epoch 4/5\n",
            "160/160 [==============================] - 0s 2ms/step - loss: 1.3910 - accuracy: 0.3887\n",
            "Epoch 5/5\n",
            "160/160 [==============================] - 0s 2ms/step - loss: 1.3828 - accuracy: 0.3889\n",
            "80/80 [==============================] - 0s 2ms/step\n",
            "Epoch 1/5\n"
          ]
        },
        {
          "output_type": "stream",
          "name": "stderr",
          "text": [
            "/usr/local/lib/python3.10/dist-packages/scikeras/wrappers.py:915: UserWarning: ``build_fn`` will be renamed to ``model`` in a future release, at which point use of ``build_fn`` will raise an Error instead.\n",
            "  X, y = self._initialize(X, y)\n"
          ]
        },
        {
          "output_type": "stream",
          "name": "stdout",
          "text": [
            "160/160 [==============================] - 1s 3ms/step - loss: 1.7167 - accuracy: 0.3025\n",
            "Epoch 2/5\n",
            "160/160 [==============================] - 0s 2ms/step - loss: 1.4332 - accuracy: 0.3787\n",
            "Epoch 3/5\n",
            "160/160 [==============================] - 0s 2ms/step - loss: 1.3970 - accuracy: 0.3884\n",
            "Epoch 4/5\n",
            "160/160 [==============================] - 0s 2ms/step - loss: 1.3851 - accuracy: 0.3881\n",
            "Epoch 5/5\n",
            "160/160 [==============================] - 0s 2ms/step - loss: 1.3764 - accuracy: 0.3908\n",
            "80/80 [==============================] - 0s 2ms/step\n",
            "Epoch 1/10\n"
          ]
        },
        {
          "output_type": "stream",
          "name": "stderr",
          "text": [
            "/usr/local/lib/python3.10/dist-packages/scikeras/wrappers.py:915: UserWarning: ``build_fn`` will be renamed to ``model`` in a future release, at which point use of ``build_fn`` will raise an Error instead.\n",
            "  X, y = self._initialize(X, y)\n"
          ]
        },
        {
          "output_type": "stream",
          "name": "stdout",
          "text": [
            "160/160 [==============================] - 2s 4ms/step - loss: 1.7346 - accuracy: 0.3031\n",
            "Epoch 2/10\n",
            "160/160 [==============================] - 1s 4ms/step - loss: 1.4415 - accuracy: 0.3819\n",
            "Epoch 3/10\n",
            "160/160 [==============================] - 1s 4ms/step - loss: 1.3989 - accuracy: 0.3829\n",
            "Epoch 4/10\n",
            "160/160 [==============================] - 1s 4ms/step - loss: 1.3858 - accuracy: 0.3799\n",
            "Epoch 5/10\n",
            "160/160 [==============================] - 1s 4ms/step - loss: 1.3795 - accuracy: 0.3827\n",
            "Epoch 6/10\n",
            "160/160 [==============================] - 1s 3ms/step - loss: 1.3750 - accuracy: 0.3850\n",
            "Epoch 7/10\n",
            "160/160 [==============================] - 0s 2ms/step - loss: 1.3723 - accuracy: 0.3896\n",
            "Epoch 8/10\n",
            "160/160 [==============================] - 0s 2ms/step - loss: 1.3691 - accuracy: 0.3866\n",
            "Epoch 9/10\n",
            "160/160 [==============================] - 0s 2ms/step - loss: 1.3677 - accuracy: 0.3920\n",
            "Epoch 10/10\n",
            "160/160 [==============================] - 0s 2ms/step - loss: 1.3668 - accuracy: 0.3895\n",
            "80/80 [==============================] - 0s 2ms/step\n",
            "Epoch 1/10\n"
          ]
        },
        {
          "output_type": "stream",
          "name": "stderr",
          "text": [
            "/usr/local/lib/python3.10/dist-packages/scikeras/wrappers.py:915: UserWarning: ``build_fn`` will be renamed to ``model`` in a future release, at which point use of ``build_fn`` will raise an Error instead.\n",
            "  X, y = self._initialize(X, y)\n"
          ]
        },
        {
          "output_type": "stream",
          "name": "stdout",
          "text": [
            "160/160 [==============================] - 1s 3ms/step - loss: 1.6728 - accuracy: 0.3341\n",
            "Epoch 2/10\n",
            "160/160 [==============================] - 0s 2ms/step - loss: 1.4361 - accuracy: 0.3802\n",
            "Epoch 3/10\n",
            "160/160 [==============================] - 0s 2ms/step - loss: 1.4017 - accuracy: 0.3822\n",
            "Epoch 4/10\n",
            "160/160 [==============================] - 0s 3ms/step - loss: 1.3869 - accuracy: 0.3889\n",
            "Epoch 5/10\n",
            "160/160 [==============================] - 0s 2ms/step - loss: 1.3791 - accuracy: 0.3907\n",
            "Epoch 6/10\n",
            "160/160 [==============================] - 0s 2ms/step - loss: 1.3749 - accuracy: 0.3873\n",
            "Epoch 7/10\n",
            "160/160 [==============================] - 0s 2ms/step - loss: 1.3688 - accuracy: 0.3877\n",
            "Epoch 8/10\n",
            "160/160 [==============================] - 0s 2ms/step - loss: 1.3667 - accuracy: 0.3940\n",
            "Epoch 9/10\n",
            "160/160 [==============================] - 0s 2ms/step - loss: 1.3639 - accuracy: 0.3914\n",
            "Epoch 10/10\n",
            "160/160 [==============================] - 0s 2ms/step - loss: 1.3629 - accuracy: 0.3892\n",
            "80/80 [==============================] - 0s 2ms/step\n",
            "Epoch 1/10\n"
          ]
        },
        {
          "output_type": "stream",
          "name": "stderr",
          "text": [
            "/usr/local/lib/python3.10/dist-packages/scikeras/wrappers.py:915: UserWarning: ``build_fn`` will be renamed to ``model`` in a future release, at which point use of ``build_fn`` will raise an Error instead.\n",
            "  X, y = self._initialize(X, y)\n"
          ]
        },
        {
          "output_type": "stream",
          "name": "stdout",
          "text": [
            "160/160 [==============================] - 1s 2ms/step - loss: 1.7065 - accuracy: 0.3109\n",
            "Epoch 2/10\n",
            "160/160 [==============================] - 1s 4ms/step - loss: 1.4301 - accuracy: 0.3847\n",
            "Epoch 3/10\n",
            "160/160 [==============================] - 1s 4ms/step - loss: 1.3924 - accuracy: 0.3863\n",
            "Epoch 4/10\n",
            "160/160 [==============================] - 1s 4ms/step - loss: 1.3808 - accuracy: 0.3906\n",
            "Epoch 5/10\n",
            "160/160 [==============================] - 1s 4ms/step - loss: 1.3729 - accuracy: 0.3877\n",
            "Epoch 6/10\n",
            "160/160 [==============================] - 1s 4ms/step - loss: 1.3682 - accuracy: 0.3887\n",
            "Epoch 7/10\n",
            "160/160 [==============================] - 1s 4ms/step - loss: 1.3650 - accuracy: 0.3891\n",
            "Epoch 8/10\n",
            "160/160 [==============================] - 0s 3ms/step - loss: 1.3634 - accuracy: 0.3896\n",
            "Epoch 9/10\n",
            "160/160 [==============================] - 0s 2ms/step - loss: 1.3621 - accuracy: 0.3905\n",
            "Epoch 10/10\n",
            "160/160 [==============================] - 0s 3ms/step - loss: 1.3603 - accuracy: 0.3969\n",
            "80/80 [==============================] - 0s 2ms/step\n",
            "Epoch 1/5\n"
          ]
        },
        {
          "output_type": "stream",
          "name": "stderr",
          "text": [
            "/usr/local/lib/python3.10/dist-packages/scikeras/wrappers.py:915: UserWarning: ``build_fn`` will be renamed to ``model`` in a future release, at which point use of ``build_fn`` will raise an Error instead.\n",
            "  X, y = self._initialize(X, y)\n"
          ]
        },
        {
          "output_type": "stream",
          "name": "stdout",
          "text": [
            "240/240 [==============================] - 1s 2ms/step - loss: 1.6147 - accuracy: 0.3395\n",
            "Epoch 2/5\n",
            "240/240 [==============================] - 1s 3ms/step - loss: 1.4115 - accuracy: 0.3810\n",
            "Epoch 3/5\n",
            "240/240 [==============================] - 1s 2ms/step - loss: 1.3913 - accuracy: 0.3834\n",
            "Epoch 4/5\n",
            "240/240 [==============================] - 1s 3ms/step - loss: 1.3831 - accuracy: 0.3854\n",
            "Epoch 5/5\n",
            "240/240 [==============================] - 1s 4ms/step - loss: 1.3779 - accuracy: 0.3867\n",
            "Epoch 1/5\n",
            "480/480 [==============================] - 2s 2ms/step - loss: 0.8621 - accuracy: 0.5531\n",
            "Epoch 2/5\n",
            "480/480 [==============================] - 1s 3ms/step - loss: 0.8247 - accuracy: 0.5808\n",
            "Epoch 3/5\n",
            "480/480 [==============================] - 1s 3ms/step - loss: 0.8167 - accuracy: 0.5843\n",
            "Epoch 4/5\n",
            "480/480 [==============================] - 1s 3ms/step - loss: 0.8141 - accuracy: 0.5859\n",
            "Epoch 5/5\n",
            "480/480 [==============================] - 1s 3ms/step - loss: 0.8121 - accuracy: 0.5882\n",
            "Epoch 1/5\n",
            "240/240 [==============================] - 2s 3ms/step - loss: 1.6474 - accuracy: 0.3311\n",
            "Epoch 2/5\n",
            "240/240 [==============================] - 1s 3ms/step - loss: 1.4121 - accuracy: 0.3808\n",
            "Epoch 3/5\n",
            "240/240 [==============================] - 1s 4ms/step - loss: 1.3888 - accuracy: 0.3838\n",
            "Epoch 4/5\n",
            "240/240 [==============================] - 1s 4ms/step - loss: 1.3797 - accuracy: 0.3882\n",
            "Epoch 5/5\n",
            "240/240 [==============================] - 1s 4ms/step - loss: 1.3749 - accuracy: 0.3871\n"
          ]
        },
        {
          "output_type": "execute_result",
          "data": {
            "text/plain": [
              "<keras.src.callbacks.History at 0x78e08c9bffa0>"
            ]
          },
          "metadata": {},
          "execution_count": 131
        }
      ]
    },
    {
      "cell_type": "code",
      "source": [
        "from sklearn.metrics import classification_report, balanced_accuracy_score, f1_score\n",
        "\n",
        "# Convert true labels to strings if they are not already\n",
        "y_test_gd = y_test['Genetic Disorder']\n",
        "\n",
        "# Predictions for Genetic Disorder\n",
        "y_pred_gd = model_gd_final.predict(X_test)\n",
        "y_pred_gd_categorical = y_pred_gd.argmax(axis=1)\n",
        "\n",
        "# Print Outputs for Genetic Disorder\n",
        "print('\\nGenetic Disorder')\n",
        "print(classification_report(y_test_gd, y_pred_gd_categorical))\n",
        "print('\\nBalanced accuracy:')\n",
        "print(balanced_accuracy_score(y_test_gd, y_pred_gd_categorical))\n",
        "print('\\nMacro f1:')\n",
        "print(f1_score(y_test_gd, y_pred_gd_categorical, average='macro'))\n",
        "print('\\nWeighted f1:')\n",
        "print(f1_score(y_test_gd, y_pred_gd_categorical, average='weighted'))\n"
      ],
      "metadata": {
        "colab": {
          "base_uri": "https://localhost:8080/"
        },
        "id": "V5DhyjlXVJ1k",
        "outputId": "4c132bd4-2c2a-4dbd-d8b2-824406d0edb3"
      },
      "execution_count": 132,
      "outputs": [
        {
          "output_type": "stream",
          "name": "stdout",
          "text": [
            "85/85 [==============================] - 0s 2ms/step\n",
            "\n",
            "Genetic Disorder\n",
            "              precision    recall  f1-score   support\n",
            "\n",
            "           0       0.61      0.83      0.71      1397\n",
            "           1       0.44      0.32      0.37       273\n",
            "           2       0.55      0.33      0.41      1038\n",
            "\n",
            "    accuracy                           0.59      2708\n",
            "   macro avg       0.53      0.49      0.50      2708\n",
            "weighted avg       0.57      0.59      0.56      2708\n",
            "\n",
            "\n",
            "Balanced accuracy:\n",
            "0.49226857779040206\n",
            "\n",
            "Macro f1:\n",
            "0.4951387359342956\n",
            "\n",
            "Weighted f1:\n",
            "0.558515134485125\n"
          ]
        }
      ]
    },
    {
      "cell_type": "code",
      "source": [
        "\n",
        "# Convert true labels to strings if they are not already\n",
        "y_test_ds = y_test['Disorder Subclass']\n",
        "\n",
        "# Predictions for Genetic Disorder\n",
        "y_pred_ds = model_ds_final.predict(X_test)\n",
        "y_pred_ds_categorical = y_pred_ds.argmax(axis=1)\n",
        "\n",
        "# Print Outputs for Genetic Disorder\n",
        "print('\\nDisorder Subclass')\n",
        "print(classification_report(y_test_ds, y_pred_ds_categorical))\n",
        "print('\\nBalanced accuracy:')\n",
        "print(balanced_accuracy_score(y_test_ds, y_pred_ds_categorical))\n",
        "print('\\nMacro f1:')\n",
        "print(f1_score(y_test_ds, y_pred_ds_categorical, average='macro'))\n",
        "print('\\nWeighted f1:')\n",
        "print(f1_score(y_test_ds, y_pred_ds_categorical, average='weighted'))"
      ],
      "metadata": {
        "colab": {
          "base_uri": "https://localhost:8080/"
        },
        "id": "MjL5SNORaOQE",
        "outputId": "084c9935-8c82-42f4-bde6-39336e62a957"
      },
      "execution_count": 133,
      "outputs": [
        {
          "output_type": "stream",
          "name": "stdout",
          "text": [
            "85/85 [==============================] - 0s 2ms/step\n",
            "\n",
            "Disorder Subclass\n",
            "              precision    recall  f1-score   support\n",
            "\n",
            "           0       0.00      0.00      0.00        20\n",
            "           1       0.00      0.00      0.00        13\n",
            "           2       0.43      0.46      0.44       444\n",
            "           3       0.38      0.28      0.32       240\n",
            "           4       0.36      0.32      0.34       184\n",
            "           5       0.00      0.00      0.00        86\n",
            "           6       0.39      0.62      0.48       703\n",
            "           7       0.34      0.36      0.35       608\n",
            "           8       0.33      0.10      0.15       410\n",
            "\n",
            "    accuracy                           0.38      2708\n",
            "   macro avg       0.25      0.24      0.23      2708\n",
            "weighted avg       0.36      0.38      0.35      2708\n",
            "\n",
            "\n",
            "Balanced accuracy:\n",
            "0.23838735760932556\n",
            "\n",
            "Macro f1:\n",
            "0.23207266265383975\n",
            "\n",
            "Weighted f1:\n",
            "0.3507185673971928\n"
          ]
        },
        {
          "output_type": "stream",
          "name": "stderr",
          "text": [
            "/usr/local/lib/python3.10/dist-packages/sklearn/metrics/_classification.py:1344: UndefinedMetricWarning: Precision and F-score are ill-defined and being set to 0.0 in labels with no predicted samples. Use `zero_division` parameter to control this behavior.\n",
            "  _warn_prf(average, modifier, msg_start, len(result))\n",
            "/usr/local/lib/python3.10/dist-packages/sklearn/metrics/_classification.py:1344: UndefinedMetricWarning: Precision and F-score are ill-defined and being set to 0.0 in labels with no predicted samples. Use `zero_division` parameter to control this behavior.\n",
            "  _warn_prf(average, modifier, msg_start, len(result))\n",
            "/usr/local/lib/python3.10/dist-packages/sklearn/metrics/_classification.py:1344: UndefinedMetricWarning: Precision and F-score are ill-defined and being set to 0.0 in labels with no predicted samples. Use `zero_division` parameter to control this behavior.\n",
            "  _warn_prf(average, modifier, msg_start, len(result))\n"
          ]
        }
      ]
    },
    {
      "cell_type": "markdown",
      "source": [
        "Run the following cells to test with classes balanced"
      ],
      "metadata": {
        "id": "emr0Bl63_9ys"
      }
    },
    {
      "cell_type": "code",
      "source": [
        "# Get the class labels and their counts\n",
        "class_labels_gd = y['Genetic Disorder']\n",
        "class_counts_gd = class_labels_gd.value_counts()\n",
        "class_labels_ds = y['Disorder Subclass']\n",
        "class_counts_ds = class_labels_ds.value_counts()\n",
        "\n",
        "# Order class counts by class labels\n",
        "sorted_class_counts_gd = class_counts_gd.sort_index()\n",
        "sorted_class_counts_ds = class_counts_ds.sort_index()\n",
        "\n",
        "# Calculate class weights for Genetic Disorder\n",
        "total_samples_gd = len(class_labels_gd)\n",
        "num_classes_gd = len(sorted_class_counts_gd)\n",
        "class_weights_gd = {label: total_samples_gd / (num_classes_gd * count) for label, count in sorted_class_counts_gd.items()}\n",
        "print(\"Class Weights Genetic Disorder:\", class_weights_gd)\n",
        "\n",
        "# Calculate class weights for Disorder Subclass\n",
        "total_samples_ds = len(class_labels_ds)\n",
        "num_classes_ds = len(sorted_class_counts_ds)\n",
        "class_weights_ds = {label: total_samples_ds / (num_classes_ds * count) for label, count in sorted_class_counts_ds.items()}\n",
        "print(\"Class Weights Disorder Subclass:\", class_weights_ds)\n"
      ],
      "metadata": {
        "colab": {
          "base_uri": "https://localhost:8080/"
        },
        "id": "EEY9AzCxkM3j",
        "outputId": "9e71b73a-dfa1-4b1c-f506-0da1d21c9db8"
      },
      "execution_count": 141,
      "outputs": [
        {
          "output_type": "stream",
          "name": "stdout",
          "text": [
            "Class Weights Genetic Disorder: {0: 0.6509757241279803, 1: 3.2049369561356773, 2: 0.8681868475489488}\n",
            "Class Weights Disorder Subclass: {0: 15.07685881370092, 1: 22.035409035409035, 2: 0.6375905317081788, 3: 1.2130805942058211, 4: 1.6329171190734708, 5: 3.416051485898164, 6: 0.42819180487341924, 7: 0.5049665631383083, 8: 0.7845157363936707}\n"
          ]
        }
      ]
    },
    {
      "cell_type": "code",
      "source": [
        "# Build and train the model for Genetic Disorder with class weights\n",
        "model_gd_final = create_nn_model(input_dim=X_train.shape[1], output_dim=y_train_categorical_gd.shape[1])\n",
        "model_gd_final.fit(X_train, y_train_categorical_gd, epochs=best_params_gd['epochs'], batch_size=best_params_gd['batch_size'], class_weight=class_weights_gd)\n",
        "\n",
        "# Build and train the model for Disorder Subclass with class weights\n",
        "model_ds_final = create_nn_model(input_dim=X_train.shape[1], output_dim=y_train_categorical_ds.shape[1])\n",
        "model_ds_final.fit(X_train, y_train_categorical_ds, epochs=best_params_ds['epochs'], batch_size=best_params_ds['batch_size'], class_weight=class_weights_ds)"
      ],
      "metadata": {
        "colab": {
          "base_uri": "https://localhost:8080/"
        },
        "id": "_Gql5c5skaR2",
        "outputId": "c06d5bef-fe5a-4c73-8264-386f89601aa4"
      },
      "execution_count": 142,
      "outputs": [
        {
          "output_type": "stream",
          "name": "stdout",
          "text": [
            "Epoch 1/5\n",
            "480/480 [==============================] - 2s 3ms/step - loss: 0.9328 - accuracy: 0.4912\n",
            "Epoch 2/5\n",
            "480/480 [==============================] - 1s 3ms/step - loss: 0.8894 - accuracy: 0.5292\n",
            "Epoch 3/5\n",
            "480/480 [==============================] - 1s 3ms/step - loss: 0.8737 - accuracy: 0.5380\n",
            "Epoch 4/5\n",
            "480/480 [==============================] - 1s 3ms/step - loss: 0.8657 - accuracy: 0.5320\n",
            "Epoch 5/5\n",
            "480/480 [==============================] - 2s 4ms/step - loss: 0.8607 - accuracy: 0.5352\n",
            "Epoch 1/5\n",
            "240/240 [==============================] - 2s 4ms/step - loss: 1.7370 - accuracy: 0.1886\n",
            "Epoch 2/5\n",
            "240/240 [==============================] - 1s 3ms/step - loss: 1.4530 - accuracy: 0.2955\n",
            "Epoch 3/5\n",
            "240/240 [==============================] - 1s 3ms/step - loss: 1.4125 - accuracy: 0.3025\n",
            "Epoch 4/5\n",
            "240/240 [==============================] - 1s 3ms/step - loss: 1.3999 - accuracy: 0.3074\n",
            "Epoch 5/5\n",
            "240/240 [==============================] - 1s 3ms/step - loss: 1.3919 - accuracy: 0.2994\n"
          ]
        },
        {
          "output_type": "execute_result",
          "data": {
            "text/plain": [
              "<keras.src.callbacks.History at 0x78e0806fd360>"
            ]
          },
          "metadata": {},
          "execution_count": 142
        }
      ]
    },
    {
      "cell_type": "code",
      "source": [
        "# Convert true labels to strings if they are not already\n",
        "y_test_gd = y_test['Genetic Disorder']\n",
        "\n",
        "# Predictions for Genetic Disorder\n",
        "y_pred_gd = model_gd_final.predict(X_test)\n",
        "y_pred_gd_categorical = y_pred_gd.argmax(axis=1)\n",
        "\n",
        "# Print Outputs for Genetic Disorder\n",
        "print('\\nGenetic Disorder')\n",
        "print(classification_report(y_test_gd, y_pred_gd_categorical))\n",
        "print('\\nBalanced accuracy:')\n",
        "print(balanced_accuracy_score(y_test_gd, y_pred_gd_categorical))\n",
        "print('\\nMacro f1:')\n",
        "print(f1_score(y_test_gd, y_pred_gd_categorical, average='macro'))\n",
        "print('\\nWeighted f1:')\n",
        "print(f1_score(y_test_gd, y_pred_gd_categorical, average='weighted'))"
      ],
      "metadata": {
        "colab": {
          "base_uri": "https://localhost:8080/"
        },
        "id": "BbAGlbZDnDbr",
        "outputId": "687e784f-7201-4973-d07c-e1285cbe8c1c"
      },
      "execution_count": 145,
      "outputs": [
        {
          "output_type": "stream",
          "name": "stdout",
          "text": [
            "85/85 [==============================] - 0s 2ms/step\n",
            "\n",
            "Genetic Disorder\n",
            "              precision    recall  f1-score   support\n",
            "\n",
            "           0       0.68      0.67      0.68      1397\n",
            "           1       0.28      0.83      0.42       273\n",
            "           2       0.61      0.31      0.41      1038\n",
            "\n",
            "    accuracy                           0.55      2708\n",
            "   macro avg       0.52      0.60      0.50      2708\n",
            "weighted avg       0.61      0.55      0.55      2708\n",
            "\n",
            "\n",
            "Balanced accuracy:\n",
            "0.6021172754594083\n",
            "\n",
            "Macro f1:\n",
            "0.5011513599501859\n",
            "\n",
            "Weighted f1:\n",
            "0.5470313960088686\n"
          ]
        }
      ]
    },
    {
      "cell_type": "code",
      "source": [
        "# Convert true labels to strings if they are not already\n",
        "y_test_ds = y_test['Disorder Subclass']\n",
        "\n",
        "# Predictions for Genetic Disorder\n",
        "y_pred_ds = model_ds_final.predict(X_test)\n",
        "y_pred_ds_categorical = y_pred_ds.argmax(axis=1)\n",
        "\n",
        "# Print Outputs for Genetic Disorder\n",
        "print('\\nDisorder Subclass')\n",
        "print(classification_report(y_test_ds, y_pred_ds_categorical))\n",
        "print('\\nBalanced accuracy:')\n",
        "print(balanced_accuracy_score(y_test_ds, y_pred_ds_categorical))\n",
        "print('\\nMacro f1:')\n",
        "print(f1_score(y_test_ds, y_pred_ds_categorical, average='macro'))\n",
        "print('\\nWeighted f1:')\n",
        "print(f1_score(y_test_ds, y_pred_ds_categorical, average='weighted'))"
      ],
      "metadata": {
        "colab": {
          "base_uri": "https://localhost:8080/"
        },
        "id": "vkMz-QHol0qJ",
        "outputId": "a720db62-2d8c-41ff-9e31-3fcf703dc2e8"
      },
      "execution_count": 146,
      "outputs": [
        {
          "output_type": "stream",
          "name": "stdout",
          "text": [
            "85/85 [==============================] - 0s 2ms/step\n",
            "\n",
            "Disorder Subclass\n",
            "              precision    recall  f1-score   support\n",
            "\n",
            "           0       0.11      0.35      0.17        20\n",
            "           1       0.06      0.62      0.10        13\n",
            "           2       0.38      0.45      0.42       444\n",
            "           3       0.24      0.12      0.16       240\n",
            "           4       0.23      0.26      0.24       184\n",
            "           5       0.17      0.53      0.26        86\n",
            "           6       0.42      0.29      0.34       703\n",
            "           7       0.40      0.33      0.36       608\n",
            "           8       0.36      0.34      0.35       410\n",
            "\n",
            "    accuracy                           0.33      2708\n",
            "   macro avg       0.26      0.37      0.27      2708\n",
            "weighted avg       0.36      0.33      0.33      2708\n",
            "\n",
            "\n",
            "Balanced accuracy:\n",
            "0.3658757110643376\n",
            "\n",
            "Macro f1:\n",
            "0.26689726119565643\n",
            "\n",
            "Weighted f1:\n",
            "0.3315668834412152\n"
          ]
        }
      ]
    },
    {
      "cell_type": "code",
      "source": [
        "# Apply metrics\n",
        "from sklearn.metrics import confusion_matrix, accuracy_score, precision_score, recall_score, f1_score, balanced_accuracy_score\n",
        "\n",
        "accuracy_gd = accuracy_score(y_test_gd, y_pred_gd_categorical)\n",
        "precision_gd = precision_score(y_test_gd, y_pred_gd_categorical, average='weighted')\n",
        "recall_gd = recall_score(y_test_gd, y_pred_gd_categorical, average='weighted')\n",
        "f1_gd = f1_score(y_test_gd, y_pred_gd_categorical, average='weighted')\n",
        "balanced_acc_gd = balanced_accuracy_score(y_test_gd, y_pred_gd_categorical)\n",
        "\n",
        "\n",
        "accuracy_ds = accuracy_score(y_test_ds, y_pred_ds_categorical)\n",
        "precision_ds = precision_score(y_test_ds, y_pred_ds_categorical, average='weighted')\n",
        "recall_ds= recall_score(y_test_ds, y_pred_ds_categorical, average='weighted')\n",
        "f1_ds = f1_score(y_test_ds, y_pred_ds_categorical, average='weighted')\n",
        "balanced_acc_ds = balanced_accuracy_score(y_test_ds, y_pred_ds_categorical)\n",
        "\n",
        "\n",
        "# Metrics for Genetic Disorder\n",
        "print(\"Metrics for Genetic Disorder:\")\n",
        "print(\"Accuracy: {:.3f}\".format(accuracy_gd))\n",
        "print(\"Precision: {:.3f}\".format(precision_gd))\n",
        "print(\"Recall: {:.3f}\".format(recall_gd))\n",
        "print(\"F1 Score: {:.3f}\".format(f1_gd))\n",
        "print(\"Balanced Accuracy: {:.3f}\".format(balanced_acc_gd))\n",
        "\n",
        "# Metrics for Disorder Subclass\n",
        "print(\"\\nMetrics for Disorder Subclass:\")\n",
        "print(\"Accuracy: {:.3f}\".format(accuracy_ds))\n",
        "print(\"Precision: {:.3f}\".format(precision_ds))\n",
        "print(\"Recall: {:.3f}\".format(recall_ds))\n",
        "print(\"F1 Score: {:.3f}\".format(f1_ds))\n",
        "print(\"Balanced Accuracy: {:.3f}\".format(balanced_acc_ds))"
      ],
      "metadata": {
        "colab": {
          "base_uri": "https://localhost:8080/"
        },
        "id": "p9VMbXVdkaZp",
        "outputId": "3cce027a-061f-4ecb-8d28-5c90858866cf"
      },
      "execution_count": 147,
      "outputs": [
        {
          "output_type": "stream",
          "name": "stdout",
          "text": [
            "Metrics for Genetic Disorder:\n",
            "Accuracy: 0.548\n",
            "Precision: 0.612\n",
            "Recall: 0.548\n",
            "F1 Score: 0.547\n",
            "Balanced Accuracy: 0.602\n",
            "\n",
            "Metrics for Disorder Subclass:\n",
            "Accuracy: 0.326\n",
            "Precision: 0.359\n",
            "Recall: 0.326\n",
            "F1 Score: 0.332\n",
            "Balanced Accuracy: 0.366\n"
          ]
        }
      ]
    }
  ]
}