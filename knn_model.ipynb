{
 "cells": [
  {
   "cell_type": "markdown",
   "metadata": {},
   "source": [
    "# K-Nearest Neighbors Classifier"
   ]
  },
  {
   "cell_type": "code",
   "execution_count": 32,
   "metadata": {},
   "outputs": [],
   "source": [
    "# Import necessary libraries\n",
    "\n",
    "import numpy as np\n",
    "import matplotlib.pyplot as plt\n",
    "import pandas as pd\n",
    "\n",
    "from sklearn.model_selection import train_test_split, cross_val_score\n",
    "from sklearn.multioutput import MultiOutputClassifier\n",
    "from sklearn.metrics import balanced_accuracy_score, classification_report\n",
    "from sklearn.preprocessing import StandardScaler\n",
    "from sklearn.neighbors import KNeighborsClassifier"
   ]
  },
  {
   "cell_type": "code",
   "execution_count": 33,
   "metadata": {},
   "outputs": [],
   "source": [
    "# Load dataset\n",
    "\n",
    "dataset= pd.read_csv('dataset.csv')\n",
    "\n",
    "# Replace 'Unknown' with NaN in Target\n",
    "dataset['Genetic Disorder'].replace('Unknown', np.nan, inplace=True)\n",
    "dataset['Disorder Subclass'].replace('Unknown', np.nan, inplace=True)\n",
    "\n",
    "dataset.dropna(inplace=True)\n",
    "\n",
    "# Alocate features and labels\n",
    "\n",
    "X = dataset.iloc[:, :-2]  # Features\n",
    "y = dataset.iloc[:, -2:]  # Labels (last two columns)\n",
    "\n",
    "# Perform one-hot encoding on the categorical features\n",
    "X = pd.get_dummies(X, drop_first=True)\n",
    "# drop_first is used to drop one of the columns for each categorical feature to avoid multicollinearity.\n",
    "\n",
    "# Check if the target variable has more than 2 classes\n",
    "if y.nunique().any() > 2:\n",
    "    y = pd.get_dummies(y, drop_first=True)\n"
   ]
  },
  {
   "cell_type": "code",
   "execution_count": 34,
   "metadata": {},
   "outputs": [],
   "source": [
    "# Split the data into validation, validation and test\n",
    "\n",
    "X_train, X_test, y_train, y_test = train_test_split(X, y, train_size=0.75,  random_state=1) # training as 75% \n",
    "\n",
    "\n",
    "# Standardize features (important for KNN)\n",
    "\n",
    "scaler = StandardScaler()\n",
    "X_train_scaled = scaler.fit_transform(X_train)\n",
    "X_test_scaled = scaler.transform(X_test)\n"
   ]
  },
  {
   "cell_type": "code",
   "execution_count": 35,
   "metadata": {},
   "outputs": [
    {
     "name": "stdout",
     "output_type": "stream",
     "text": [
      "Cross-Validation Scores: [0.14259328 0.15367566 0.1344662  0.14591799 0.13889915]\n",
      "Mean Cross-Validation Score: 0.14311045437753972\n"
     ]
    }
   ],
   "source": [
    "# Initialize the KNN classifier\n",
    "\n",
    "k_neighbors = 3\n",
    "knn = MultiOutputClassifier(KNeighborsClassifier(n_neighbors=k_neighbors))\n",
    "\n",
    "# Perform cross-validation\n",
    "cv_scores = cross_val_score(knn, X_train_scaled, y_train, cv=5) # 5-fold cross-validation\n",
    "\n",
    "print(\"Cross-Validation Scores:\", cv_scores)\n",
    "print(\"Mean Cross-Validation Score:\", cv_scores.mean())\n",
    "\n",
    "# Train the KNN classifier on the entire training set\n",
    "knn.fit(X_train_scaled, y_train)\n",
    "\n",
    "# Make predictions on the test set\n",
    "y_pred = knn.predict(X_test_scaled)\n"
   ]
  },
  {
   "cell_type": "code",
   "execution_count": 36,
   "metadata": {},
   "outputs": [],
   "source": [
    "# Evaluate the model\n",
    "\n",
    "# Separate the multi output targets\n",
    "y_test_last1 = y_test.iloc[:, -1]\n",
    "y_test_last2 = y_test.iloc[:, -2]\n",
    "\n",
    "y_pred_last1 = y_pred[:, -1]\n",
    "y_pred_last2 = y_pred[:, -2]\n",
    "\n",
    "\n",
    "balanced_acc_last1 = balanced_accuracy_score(y_test_last2, y_pred_last2)\n",
    "balanced_acc_last2 = balanced_accuracy_score(y_test_last2, y_pred_last2)\n"
   ]
  },
  {
   "cell_type": "markdown",
   "metadata": {},
   "source": [
    "# Use dataset without Unknown values"
   ]
  },
  {
   "cell_type": "code",
   "execution_count": 37,
   "metadata": {},
   "outputs": [],
   "source": [
    "# Train models without unknown data\n",
    "\n",
    "# Replace 'Unknown' with NaN\n",
    "dataset.replace('Unknown', np.nan, inplace=True)\n",
    "\n",
    "dataset.dropna(inplace=True)"
   ]
  },
  {
   "cell_type": "code",
   "execution_count": 38,
   "metadata": {},
   "outputs": [],
   "source": [
    "# Alocate features and labels\n",
    "\n",
    "X = dataset.iloc[:, :-2]  # Features\n",
    "y = dataset.iloc[:, -2:]  # Labels (last two columns)\n",
    "\n",
    "# Perform one-hot encoding on the categorical features\n",
    "X = pd.get_dummies(X, drop_first=True)\n",
    "# drop_first is used to drop one of the columns for each categorical feature to avoid multicollinearity.\n",
    "\n",
    "# Check if the target variable has more than 2 classes\n",
    "if y.nunique().any() > 2:\n",
    "    y = pd.get_dummies(y, drop_first=True)"
   ]
  },
  {
   "cell_type": "code",
   "execution_count": 39,
   "metadata": {},
   "outputs": [],
   "source": [
    "# Split the data into validation, validation and test\n",
    "\n",
    "X_train, X_test, y_train, y_test = train_test_split(X, y, train_size=0.75,  random_state=1) # training as 75% \n",
    "\n",
    "\n",
    "# Standardize features (important for KNN)\n",
    "\n",
    "scaler = StandardScaler()\n",
    "X_train_scaled = scaler.fit_transform(X_train)\n",
    "X_test_scaled = scaler.transform(X_test)"
   ]
  },
  {
   "cell_type": "code",
   "execution_count": 43,
   "metadata": {},
   "outputs": [
    {
     "name": "stdout",
     "output_type": "stream",
     "text": [
      "Cross-Validation Scores: [0.1589404  0.16666667 0.11333333 0.18666667 0.12666667]\n",
      "Mean Cross-Validation Score: 0.15045474613686535\n"
     ]
    }
   ],
   "source": [
    "# Initialize the KNN classifier\n",
    "\n",
    "k_neighbors = 3\n",
    "knn = MultiOutputClassifier(KNeighborsClassifier(n_neighbors=k_neighbors))\n",
    "\n",
    "# Perform cross-validation\n",
    "cv_scores = cross_val_score(knn, X_train_scaled, y_train, cv=5) # 5-fold cross-validation\n",
    "\n",
    "print(\"Cross-Validation Scores:\", cv_scores)\n",
    "print(\"Mean Cross-Validation Score:\", cv_scores.mean())\n",
    "\n",
    "# Train the KNN classifier on the entire training set\n",
    "knn.fit(X_train_scaled, y_train)\n",
    "\n",
    "# Make predictions on the test set\n",
    "y_pred = knn.predict(X_test_scaled)\n"
   ]
  },
  {
   "cell_type": "code",
   "execution_count": 41,
   "metadata": {},
   "outputs": [],
   "source": [
    "# Evaluate the model\n",
    "\n",
    "# Separate the multi output targets\n",
    "y_test_last1_new = y_test.iloc[:, -1]\n",
    "y_test_last2_new = y_test.iloc[:, -2]\n",
    "\n",
    "y_pred_last1_new = y_pred[:, -1]\n",
    "y_pred_last2_new = y_pred[:, -2]\n",
    "\n",
    "\n",
    "balanced_acc_last1_new = balanced_accuracy_score(y_test_last2_new, y_pred_last2_new)\n",
    "balanced_acc_last2_new = balanced_accuracy_score(y_test_last2_new, y_pred_last2_new)\n"
   ]
  },
  {
   "cell_type": "code",
   "execution_count": 42,
   "metadata": {},
   "outputs": [
    {
     "name": "stdout",
     "output_type": "stream",
     "text": [
      "\n",
      "Classification Report (Last Column):\n",
      "                                     precision    recall  f1-score   support\n",
      "\n",
      "                        Alzheimer's       0.03      0.06      0.04        32\n",
      "                             Cancer       0.00      0.00      0.00        22\n",
      "                    Cystic fibrosis       0.17      0.36      0.23       745\n",
      "                           Diabetes       0.11      0.16      0.13       417\n",
      "                    Hemochromatosis       0.10      0.10      0.10       315\n",
      "Leber's hereditary optic neuropathy       0.04      0.04      0.04       141\n",
      "                     Leigh syndrome       0.27      0.22      0.24      1186\n",
      "             Mitochondrial myopathy       0.23      0.14      0.17      1016\n",
      "                          Tay-Sachs       0.19      0.06      0.10       638\n",
      "\n",
      "                           accuracy                           0.18      4512\n",
      "                          macro avg       0.13      0.13      0.12      4512\n",
      "                       weighted avg       0.20      0.18      0.17      4512\n",
      "\n",
      "balanced accuracy: 0.340222448340559\n",
      "\n",
      "Classification Report (Second to Last Column):\n",
      "                                              precision    recall  f1-score   support\n",
      "\n",
      " Mitochondrial genetic inheritance disorders       0.52      0.66      0.58      2343\n",
      "Multifactorial genetic inheritance disorders       0.16      0.05      0.07       471\n",
      "            Single-gene inheritance diseases       0.39      0.32      0.35      1698\n",
      "\n",
      "                                    accuracy                           0.47      4512\n",
      "                                   macro avg       0.35      0.34      0.33      4512\n",
      "                                weighted avg       0.43      0.47      0.44      4512\n",
      "\n",
      "balanced accuracy: 0.340222448340559\n",
      "\n",
      "-------------------------REMOVING UNKNOWNS ---------------------------\n",
      "\n",
      "Classification Report (Last Column):\n",
      "                                     precision    recall  f1-score   support\n",
      "\n",
      "                        Alzheimer's       0.00      0.00      0.00         1\n",
      "                    Cystic fibrosis       0.14      0.24      0.18        45\n",
      "                           Diabetes       0.18      0.20      0.19        25\n",
      "                    Hemochromatosis       0.06      0.06      0.06        17\n",
      "Leber's hereditary optic neuropathy       0.08      0.10      0.09        10\n",
      "                     Leigh syndrome       0.19      0.22      0.21        59\n",
      "             Mitochondrial myopathy       0.17      0.08      0.11        62\n",
      "                          Tay-Sachs       0.07      0.03      0.04        32\n",
      "\n",
      "                           accuracy                           0.15       251\n",
      "                          macro avg       0.11      0.12      0.11       251\n",
      "                       weighted avg       0.15      0.15      0.14       251\n",
      "\n",
      "balanced accuracy: 0.30411497440894875\n",
      "\n",
      "Classification Report (Second to Last Column):\n",
      "                                              precision    recall  f1-score   support\n",
      "\n",
      " Mitochondrial genetic inheritance disorders       0.49      0.67      0.57       131\n",
      "Multifactorial genetic inheritance disorders       0.20      0.04      0.06        26\n",
      "            Single-gene inheritance diseases       0.29      0.20      0.24        94\n",
      "\n",
      "                                    accuracy                           0.43       251\n",
      "                                   macro avg       0.33      0.30      0.29       251\n",
      "                                weighted avg       0.38      0.43      0.39       251\n",
      "\n",
      "balanced accuracy: 0.30411497440894875\n"
     ]
    }
   ],
   "source": [
    "# Metrics and information for each output column\n",
    "print('\\nClassification Report (Last Column):')\n",
    "print(classification_report(y_test_last1, y_pred_last1))\n",
    "print(\"balanced accuracy:\", balanced_acc_last1)\n",
    "\n",
    "print('\\nClassification Report (Second to Last Column):')\n",
    "print(classification_report(y_test_last2, y_pred_last2))\n",
    "print(\"balanced accuracy:\", balanced_acc_last2)\n",
    "\n",
    "print('\\n-------------------------REMOVING UNKNOWNS ---------------------------')\n",
    "\n",
    "print('\\nClassification Report (Last Column):')\n",
    "print(classification_report(y_test_last1_new, y_pred_last1_new))\n",
    "print(\"balanced accuracy:\", balanced_acc_last1_new)\n",
    "\n",
    "print('\\nClassification Report (Second to Last Column):')\n",
    "print(classification_report(y_test_last2_new, y_pred_last2_new))\n",
    "print(\"balanced accuracy:\", balanced_acc_last2_new)\n"
   ]
  }
 ],
 "metadata": {
  "kernelspec": {
   "display_name": "base",
   "language": "python",
   "name": "python3"
  },
  "language_info": {
   "codemirror_mode": {
    "name": "ipython",
    "version": 3
   },
   "file_extension": ".py",
   "mimetype": "text/x-python",
   "name": "python",
   "nbconvert_exporter": "python",
   "pygments_lexer": "ipython3",
   "version": "3.11.5"
  }
 },
 "nbformat": 4,
 "nbformat_minor": 2
}
