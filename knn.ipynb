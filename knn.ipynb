{
 "cells": [
  {
   "cell_type": "markdown",
   "metadata": {},
   "source": [
    "# K-Nearest Neighbours"
   ]
  },
  {
   "cell_type": "code",
   "execution_count": null,
   "metadata": {},
   "outputs": [],
   "source": [
    "# Import necessary libraries\n",
    "\n",
    "import numpy as np\n",
    "import matplotlib.pyplot as plt\n",
    "import pandas as pd\n",
    "\n",
    "from sklearn.model_selection import train_test_split, RandomizedSearchCV\n",
    "from sklearn.multioutput import MultiOutputClassifier\n",
    "from sklearn.neighbors import KNeighborsClassifier\n",
    "from sklearn.metrics import balanced_accuracy_score, f1_score, accuracy_score\n",
    "from sklearn.preprocessing import LabelEncoder, StandardScaler\n",
    "\n",
    "\n",
    "label_encoder = LabelEncoder()\n",
    "\n",
    "# Load dataset\n",
    "df= pd.read_csv('dataset.csv')\n",
    "\n",
    "# Replace 'Unknown' with NaN in Target Columns and eliminate such samples\n",
    "df['Genetic Disorder'].replace('Unknown', np.nan, inplace=True)\n",
    "df['Disorder Subclass'].replace('Unknown', np.nan, inplace=True)\n",
    "df.dropna(inplace=True)"
   ]
  },
  {
   "cell_type": "markdown",
   "metadata": {},
   "source": [
    "# Encode Data"
   ]
  },
  {
   "cell_type": "markdown",
   "metadata": {},
   "source": [
    "Before Feature Selection"
   ]
  },
  {
   "cell_type": "code",
   "execution_count": null,
   "metadata": {},
   "outputs": [],
   "source": [
    "# Encode categorical variables\n",
    "all_x_columns= [\n",
    "    'Patient Age', \"Genes in mother's side\", 'Inherited from father', 'Maternal gene', 'Paternal gene',\n",
    "    'Blood cell count (mcL)', \"Mother's age\", \"Father's age\", 'Status', 'Respiratory Rate (breaths/min)',\n",
    "    'Heart Rate (rates/min)', 'Follow-up', 'Gender', 'Birth asphyxia',\n",
    "    'Autopsy shows birth defect (if applicable)', 'Place of birth', 'Folic acid details (peri-conceptional)',\n",
    "    'H/O serious maternal illness', 'H/O radiation exposure (x-ray)', 'H/O substance abuse',\n",
    "    'Assisted conception IVF/ART', 'History of anomalies in previous pregnancies', 'No. of previous abortion',\n",
    "    'Birth defects', 'White Blood cell count (thousand per microliter)', 'Blood test result',\n",
    "    'Symptom 1', 'Symptom 2', 'Symptom 3', 'Symptom 4', 'Symptom 5', 'Genetic Disorder', 'Disorder Subclass'\n",
    "]\n",
    "\n",
    "df_encoded=df.copy()\n",
    "for column in all_x_columns:\n",
    "    df_encoded[column] = label_encoder.fit_transform(df_encoded[column].astype(str))\n"
   ]
  },
  {
   "cell_type": "markdown",
   "metadata": {},
   "source": [
    "Feature Extraction (run with or without this)"
   ]
  },
  {
   "cell_type": "code",
   "execution_count": null,
   "metadata": {},
   "outputs": [],
   "source": [
    "# With feature selection ANOVA\n",
    "selected_columns = [\"Symptom 5\", \"Symptom 4\", \"Symptom 3\", \"Symptom 2\",\n",
    "                    \"Genes in mother's side\", \"Inherited from father\",\"Genetic Disorder\",\"Disorder Subclass\"]\n",
    "df=df[selected_columns]\n",
    "\n",
    "df_encoded=df.copy()\n",
    "for column in selected_columns:\n",
    "    df_encoded[column] = label_encoder.fit_transform(df_encoded[column].astype(str))"
   ]
  },
  {
   "cell_type": "code",
   "execution_count": null,
   "metadata": {},
   "outputs": [],
   "source": [
    "X = df_encoded.drop(columns=['Genetic Disorder', 'Disorder Subclass'])\n",
    "y = df_encoded[['Genetic Disorder', 'Disorder Subclass']]\n",
    "\n",
    "# Split the data into training and testing sets\n",
    "X_train, X_test, y_train, y_test = train_test_split(X, y, train_size=0.75, random_state=1)\n",
    "\n",
    "# Standardize features (important for KNN)\n",
    "scaler = StandardScaler()\n",
    "X_train_scaled = scaler.fit_transform(X_train)\n",
    "X_test_scaled = scaler.transform(X_test)\n",
    "\n",
    "knn_gd = KNeighborsClassifier()\n",
    "knn_ds = KNeighborsClassifier()\n",
    "knn_multi = MultiOutputClassifier(KNeighborsClassifier())"
   ]
  },
  {
   "cell_type": "markdown",
   "metadata": {},
   "source": [
    "Run one or other for models accounting unbalanced data:"
   ]
  },
  {
   "cell_type": "code",
   "execution_count": null,
   "metadata": {},
   "outputs": [],
   "source": [
    "weights = ['uniform']"
   ]
  },
  {
   "cell_type": "code",
   "execution_count": null,
   "metadata": {},
   "outputs": [],
   "source": [
    "weights = ['distance']"
   ]
  },
  {
   "cell_type": "markdown",
   "metadata": {},
   "source": [
    "Computed for each class"
   ]
  },
  {
   "cell_type": "code",
   "execution_count": null,
   "metadata": {},
   "outputs": [],
   "source": [
    "# Tuning\n",
    "param_grid = {\n",
    "    'n_neighbors': [9, 15, 17, 21],\n",
    "    'algorithm': ['auto', 'ball_tree', 'kd_tree'],\n",
    "    'leaf_size': [10, 20, 30, 40],\n",
    "    'metric': ['minkowski', 'euclidean', 'manhattan'],\n",
    "    'weights':weights\n",
    "}\n",
    "\n",
    "\n",
    "# Genetic Disorder\n",
    "knn_tuned = RandomizedSearchCV(estimator = knn_gd, param_distributions = param_grid, n_iter = 100, cv = 3, verbose=2, refit=True, scoring='balanced_accuracy')\n",
    "\n",
    "knn_tuned.fit(X_train_scaled, y_train['Disorder Subclass'])\n",
    "y_pred_ds = knn_tuned.predict(X_test_scaled) \n",
    "\n",
    "# Disorder Subclass\n",
    "knn_tuned = RandomizedSearchCV(estimator = knn_ds, param_distributions = param_grid, n_iter = 100, cv = 3, verbose=2, refit=True, scoring='balanced_accuracy')\n",
    "\n",
    "knn_tuned.fit(X_train_scaled, y_train['Genetic Disorder'])\n",
    "y_pred_gd = knn_tuned.predict(X_test_scaled) \n",
    "\n",
    "# Assess performance\n",
    "\n",
    "y_test_array = y_test.to_numpy()\n",
    "\n",
    "f1_score_genetic_disorder = f1_score(y_test_array[:, 0], y_pred_gd, average='weighted')\n",
    "f1_score_disorder_subclass = f1_score(y_test_array[:, 1], y_pred_ds, average='weighted')\n",
    "\n",
    "f1_score_macro_genetic_disorder = f1_score(y_test_array[:, 0], y_pred_gd, average='macro')\n",
    "f1_score_macro_disorder_subclass = f1_score(y_test_array[:, 1], y_pred_ds, average='macro')\n",
    "\n",
    "accuracy_genetic_disorder = accuracy_score(y_test_array[:, 0], y_pred_gd)\n",
    "accuracy_disorder_subclass = accuracy_score(y_test_array[:, 1], y_pred_ds)\n",
    "\n",
    "balanced_accuracy_genetic_disorder = balanced_accuracy_score(y_test_array[:, 0],y_pred_gd)\n",
    "balanced_accuracy_disorder_subclass = balanced_accuracy_score(y_test_array[:, 1], y_pred_ds)"
   ]
  },
  {
   "cell_type": "markdown",
   "metadata": {},
   "source": [
    "Multioutput"
   ]
  },
  {
   "cell_type": "code",
   "execution_count": null,
   "metadata": {},
   "outputs": [],
   "source": [
    "# Tuning\n",
    "param_grid = {\n",
    "    'estimator__n_neighbors': [9, 15, 17, 21],\n",
    "    'estimator__algorithm': ['auto', 'ball_tree', 'kd_tree'],\n",
    "    'estimator__leaf_size': [10, 20, 30, 40],\n",
    "    'estimator__metric': ['minkowski', 'euclidean', 'manhattan'],\n",
    "    'estimator__weights': weights\n",
    "}\n",
    "\n",
    "\n",
    "# Genetic Disorder\n",
    "knn_multi_tuned = RandomizedSearchCV(estimator = knn_multi, param_distributions = param_grid, n_iter = 100, cv = 3, verbose=2, refit=True)\n",
    "\n",
    "knn_multi_tuned.fit(X_train_scaled, y_train)\n",
    "y_pred = knn_multi_tuned.predict(X_test_scaled) \n",
    "\n",
    "# Assess performance\n",
    "\n",
    "y_test_array = y_test.to_numpy()\n",
    "\n",
    "f1_score_genetic_disorder = f1_score(y_test_array[:, 0], y_pred[:,0], average='weighted')\n",
    "f1_score_disorder_subclass = f1_score(y_test_array[:, 1], y_pred[:, 1], average='weighted')\n",
    "\n",
    "f1_score_macro_genetic_disorder = f1_score(y_test_array[:, 0], y_pred[:,0], average='macro')\n",
    "f1_score_macro_disorder_subclass = f1_score(y_test_array[:, 1], y_pred[:, 1], average='macro')\n",
    "\n",
    "accuracy_genetic_disorder = accuracy_score(y_test_array[:, 0], y_pred[:,0])\n",
    "accuracy_disorder_subclass = accuracy_score(y_test_array[:, 1], y_pred[:, 1])\n",
    "\n",
    "balanced_accuracy_genetic_disorder = balanced_accuracy_score(y_test_array[:, 0],y_pred[:,0])\n",
    "balanced_accuracy_disorder_subclass = balanced_accuracy_score(y_test_array[:, 1], y_pred[:, 1])"
   ]
  },
  {
   "cell_type": "markdown",
   "metadata": {},
   "source": [
    "Print results"
   ]
  },
  {
   "cell_type": "code",
   "execution_count": null,
   "metadata": {},
   "outputs": [],
   "source": [
    "print(\"Classification for Genetic Disorder:\")\n",
    "\n",
    "print(\"F1 Score for Genetic Disorder:\", f1_score_genetic_disorder)\n",
    "print(\"Macro F1 Score for Genetic Disorder:\", f1_score_macro_genetic_disorder)\n",
    "print(\"Accuracy for Genetic Disorder:\", accuracy_genetic_disorder)\n",
    "print(\"Balanced Accuracy for Genetic Disorder:\", balanced_accuracy_genetic_disorder)\n",
    "\n",
    "print(\"\\nClassification for Disorder Subclass:\")\n",
    "\n",
    "print(\"F1 Score for Disorder Subclass:\", f1_score_disorder_subclass)\n",
    "print(\"Macro F1 Score for Disorder Subclass:\", f1_score_macro_disorder_subclass)\n",
    "print(\"Accuracy for Disorder Subclass:\", accuracy_disorder_subclass)\n",
    "print(\"Balanced Accuracy for Disorder Subclass:\", balanced_accuracy_disorder_subclass)\n"
   ]
  }
 ],
 "metadata": {
  "kernelspec": {
   "display_name": "base",
   "language": "python",
   "name": "python3"
  },
  "language_info": {
   "codemirror_mode": {
    "name": "ipython",
    "version": 3
   },
   "file_extension": ".py",
   "mimetype": "text/x-python",
   "name": "python",
   "nbconvert_exporter": "python",
   "pygments_lexer": "ipython3",
   "version": "3.11.5"
  }
 },
 "nbformat": 4,
 "nbformat_minor": 2
}
