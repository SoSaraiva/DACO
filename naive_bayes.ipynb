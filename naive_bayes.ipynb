{
 "cells": [
  {
   "cell_type": "markdown",
   "metadata": {},
   "source": [
    "NAIVE-BAYES CLASSIFIER"
   ]
  },
  {
   "cell_type": "code",
   "execution_count": null,
   "metadata": {},
   "outputs": [],
   "source": [
    "import numpy as np\n",
    "import pandas as pd\n",
    "from sklearn.preprocessing import LabelEncoder\n",
    "from sklearn.model_selection import train_test_split\n",
    "from sklearn.metrics import classification_report\n",
    "from sklearn.metrics import balanced_accuracy_score\n",
    "from sklearn.metrics import f1_score"
   ]
  },
  {
   "cell_type": "markdown",
   "metadata": {},
   "source": [
    "GAUSSIAN VS MULTINOMIAL (RUN ONE OF THE CELLS)"
   ]
  },
  {
   "cell_type": "markdown",
   "metadata": {},
   "source": [
    "Gaussian Naive-Bayes"
   ]
  },
  {
   "cell_type": "code",
   "execution_count": null,
   "metadata": {},
   "outputs": [],
   "source": [
    "from sklearn.naive_bayes import GaussianNB\n",
    "nb=GaussianNB()"
   ]
  },
  {
   "cell_type": "markdown",
   "metadata": {},
   "source": [
    "Multinomial Naive-Bayes"
   ]
  },
  {
   "cell_type": "code",
   "execution_count": null,
   "metadata": {},
   "outputs": [],
   "source": [
    "from sklearn.naive_bayes import MultinomialNB\n",
    "nb=MultinomialNB()"
   ]
  },
  {
   "cell_type": "markdown",
   "metadata": {},
   "source": [
    "LOAD DATASET"
   ]
  },
  {
   "cell_type": "code",
   "execution_count": null,
   "metadata": {},
   "outputs": [],
   "source": [
    "#dataset\n",
    "df = pd.read_csv('dataset.csv')\n",
    "\n",
    "label_encoder = LabelEncoder()\n",
    "sample_weights = None"
   ]
  },
  {
   "cell_type": "markdown",
   "metadata": {},
   "source": [
    "REMOVE UNKNOWNS FROM TARGETS VS FROM ALL COLUMNS (RUN ONE OF THE CELLS)"
   ]
  },
  {
   "cell_type": "markdown",
   "metadata": {},
   "source": [
    "Without unknown targets (possible to apply just to one of the columns if only one of them is the target)"
   ]
  },
  {
   "cell_type": "code",
   "execution_count": null,
   "metadata": {},
   "outputs": [],
   "source": [
    "# Replace 'Unknown' with NaN\n",
    "df['Genetic Disorder'].replace('Unknown', np.nan, inplace=True)\n",
    "df['Disorder Subclass'].replace('Unknown', np.nan, inplace=True)\n",
    "\n",
    "df.dropna(inplace=True)"
   ]
  },
  {
   "cell_type": "markdown",
   "metadata": {},
   "source": [
    "Without unknown in any column"
   ]
  },
  {
   "cell_type": "code",
   "execution_count": null,
   "metadata": {},
   "outputs": [],
   "source": [
    "# Replace 'Unknown' with NaN\n",
    "df.replace('Unknown', np.nan, inplace=True)\n",
    "\n",
    "df.dropna(inplace=True)"
   ]
  },
  {
   "cell_type": "markdown",
   "metadata": {},
   "source": [
    "USE JUST LABEL ENCODER OR ONE-HOT ENCODER OR SELECTED FEATURES (RUN ONE OF THE CELLS)"
   ]
  },
  {
   "cell_type": "markdown",
   "metadata": {},
   "source": [
    "Just label encoder"
   ]
  },
  {
   "cell_type": "code",
   "execution_count": null,
   "metadata": {},
   "outputs": [],
   "source": [
    "all_x_columns= [\n",
    "    'Patient Age', \"Genes in mother's side\", 'Inherited from father', 'Maternal gene', 'Paternal gene',\n",
    "    'Blood cell count (mcL)', \"Mother's age\", \"Father's age\", 'Status', 'Respiratory Rate (breaths/min)',\n",
    "    'Heart Rate (rates/min)', 'Follow-up', 'Gender', 'Birth asphyxia',\n",
    "    'Autopsy shows birth defect (if applicable)', 'Place of birth', 'Folic acid details (peri-conceptional)',\n",
    "    'H/O serious maternal illness', 'H/O radiation exposure (x-ray)', 'H/O substance abuse',\n",
    "    'Assisted conception IVF/ART', 'History of anomalies in previous pregnancies', 'No. of previous abortion',\n",
    "    'Birth defects', 'White Blood cell count (thousand per microliter)', 'Blood test result',\n",
    "    'Symptom 1', 'Symptom 2', 'Symptom 3', 'Symptom 4', 'Symptom 5'\n",
    "]\n",
    "\n",
    "df_encoded=df.copy()\n",
    "for column in all_x_columns:\n",
    "    df_encoded[column] = label_encoder.fit_transform(df_encoded[column].astype(str))"
   ]
  },
  {
   "cell_type": "markdown",
   "metadata": {},
   "source": [
    "One-hot encoder"
   ]
  },
  {
   "cell_type": "code",
   "execution_count": null,
   "metadata": {},
   "outputs": [],
   "source": [
    "all_x_columns= [\n",
    "    'Patient Age', \"Genes in mother's side\", 'Inherited from father', 'Maternal gene', 'Paternal gene',\n",
    "    'Blood cell count (mcL)', \"Mother's age\", \"Father's age\", 'Status', 'Respiratory Rate (breaths/min)',\n",
    "    'Heart Rate (rates/min)', 'Follow-up', 'Gender', 'Birth asphyxia',\n",
    "    'Autopsy shows birth defect (if applicable)', 'Place of birth', 'Folic acid details (peri-conceptional)',\n",
    "    'H/O serious maternal illness', 'H/O radiation exposure (x-ray)', 'H/O substance abuse',\n",
    "    'Assisted conception IVF/ART', 'History of anomalies in previous pregnancies', 'No. of previous abortion',\n",
    "    'Birth defects', 'White Blood cell count (thousand per microliter)', 'Blood test result',\n",
    "    'Symptom 1', 'Symptom 2', 'Symptom 3', 'Symptom 4', 'Symptom 5'\n",
    "]\n",
    "\n",
    "df_encoded=df.copy()\n",
    "\n",
    "df_encoded=pd.get_dummies(df, columns=all_x_columns, drop_first=False)"
   ]
  },
  {
   "cell_type": "markdown",
   "metadata": {},
   "source": [
    "With feature selection"
   ]
  },
  {
   "cell_type": "code",
   "execution_count": null,
   "metadata": {},
   "outputs": [],
   "source": [
    "# With feature selection\n",
    "\n",
    "df=df[[\"Symptom 5\", \"Symptom 4\", \"Symptom 3\", \"Symptom 2\", \"Genes in mother's side\", \"Inherited from father\",\"Genetic Disorder\",\"Disorder Subclass\"]]\n",
    "\n",
    "df_encoded=df.copy()\n",
    "df_encoded=pd.get_dummies(df_encoded, columns=[\"Symptom 5\", \"Symptom 4\", \"Symptom 3\", \"Symptom 2\", \"Genes in mother's side\", \"Inherited from father\"], drop_first=False)"
   ]
  },
  {
   "cell_type": "markdown",
   "metadata": {},
   "source": [
    "TRAIN MODEL TO PREDICT GENETIC DISORDER VS DISORDER SUBCLASS (RUN ONE OF THE CELLS)"
   ]
  },
  {
   "cell_type": "markdown",
   "metadata": {},
   "source": [
    "Genetic Disorder"
   ]
  },
  {
   "cell_type": "code",
   "execution_count": null,
   "metadata": {},
   "outputs": [],
   "source": [
    "# Extract features and target\n",
    "X = df_encoded.drop(columns=['Genetic Disorder', 'Disorder Subclass'], axis=1)\n",
    "y = df_encoded['Genetic Disorder']\n",
    "X_train, X_test, y_train, y_test = train_test_split(X, y, train_size=0.75, stratify=y) # training as 75%"
   ]
  },
  {
   "cell_type": "markdown",
   "metadata": {},
   "source": [
    "Disorder subclass"
   ]
  },
  {
   "cell_type": "code",
   "execution_count": null,
   "metadata": {},
   "outputs": [],
   "source": [
    "# Extract features and target\n",
    "X = df_encoded.drop(columns=['Genetic Disorder', 'Disorder Subclass'], axis=1)\n",
    "y = df_encoded['Disorder Subclass']\n",
    "X_train, X_test, y_train, y_test = train_test_split(X, y, train_size=0.75, stratify=y) # training as 75%"
   ]
  },
  {
   "cell_type": "markdown",
   "metadata": {},
   "source": [
    "BALANCE SAMPLES (POSSIBLE TO SKIP)"
   ]
  },
  {
   "cell_type": "code",
   "execution_count": null,
   "metadata": {},
   "outputs": [],
   "source": [
    "from sklearn.utils.class_weight import compute_sample_weight\n",
    "sample_weights=compute_sample_weight(class_weight='balanced', y=y_train)"
   ]
  },
  {
   "cell_type": "markdown",
   "metadata": {},
   "source": [
    "TRAIN MODEL AND PRINT SCORES"
   ]
  },
  {
   "cell_type": "code",
   "execution_count": null,
   "metadata": {},
   "outputs": [],
   "source": [
    "nb.fit(X_train, y_train, sample_weight=sample_weights)\n",
    "\n",
    "y_pred = nb.predict(X_test) \n",
    "\n",
    "print(classification_report(y_test, y_pred))\n",
    "print('\\nBalanced accuracy:')\n",
    "print(balanced_accuracy_score(y_test, y_pred))\n",
    "print('\\nMacro f1:')\n",
    "print(f1_score(y_test, y_pred, average='macro'))\n",
    "print('\\nWeighted f1:')\n",
    "print(f1_score(y_test, y_pred, average='weighted'))"
   ]
  },
  {
   "cell_type": "code",
   "execution_count": null,
   "metadata": {},
   "outputs": [],
   "source": []
  }
 ],
 "metadata": {
  "kernelspec": {
   "display_name": "Python 3",
   "language": "python",
   "name": "python3"
  },
  "language_info": {
   "codemirror_mode": {
    "name": "ipython",
    "version": 3
   },
   "file_extension": ".py",
   "mimetype": "text/x-python",
   "name": "python",
   "nbconvert_exporter": "python",
   "pygments_lexer": "ipython3",
   "version": "3.11.7"
  }
 },
 "nbformat": 4,
 "nbformat_minor": 2
}
