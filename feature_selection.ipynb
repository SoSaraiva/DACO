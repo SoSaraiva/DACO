{
 "cells": [
  {
   "cell_type": "code",
   "execution_count": null,
   "metadata": {},
   "outputs": [],
   "source": [
    "import pandas as pd\n",
    "import numpy as np\n",
    "from sklearn.preprocessing import LabelEncoder\n",
    "from sklearn.ensemble import RandomForestClassifier\n",
    "from sklearn.model_selection import train_test_split"
   ]
  },
  {
   "cell_type": "code",
   "execution_count": null,
   "metadata": {},
   "outputs": [],
   "source": [
    "#dataset\n",
    "df = pd.read_csv('dataset.csv')\n",
    "\n",
    "label_encoder = LabelEncoder()\n",
    "rf = RandomForestClassifier()"
   ]
  },
  {
   "cell_type": "code",
   "execution_count": null,
   "metadata": {},
   "outputs": [],
   "source": [
    "# Replace 'Unknown' with NaN\n",
    "df['Genetic Disorder'].replace('Unknown', np.nan, inplace=True)\n",
    "df['Disorder Subclass'].replace('Unknown', np.nan, inplace=True)\n",
    "\n",
    "df.dropna(inplace=True)"
   ]
  },
  {
   "cell_type": "code",
   "execution_count": null,
   "metadata": {},
   "outputs": [],
   "source": [
    "all_x_columns= [\n",
    "    'Patient Age', \"Genes in mother's side\", 'Inherited from father', 'Maternal gene', 'Paternal gene',\n",
    "    'Blood cell count (mcL)', \"Mother's age\", \"Father's age\", 'Status', 'Respiratory Rate (breaths/min)',\n",
    "    'Heart Rate (rates/min)', 'Follow-up', 'Gender', 'Birth asphyxia',\n",
    "    'Autopsy shows birth defect (if applicable)', 'Place of birth', 'Folic acid details (peri-conceptional)',\n",
    "    'H/O serious maternal illness', 'H/O radiation exposure (x-ray)', 'H/O substance abuse',\n",
    "    'Assisted conception IVF/ART', 'History of anomalies in previous pregnancies', 'No. of previous abortion',\n",
    "    'Birth defects', 'White Blood cell count (thousand per microliter)', 'Blood test result',\n",
    "    'Symptom 1', 'Symptom 2', 'Symptom 3', 'Symptom 4', 'Symptom 5'\n",
    "]\n",
    "\n",
    "df_encoded=df.copy()\n",
    "for column in all_x_columns:\n",
    "    df_encoded[column] = label_encoder.fit_transform(df_encoded[column].astype(str))"
   ]
  },
  {
   "cell_type": "code",
   "execution_count": null,
   "metadata": {},
   "outputs": [],
   "source": [
    "# Extract features and target\n",
    "X = df_encoded.drop(columns=['Genetic Disorder', 'Disorder Subclass'], axis=1)\n",
    "y = df_encoded['Disorder Subclass']"
   ]
  },
  {
   "cell_type": "code",
   "execution_count": null,
   "metadata": {},
   "outputs": [],
   "source": [
    "X_train, X_test, y_train, y_test = train_test_split(X, y, train_size=0.5, stratify=y) # training as 50%\n",
    "rf.fit(X_train, y_train)"
   ]
  },
  {
   "cell_type": "code",
   "execution_count": null,
   "metadata": {},
   "outputs": [],
   "source": [
    "feature_importances_cat = rf.feature_importances_\n",
    "print (feature_importances_cat)\n",
    "import matplotlib.pyplot as plt\n",
    "\n",
    "feature_names = X.columns \n",
    "print(feature_names)\n",
    "plt.barh(feature_names, feature_importances_cat)\n",
    "plt.xlabel('Feature Importance')\n",
    "plt.ylabel('Feature Name')\n",
    "plt.title('Random Forest Disorder Subclass Feature Importances')\n",
    "plt.show()"
   ]
  },
  {
   "cell_type": "markdown",
   "metadata": {},
   "source": [
    "ANOVA"
   ]
  },
  {
   "cell_type": "code",
   "execution_count": null,
   "metadata": {},
   "outputs": [],
   "source": [
    "from sklearn.feature_selection import SelectKBest, f_classif"
   ]
  },
  {
   "cell_type": "code",
   "execution_count": null,
   "metadata": {},
   "outputs": [],
   "source": [
    "dfcolumns = pd.DataFrame(X.columns)\n",
    "y = df_encoded['Disorder Subclass']"
   ]
  },
  {
   "cell_type": "code",
   "execution_count": null,
   "metadata": {},
   "outputs": [],
   "source": [
    "bestFeaturesANOVA = SelectKBest(f_classif, k=5)\n",
    "fitANOVA = bestFeaturesANOVA.fit(X, y)\n",
    "\n",
    "print(fitANOVA.get_support(indices=True))\n",
    "\n",
    "scoresANOVA = pd.DataFrame(fitANOVA.scores_)\n",
    "\n",
    "featureScoresANOVA = pd.concat([dfcolumns,scoresANOVA],axis=1)\n",
    "featureScoresANOVA.columns = ['Feature','ANOVA Score']  #naming the dataframe columns\n",
    "\n",
    "\n",
    "print(\"ANOVA:\")\n",
    "print(featureScoresANOVA.sort_values('ANOVA Score',ascending=False))  #print features sorted by score\n",
    "\n",
    "\n",
    "# Plot ANOVA scores for each feature\n",
    "featureScoresANOVA.sort_values('ANOVA Score',ascending=True).plot(kind='barh',x='Feature',color='tab:blue')\n",
    "plt.title(\"ANOVA Disorder Subclass\")\n"
   ]
  },
  {
   "cell_type": "code",
   "execution_count": null,
   "metadata": {},
   "outputs": [],
   "source": [
    "import seaborn as sns"
   ]
  },
  {
   "cell_type": "code",
   "execution_count": null,
   "metadata": {},
   "outputs": [],
   "source": [
    "df_encoded['Genetic Disorder'] = label_encoder.fit_transform(df_encoded['Genetic Disorder'].astype(str))\n",
    "df_encoded['Disorder Subclass'] = label_encoder.fit_transform(df_encoded['Disorder Subclass'].astype(str))"
   ]
  },
  {
   "cell_type": "code",
   "execution_count": null,
   "metadata": {},
   "outputs": [],
   "source": [
    "#3. Correlation Matrix\n",
    "\n",
    "# Genetic Disorder\n",
    "corrmat = df_encoded.corr()\n",
    "top_corr_features = corrmat.index\n",
    "\n",
    "correlation=corrmat['Genetic Disorder'] #column with the correlation of the features with DEATH_EVENT\n",
    "\n",
    "correlation=abs(correlation) #use the absolute value of the correlation\n",
    "\n",
    "correlation=correlation.drop(['Genetic Disorder'])\n",
    "\n",
    "\n",
    "#Plot the correlation of each feature with the DEATH_EVENT\n",
    "plt.figure()\n",
    "correlation.sort_values(ascending=True).plot(kind='barh',color='tab:green')\n",
    "plt.title(\"Correlation with Genetic Disorder\")\n",
    "\n",
    "plt.figure(figsize=(20,20))\n",
    "\n",
    "# Disorder subclass\n",
    "\n",
    "\n",
    "#Plot Heat Map of the the correlation\n",
    "g=sns.heatmap(df_encoded[top_corr_features].corr(),annot=True,cmap=\"RdYlGn\")\n",
    "\n",
    "print(\"\\n\\nCorrelation with Genetic Disorder:\")\n",
    "print(correlation.sort_values(ascending=False))\n",
    "\n",
    "\n",
    "\n",
    "# Disorder Subclass\n",
    "corrmat = df_encoded.drop('Genetic Disorder',axis=1).corr()\n",
    "top_corr_features = corrmat.index\n",
    "\n",
    "correlation=corrmat['Disorder Subclass'] #column with the correlation of the features with DEATH_EVENT\n",
    "\n",
    "correlation=abs(correlation) #use the absolute value of the correlation\n",
    "\n",
    "correlation=correlation.drop(['Disorder Subclass'])\n",
    "\n",
    "\n",
    "#Plot the correlation of each feature with the DEATH_EVENT\n",
    "plt.figure()\n",
    "correlation.sort_values(ascending=True).plot(kind='barh',color='tab:green')\n",
    "plt.title(\"Correlation with Disorder Subclass\")\n",
    "\n",
    "plt.figure(figsize=(20,20))\n",
    "\n",
    "# Disorder subclass\n",
    "\n",
    "\n",
    "#Plot Heat Map of the the correlation\n",
    "g=sns.heatmap(df_encoded[top_corr_features].corr(),annot=True,cmap=\"RdYlGn\")\n",
    "\n",
    "print(\"\\n\\nCorrelation with Disorder Subclass:\")\n",
    "print(correlation.sort_values(ascending=False))"
   ]
  }
 ],
 "metadata": {
  "kernelspec": {
   "display_name": "Python 3",
   "language": "python",
   "name": "python3"
  },
  "language_info": {
   "codemirror_mode": {
    "name": "ipython",
    "version": 3
   },
   "file_extension": ".py",
   "mimetype": "text/x-python",
   "name": "python",
   "nbconvert_exporter": "python",
   "pygments_lexer": "ipython3",
   "version": "3.11.7"
  }
 },
 "nbformat": 4,
 "nbformat_minor": 2
}
