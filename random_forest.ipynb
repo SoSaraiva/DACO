{
 "cells": [
  {
   "cell_type": "markdown",
   "metadata": {},
   "source": [
    "RANDOM FOREST CLASSIFIER"
   ]
  },
  {
   "cell_type": "code",
   "execution_count": 1,
   "metadata": {},
   "outputs": [],
   "source": [
    "import numpy as np\n",
    "import pandas as pd\n",
    "from sklearn.ensemble import RandomForestClassifier\n",
    "from sklearn.preprocessing import LabelEncoder\n",
    "from sklearn.preprocessing import StandardScaler\n",
    "from sklearn.model_selection import train_test_split\n",
    "from sklearn.metrics import classification_report\n",
    "from sklearn.metrics import balanced_accuracy_score\n",
    "from sklearn.metrics import f1_score\n",
    "from sklearn.model_selection import RandomizedSearchCV"
   ]
  },
  {
   "cell_type": "code",
   "execution_count": 2,
   "metadata": {},
   "outputs": [],
   "source": [
    "#dataset\n",
    "df = pd.read_csv('dataset.csv')\n",
    "\n",
    "label_encoder = LabelEncoder()\n",
    "rf = RandomForestClassifier()"
   ]
  },
  {
   "cell_type": "markdown",
   "metadata": {},
   "source": [
    "REMOVE UNKNOWNS FROM TARGETS VS FROM ALL COLUMNS (RUN ONE OF THE CELLS)"
   ]
  },
  {
   "cell_type": "markdown",
   "metadata": {},
   "source": [
    "Without unknown targets (possible to apply just to one of the columns if only one of them is the target)"
   ]
  },
  {
   "cell_type": "code",
   "execution_count": 3,
   "metadata": {},
   "outputs": [],
   "source": [
    "# Replace 'Unknown' with NaN\n",
    "df['Genetic Disorder'].replace('Unknown', np.nan, inplace=True)\n",
    "df['Disorder Subclass'].replace('Unknown', np.nan, inplace=True)\n",
    "\n",
    "df.dropna(inplace=True)"
   ]
  },
  {
   "cell_type": "markdown",
   "metadata": {},
   "source": [
    "Without unknown in any column"
   ]
  },
  {
   "cell_type": "code",
   "execution_count": null,
   "metadata": {},
   "outputs": [],
   "source": [
    "# Replace 'Unknown' with NaN\n",
    "df.replace('Unknown', np.nan, inplace=True)\n",
    "\n",
    "df.dropna(inplace=True)"
   ]
  },
  {
   "cell_type": "markdown",
   "metadata": {},
   "source": [
    "USE JUST LABEL ENCODER OR BOTH LABE LENCODER AND ONE-HOT ENCODER (RUN ONE OF THE CELLS)"
   ]
  },
  {
   "cell_type": "markdown",
   "metadata": {},
   "source": [
    "Just label encoder"
   ]
  },
  {
   "cell_type": "code",
   "execution_count": 4,
   "metadata": {},
   "outputs": [],
   "source": [
    "all_x_columns= [\n",
    "    'Patient Age', \"Genes in mother's side\", 'Inherited from father', 'Maternal gene', 'Paternal gene',\n",
    "    'Blood cell count (mcL)', \"Mother's age\", \"Father's age\", 'Status', 'Respiratory Rate (breaths/min)',\n",
    "    'Heart Rate (rates/min)', 'Follow-up', 'Gender', 'Birth asphyxia',\n",
    "    'Autopsy shows birth defect (if applicable)', 'Place of birth', 'Folic acid details (peri-conceptional)',\n",
    "    'H/O serious maternal illness', 'H/O radiation exposure (x-ray)', 'H/O substance abuse',\n",
    "    'Assisted conception IVF/ART', 'History of anomalies in previous pregnancies', 'No. of previous abortion',\n",
    "    'Birth defects', 'White Blood cell count (thousand per microliter)', 'Blood test result',\n",
    "    'Symptom 1', 'Symptom 2', 'Symptom 3', 'Symptom 4', 'Symptom 5'\n",
    "]\n",
    "\n",
    "df_encoded=df.copy()\n",
    "for column in all_x_columns:\n",
    "    df_encoded[column] = label_encoder.fit_transform(df_encoded[column].astype(str))"
   ]
  },
  {
   "cell_type": "markdown",
   "metadata": {},
   "source": [
    "Label encoder and one-hot encoder"
   ]
  },
  {
   "cell_type": "code",
   "execution_count": null,
   "metadata": {},
   "outputs": [],
   "source": [
    "categorical_unordered_columns = [\n",
    "    'Genes in mother\\'s side', 'Inherited from father', 'Maternal gene', 'Paternal gene',\n",
    "    'Gender', 'Birth asphyxia',\n",
    "    'Autopsy shows birth defect (if applicable)', 'Place of birth',\n",
    "    'Folic acid details (peri-conceptional)', 'H/O serious maternal illness',\n",
    "    'H/O radiation exposure (x-ray)', 'H/O substance abuse', 'Status',\n",
    "    'Assisted conception IVF/ART', 'History of anomalies in previous pregnancies',\n",
    "    'Symptom 1', 'Symptom 2', 'Symptom 3', 'Symptom 4', 'Symptom 5'\n",
    "]\n",
    "\n",
    "quantitative_with_unknowns_or_ordered_columns = ['Patient Age', \"Mother's age\", \"Father's age\", 'Respiratory Rate (breaths/min)',\n",
    "    'Heart Rate (rates/min)', 'Follow-up', 'No. of previous abortion',\n",
    "    'Birth defects', 'White Blood cell count (thousand per microliter)', 'Blood test result']\n",
    "\n",
    "\n",
    "df_encoded=df.copy()\n",
    "for column in quantitative_with_unknowns_or_ordered_columns:\n",
    "    df_encoded[column] = label_encoder.fit_transform(df_encoded[column].astype(str))\n",
    "df_encoded=pd.get_dummies(df_encoded, columns=categorical_unordered_columns, drop_first=False)"
   ]
  },
  {
   "cell_type": "markdown",
   "metadata": {},
   "source": [
    "With Feature Selection"
   ]
  },
  {
   "cell_type": "code",
   "execution_count": null,
   "metadata": {},
   "outputs": [],
   "source": [
    "# With feature selection\n",
    "\n",
    "df=df[[\"Symptom 5\", \"Symptom 4\", \"Symptom 3\", \"Symptom 2\", \"Genes in mother's side\", \"Inherited from father\",\"Genetic Disorder\",\"Disorder Subclass\"]]\n",
    "\n",
    "df_encoded=df.copy()\n",
    "df_encoded=pd.get_dummies(df_encoded, columns=[\"Symptom 5\", \"Symptom 4\", \"Symptom 3\", \"Symptom 2\", \"Genes in mother's side\", \"Inherited from father\"], drop_first=False)"
   ]
  },
  {
   "cell_type": "markdown",
   "metadata": {},
   "source": [
    "TRAIN MODEL TO PREDICT GENETIC DISORDER VS DISORDER SUBCLASS (RUN ONE OF THE CELLS)"
   ]
  },
  {
   "cell_type": "markdown",
   "metadata": {},
   "source": [
    "Genetic Disorder"
   ]
  },
  {
   "cell_type": "code",
   "execution_count": 5,
   "metadata": {},
   "outputs": [],
   "source": [
    "# Extract features and target\n",
    "X = df_encoded.drop(columns=['Genetic Disorder', 'Disorder Subclass'], axis=1)\n",
    "y = df_encoded['Genetic Disorder']"
   ]
  },
  {
   "cell_type": "markdown",
   "metadata": {},
   "source": [
    "Disorder subclass"
   ]
  },
  {
   "cell_type": "code",
   "execution_count": null,
   "metadata": {},
   "outputs": [],
   "source": [
    "# Extract features and target\n",
    "X = df_encoded.drop(columns=['Genetic Disorder', 'Disorder Subclass'], axis=1)\n",
    "y = df_encoded['Disorder Subclass']"
   ]
  },
  {
   "cell_type": "markdown",
   "metadata": {},
   "source": [
    "Both"
   ]
  },
  {
   "cell_type": "code",
   "execution_count": null,
   "metadata": {},
   "outputs": [],
   "source": [
    "# Extract features and target\n",
    "X = df_encoded.drop(columns=['Genetic Disorder', 'Disorder Subclass'], axis=1)\n",
    "y = df_encoded[['Genetic Disorder','Disorder Subclass']]"
   ]
  },
  {
   "cell_type": "markdown",
   "metadata": {},
   "source": [
    "SCALE FEATURES (POSSIBLE TO SKIP)"
   ]
  },
  {
   "cell_type": "code",
   "execution_count": 6,
   "metadata": {},
   "outputs": [],
   "source": [
    "scaler = StandardScaler()\n",
    "X = scaler.fit_transform(X)"
   ]
  },
  {
   "cell_type": "markdown",
   "metadata": {},
   "source": [
    "BALANCE DATA - ONE TARGET (POSSIBLE TO SKIP)"
   ]
  },
  {
   "cell_type": "code",
   "execution_count": 7,
   "metadata": {},
   "outputs": [
    {
     "name": "stdout",
     "output_type": "stream",
     "text": [
      "{'Mitochondrial genetic inheritance disorders': 0.6509757241279803, 'Multifactorial genetic inheritance disorders': 3.2049369561356773, 'Single-gene inheritance diseases': 0.8681868475489488}\n"
     ]
    }
   ],
   "source": [
    "from sklearn.utils.class_weight import compute_class_weight\n",
    "\n",
    "class_weights = compute_class_weight(\n",
    "                                        class_weight = \"balanced\",\n",
    "                                        classes = np.unique(y),\n",
    "                                        y = y                                                    \n",
    "                                    )\n",
    "class_weights_dict = dict(zip(np.unique(y), class_weights))\n",
    "\n",
    "# Classifier with weights\n",
    "rf = RandomForestClassifier(class_weight=class_weights_dict)"
   ]
  },
  {
   "cell_type": "markdown",
   "metadata": {},
   "source": [
    "BALANCE DATA - MULTITARGET (POSSIBLE TO SKIP)"
   ]
  },
  {
   "cell_type": "code",
   "execution_count": null,
   "metadata": {},
   "outputs": [],
   "source": [
    "#----------------------------------------MULTIOUTPUT------------------------------------------------------\n",
    "\n",
    "from sklearn.utils.class_weight import compute_class_weight\n",
    "\n",
    "# GENETIC DISORDER\n",
    "class_weights = compute_class_weight(\n",
    "                                        class_weight = \"balanced\",\n",
    "                                        classes = np.unique(y['Genetic Disorder']),\n",
    "                                        y = y['Genetic Disorder']                                                    \n",
    "                                    )\n",
    "class_weights_gd = dict(zip(np.unique(y['Genetic Disorder']), class_weights))\n",
    "\n",
    "\n",
    "# DISORDER SUBCLASS\n",
    "class_weights = compute_class_weight(\n",
    "                                        class_weight = \"balanced\",\n",
    "                                        classes = np.unique(y['Disorder Subclass']),\n",
    "                                        y = y['Disorder Subclass']                                                    \n",
    "                                    )\n",
    "class_weights_ds = dict(zip(np.unique(y['Disorder Subclass']), class_weights))\n",
    "\n",
    "\n",
    "class_weights=[class_weights_gd, class_weights_ds]\n",
    "\n",
    "# Classifier with weights\n",
    "rf = RandomForestClassifier(class_weight=class_weights)"
   ]
  },
  {
   "cell_type": "markdown",
   "metadata": {},
   "source": [
    "TUNING (POSSIBLE TO SKIP)"
   ]
  },
  {
   "cell_type": "code",
   "execution_count": null,
   "metadata": {},
   "outputs": [],
   "source": [
    "# Number of trees in random forest\n",
    "n_estimators = [int(x) for x in np.linspace(start = 200, stop = 2000, num = 10)]\n",
    "# Number of features to consider at every split\n",
    "max_features = ['auto', 'sqrt']\n",
    "# Maximum number of levels in tree\n",
    "max_depth = [int(x) for x in np.linspace(10, 110, num = 11)]\n",
    "max_depth.append(None)\n",
    "# Minimum number of samples required to split a node\n",
    "min_samples_split = [2, 5, 10]\n",
    "# Minimum number of samples required at each leaf node\n",
    "min_samples_leaf = [1, 2, 4]\n",
    "# Method of selecting samples for training each tree\n",
    "bootstrap = [True, False]\n",
    "# Create the random grid\n",
    "parameters = {'n_estimators': n_estimators,\n",
    "               'max_features': max_features,\n",
    "               'max_depth': max_depth,\n",
    "               'min_samples_split': min_samples_split,\n",
    "               'min_samples_leaf': min_samples_leaf,\n",
    "               'bootstrap': bootstrap}"
   ]
  },
  {
   "cell_type": "code",
   "execution_count": null,
   "metadata": {},
   "outputs": [],
   "source": [
    "\n",
    "rf = RandomizedSearchCV(estimator = rf, param_distributions = parameters, n_iter = 100, cv = 3, verbose=2, refit=True, scoring='balanced_accuracy')"
   ]
  },
  {
   "cell_type": "markdown",
   "metadata": {},
   "source": [
    "TRAIN MODEL"
   ]
  },
  {
   "cell_type": "code",
   "execution_count": 8,
   "metadata": {},
   "outputs": [],
   "source": [
    "X_train, X_test, y_train, y_test = train_test_split(X, y, train_size=0.75, stratify=y) # training as 75%\n",
    "rf.fit(X_train, y_train)\n",
    "\n",
    "y_pred = rf.predict(X_test) "
   ]
  },
  {
   "cell_type": "markdown",
   "metadata": {},
   "source": [
    "PRINT SCORES MULTIOUTPUT VS ONE TARFET (RUN ONE OF THE CELLS)"
   ]
  },
  {
   "cell_type": "markdown",
   "metadata": {},
   "source": [
    "Multioutput"
   ]
  },
  {
   "cell_type": "code",
   "execution_count": null,
   "metadata": {},
   "outputs": [],
   "source": [
    "print('\\nGenetic Disorder')\n",
    "print(classification_report(y_test.iloc[:,-2], y_pred[:,-2]))\n",
    "print('\\nBalanced accuracy:')\n",
    "print(balanced_accuracy_score(y_test.iloc[:,-2], y_pred[:,-2]))\n",
    "print('\\nMacro f1:')\n",
    "print(f1_score(y_test.iloc[:,-2], y_pred[:,-2], average='macro'))\n",
    "print('\\nWeighted f1:')\n",
    "print(f1_score(y_test.iloc[:,-2], y_pred[:,-2], average='weighted'))\n",
    "\n",
    "print('\\nDisorder Subclass')\n",
    "print(classification_report(y_test.iloc[:,-1], y_pred[:,-1]))\n",
    "print('\\nBalanced accuracy:')\n",
    "print(balanced_accuracy_score(y_test.iloc[:,-1], y_pred[:,-1]))\n",
    "print('\\nMacro f1:')\n",
    "print(f1_score(y_test.iloc[:,-1], y_pred[:,-1], average='macro'))\n",
    "print('\\nWeighted f1:')\n",
    "print(f1_score(y_test.iloc[:,-1], y_pred[:,-1], average='weighted'))"
   ]
  },
  {
   "cell_type": "markdown",
   "metadata": {},
   "source": [
    "One target"
   ]
  },
  {
   "cell_type": "code",
   "execution_count": 9,
   "metadata": {},
   "outputs": [
    {
     "name": "stdout",
     "output_type": "stream",
     "text": [
      "\n",
      "Genetic Disorder\n",
      "                                              precision    recall  f1-score   support\n",
      "\n",
      " Mitochondrial genetic inheritance disorders       0.59      0.87      0.71      2311\n",
      "Multifactorial genetic inheritance disorders       0.56      0.18      0.27       469\n",
      "            Single-gene inheritance diseases       0.56      0.31      0.40      1732\n",
      "\n",
      "                                    accuracy                           0.59      4512\n",
      "                                   macro avg       0.57      0.45      0.46      4512\n",
      "                                weighted avg       0.58      0.59      0.54      4512\n",
      "\n",
      "\n",
      "Balanced accuracy:\n",
      "0.4546137124661332\n",
      "\n",
      "Macro f1:\n",
      "0.45930000087295636\n",
      "\n",
      "Weighted f1:\n",
      "0.5445297424891591\n"
     ]
    }
   ],
   "source": [
    "print('\\nGenetic Disorder')\n",
    "print(classification_report(y_test, y_pred))\n",
    "print('\\nBalanced accuracy:')\n",
    "print(balanced_accuracy_score(y_test, y_pred))\n",
    "print('\\nMacro f1:')\n",
    "print(f1_score(y_test, y_pred, average='macro'))\n",
    "print('\\nWeighted f1:')\n",
    "print(f1_score(y_test, y_pred, average='weighted'))"
   ]
  }
 ],
 "metadata": {
  "kernelspec": {
   "display_name": "Python 3",
   "language": "python",
   "name": "python3"
  },
  "language_info": {
   "codemirror_mode": {
    "name": "ipython",
    "version": 3
   },
   "file_extension": ".py",
   "mimetype": "text/x-python",
   "name": "python",
   "nbconvert_exporter": "python",
   "pygments_lexer": "ipython3",
   "version": "3.11.7"
  }
 },
 "nbformat": 4,
 "nbformat_minor": 2
}
