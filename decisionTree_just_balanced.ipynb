{
 "cells": [
  {
   "cell_type": "markdown",
   "metadata": {},
   "source": [
    "# Decision Tree"
   ]
  },
  {
   "cell_type": "code",
   "execution_count": 20,
   "metadata": {},
   "outputs": [],
   "source": [
    "# Import necessary libraries\n",
    "\n",
    "import numpy as np\n",
    "import matplotlib.pyplot as plt\n",
    "import pandas as pd\n",
    "\n",
    "from sklearn.model_selection import train_test_split, KFold, cross_val_score\n",
    "from sklearn.multioutput import MultiOutputClassifier\n",
    "from sklearn import tree\n",
    "from sklearn.tree import DecisionTreeClassifier\n",
    "from sklearn.metrics import balanced_accuracy_score, hamming_loss, f1_score, recall_score, roc_auc_score, accuracy_score\n",
    "from sklearn.preprocessing import LabelEncoder\n",
    "from sklearn.model_selection import ParameterGrid, GridSearchCV"
   ]
  },
  {
   "cell_type": "code",
   "execution_count": 39,
   "metadata": {},
   "outputs": [],
   "source": [
    "# Load dataset\n",
    "dataset= pd.read_csv('dataset.csv')\n",
    "\n",
    "# Replace 'Unknown' with NaN\n",
    "dataset.replace('Unknown', np.nan, inplace=True)\n",
    "# Eliminate samples with NaN\n",
    "dataset.dropna(inplace=True)\n",
    "\n",
    "\n",
    "# Encode categorical variables\n",
    "label_encoder = LabelEncoder()\n",
    "\n",
    "categorical_columns = [\n",
    "    'Genes in mother\\'s side', 'Inherited from father', 'Maternal gene', 'Paternal gene', 'Status',\n",
    "    'Respiratory Rate (breaths/min)', 'Heart Rate (rates/min)', 'Follow-up',\n",
    "    'Gender', 'Birth asphyxia', 'Autopsy shows birth defect (if applicable)', 'Place of birth',\n",
    "    'Folic acid details (peri-conceptional)',\n",
    "    'H/O serious maternal illness', 'H/O radiation exposure (x-ray)', 'H/O substance abuse', \n",
    "    'Assisted conception IVF/ART', 'History of anomalies in previous pregnancies',\n",
    "    'Birth defects', 'Blood test result',\n",
    "    'Symptom 1', 'Symptom 2', 'Symptom 3', 'Symptom 4', 'Symptom 5'\n",
    "]\n",
    "\n",
    "quantitative_with_unknowns_or_ordered_columns = [\n",
    "    'Patient Age', \"Mother's age\", \"Father's age\", 'No. of previous abortion',\n",
    "    'White Blood cell count (thousand per microliter)']\n",
    "\n",
    "\n",
    "for column in categorical_columns:\n",
    "    dataset[column] = label_encoder.fit_transform(dataset[column].astype(str))\n",
    "\n",
    "# Create a copy for encoding\n",
    "dataset_encoded = dataset.copy()\n",
    "\n",
    "# Encode target variables 'Genetic Disorder' and 'Disorder Subclass'\n",
    "# Create mapping\n",
    "genetic_disorder_mapping = {label: i for i, label in enumerate(dataset_encoded['Genetic Disorder'].unique()) if pd.notna(label)}\n",
    "disorder_subclass_mapping = {label: i for i, label in enumerate(dataset_encoded['Disorder Subclass'].unique())}\n",
    "\n",
    "# Replace each original value with its corresponding encoded value as per the mapping\n",
    "dataset_encoded['Genetic Disorder'] = dataset_encoded['Genetic Disorder'].map(genetic_disorder_mapping)\n",
    "dataset_encoded['Disorder Subclass'] = dataset_encoded['Disorder Subclass'].map(disorder_subclass_mapping)\n",
    "\n",
    "\n",
    "# Allocate features and labels\n",
    "X = dataset_encoded.drop(columns=['Genetic Disorder', 'Disorder Subclass'])\n",
    "y = dataset_encoded[['Genetic Disorder', 'Disorder Subclass']]\n",
    "\n",
    "\n",
    "# Split the data into training and testing sets\n",
    "X_train, X_test, y_train, y_test = train_test_split(X, y, train_size=0.75, random_state=1)"
   ]
  },
  {
   "cell_type": "code",
   "execution_count": 40,
   "metadata": {},
   "outputs": [],
   "source": [
    "# Correspond weights to classes\n",
    "\n",
    "# Get values mapped\n",
    "encoded_values_genetic_disorder = dataset_encoded['Genetic Disorder'].unique()\n",
    "encoded_values_disorder_subclass = dataset_encoded['Disorder Subclass'].unique()\n",
    "\n",
    "# Inverse mappings to get back the original names\n",
    "inverse_genetic_disorder_mapping = {i: label for label, i in genetic_disorder_mapping.items()}\n",
    "inverse_disorder_subclass_mapping = {i: label for label, i in disorder_subclass_mapping.items()}\n",
    "\n",
    "# Map encoded values back to original names\n",
    "names_genetic_disorder = [inverse_genetic_disorder_mapping[i] for i in encoded_values_genetic_disorder]\n",
    "names_disorder_subclass = [inverse_disorder_subclass_mapping[i] for i in encoded_values_disorder_subclass]\n",
    "\n",
    "# Associate weights with encoded values\n",
    "weights_genetic_disorder = {encoded_value: provided_weights_genetic_disorder[name] for encoded_value, name in zip(encoded_values_genetic_disorder, names_genetic_disorder)}\n",
    "weights_disorder_subclass = {encoded_value: provided_weights_subclass_disorder[name] for encoded_value, name in zip(encoded_values_disorder_subclass, names_disorder_subclass)}\n",
    "\n",
    "class_weights = [\n",
    "    weights_genetic_disorder,\n",
    "    weights_disorder_subclass\n",
    "]\n"
   ]
  },
  {
   "cell_type": "markdown",
   "metadata": {},
   "source": [
    "# Tuning"
   ]
  },
  {
   "cell_type": "code",
   "execution_count": 41,
   "metadata": {},
   "outputs": [
    {
     "name": "stdout",
     "output_type": "stream",
     "text": [
      "Best Parameters:  {'class_weight': 'balanced', 'criterion': 'gini', 'max_depth': None, 'max_features': None, 'min_samples_leaf': 2, 'splitter': 'best'}\n"
     ]
    },
    {
     "name": "stderr",
     "output_type": "stream",
     "text": [
      "c:\\Users\\Sofia\\miniconda3\\Lib\\site-packages\\sklearn\\model_selection\\_search.py:979: UserWarning: One or more of the test scores are non-finite: [nan nan nan nan nan nan nan nan nan nan nan nan nan nan nan nan nan nan\n",
      " nan nan nan nan nan nan nan nan nan nan nan nan nan nan nan nan nan nan\n",
      " nan nan nan nan nan nan nan nan nan nan nan nan nan nan nan nan nan nan\n",
      " nan nan nan nan nan nan nan nan nan nan nan nan nan nan nan nan nan nan\n",
      " nan nan nan nan nan nan nan nan nan nan nan nan nan nan nan nan nan nan\n",
      " nan nan nan nan nan nan nan nan nan nan nan nan nan nan nan nan nan nan]\n",
      "  warnings.warn(\n"
     ]
    }
   ],
   "source": [
    "# small min_samples_split can lead to overfit, while big values avoid learning for umbalanced data try min_weight_fraction_leaf \n",
    "# sample_weight augments the probability estimates in the probability array\n",
    "\n",
    "param_grid = {\n",
    "    'criterion': ['gini', 'entropy'],\n",
    "    'splitter': ['best', 'random'],\n",
    "    'max_depth': [None, 10, 20],\n",
    "    'min_samples_leaf': [2, 5, 8],    \n",
    "    'max_features': [None, 'sqrt', 'log2'],\n",
    "    'class_weight': ['balanced']\n",
    "}\n",
    "\n",
    "\n",
    "dt_tuning = DecisionTreeClassifier()\n",
    "\n",
    "grid_search_dt_tuning = GridSearchCV(\n",
    "    dt_tuning, param_grid, scoring='accuracy', n_jobs=-1)\n",
    "\n",
    "grid_search_dt_tuning.fit(X_train, y_train)\n",
    "\n",
    "print('Best Parameters: ', grid_search_dt_tuning.best_params_)\n"
   ]
  },
  {
   "cell_type": "code",
   "execution_count": 42,
   "metadata": {},
   "outputs": [],
   "source": [
    "# 'class_weight': 'balanced', 'criterion': 'gini', 'max_depth': None, 'max_features': None, 'min_samples_leaf': 2, 'splitter': 'best'}\n",
    "\n",
    "dt_multioutput = DecisionTreeClassifier(\n",
    "    class_weight= 'balanced', criterion= 'gini', max_depth= None, max_features= None, min_samples_leaf=2, splitter= 'best')\n",
    "\n",
    "\n",
    "dt_multioutput.fit(X_train, y_train)  \n",
    "\n",
    "y_pred = dt_multioutput.predict(X_test)\n"
   ]
  },
  {
   "cell_type": "code",
   "execution_count": 43,
   "metadata": {},
   "outputs": [],
   "source": [
    "# Generate classification report for each output separately\n",
    "\n",
    "y_test_array = y_test.to_numpy()\n",
    "\n",
    "f1_score_genetic_disorder = f1_score(y_test_array[:, 0], y_pred[:, 0], average='weighted')\n",
    "f1_score_disorder_subclass = f1_score(y_test_array[:, 1], y_pred[:, 1], average='weighted')\n",
    "\n",
    "recall_genetic_disorder = recall_score(y_test_array[:, 0], y_pred[:, 0], average='weighted')\n",
    "recall_disorder_subclass = recall_score(y_test_array[:, 1], y_pred[:, 1], average='weighted')\n",
    "\n",
    "accuracy_genetic_disorder = accuracy_score(y_test_array[:, 0], y_pred[:, 0])\n",
    "accuracy_disorder_subclass = accuracy_score(y_test_array[:, 1], y_pred[:, 1])\n",
    "\n",
    "balanced_accuracy_genetic_disorder = balanced_accuracy_score(y_test_array[:, 0], y_pred[:, 0])\n",
    "balanced_accuracy_disorder_subclass = balanced_accuracy_score(y_test_array[:, 1], y_pred[:, 1])\n"
   ]
  },
  {
   "cell_type": "markdown",
   "metadata": {},
   "source": [
    "# Without Cancer and Alzeimer"
   ]
  },
  {
   "cell_type": "code",
   "execution_count": 45,
   "metadata": {},
   "outputs": [],
   "source": [
    "# Assuming your DataFrame is named dataset\n",
    "filtered_dataset = dataset_encoded[(dataset['Disorder Subclass'] != 7) & (dataset['Disorder Subclass'] != 8)]\n",
    "\n",
    "# Update your X and y with the filtered dataset\n",
    "X_filtered = filtered_dataset.drop(columns=['Genetic Disorder', 'Disorder Subclass'])\n",
    "y_filtered = filtered_dataset[['Genetic Disorder', 'Disorder Subclass']]\n",
    "\n",
    "\n",
    "X_train_new, X_test_new, y_train_new, y_test_new = train_test_split(X_filtered, y_filtered, train_size=0.75,  random_state=1) # training as 75%"
   ]
  },
  {
   "cell_type": "code",
   "execution_count": 46,
   "metadata": {},
   "outputs": [],
   "source": [
    "# 'class_weight': 'balanced', 'criterion': 'gini', 'max_depth': None, 'max_features': None, 'min_samples_leaf': 2, 'splitter': 'best'}\n",
    "\n",
    "dt_multioutput_new = DecisionTreeClassifier(\n",
    "    class_weight= 'balanced', criterion= 'gini', max_depth= None, max_features= None, min_samples_leaf=2, splitter= 'best')\n",
    "\n",
    "\n",
    "dt_multioutput_new.fit(X_train_new, y_train_new)  \n",
    "\n",
    "y_pred_new = dt_multioutput_new.predict(X_test_new)\n"
   ]
  },
  {
   "cell_type": "code",
   "execution_count": 47,
   "metadata": {},
   "outputs": [],
   "source": [
    "# Generate classification report for each output separately\n",
    "y_test_array_new = y_test_new.to_numpy()\n",
    "\n",
    "hamming_loss_genetic_disorder_new = hamming_loss(y_test_array_new[:, 0], y_pred_new[:, 0])\n",
    "hamming_loss_disorder_subclass_new = hamming_loss(y_test_array_new[:, 1], y_pred_new[:, 1])\n",
    "\n",
    "f1_score_genetic_disorder_new = f1_score(y_test_array_new[:, 0], y_pred_new[:, 0], average='weighted')\n",
    "f1_score_disorder_subclass_new = f1_score(y_test_array_new[:, 1], y_pred_new[:, 1], average='weighted')\n",
    "\n",
    "recall_genetic_disorder_new = recall_score(y_test_array_new[:, 0], y_pred_new[:, 0], average='weighted')\n",
    "recall_disorder_subclass_new = recall_score(y_test_array_new[:, 1], y_pred_new[:, 1], average='weighted')\n",
    "\n",
    "balanced_accuracy_genetic_disorder_new = balanced_accuracy_score(y_test_array_new[:, 0], y_pred_new[:, 0])\n",
    "balanced_accuracy_disorder_subclass_new = balanced_accuracy_score(y_test_array_new[:, 1], y_pred_new[:, 1])\n",
    "\n",
    "accuracy_genetic_disorder_new = accuracy_score(y_test_array_new[:, 0], y_pred_new[:, 0])\n",
    "accuracy_disorder_subclass_new = accuracy_score(y_test_array_new[:, 1], y_pred_new[:, 1])\n"
   ]
  },
  {
   "cell_type": "code",
   "execution_count": 48,
   "metadata": {},
   "outputs": [
    {
     "name": "stdout",
     "output_type": "stream",
     "text": [
      "Classification for Genetic Disorder:\n",
      "Hamming Loss for Genetic Disorder: 0.5657370517928287\n",
      "F1 Score for Genetic Disorder: 0.44855812533659495\n",
      "Recall for Genetic Disorder: 0.4342629482071713\n",
      "Accuracy for Genetic Disorder: 0.4342629482071713\n",
      "Balanced Accuracy for Genetic Disorder: 0.34914005366322876\n",
      "\n",
      "Classification for Disorder Subclass:\n",
      "Hamming Loss for Disorder Subclass: 0.7649402390438247\n",
      "F1 Score for Disorder Subclass: 0.23258436296171958\n",
      "Recall for Disorder Subclass: 0.2350597609561753\n",
      "Balanced Accuracy for Disorder Subclass: 0.17074420677361854\n",
      "Accuracy for Disorder Subclass: 0.2350597609561753\n",
      "\n",
      " ------------ Without Cancer and Alzeimer samples --------------\n",
      "Classification for Genetic Disorder:\n",
      "\n",
      "Hamming Loss for Genetic Disorder: 0.5737051792828686\n",
      "F1 Score for Genetic Disorder: 0.4375686089795171\n",
      "Recall for Genetic Disorder: 0.4262948207171315\n",
      "Balanced Accuracy for Genetic Disorder: 0.3431063921833939\n",
      "Accuracy for Genetic Disorder: 0.4262948207171315\n",
      "\n",
      "Classification for Disorder Subclass:\n",
      "Hamming Loss for Disorder Subclass: 0.7649402390438247\n",
      "F1 Score for Disorder Subclass: 0.2345342198102201\n",
      "Recall for Disorder Subclass: 0.2350597609561753\n",
      "Balanced Accuracy for Disorder Subclass: 0.16639433551198257\n",
      "Accuracy for Disorder Subclass: 0.2350597609561753\n"
     ]
    }
   ],
   "source": [
    "print(\"Classification for Genetic Disorder:\")\n",
    "\n",
    "print(\"Hamming Loss for Genetic Disorder:\", hamming_loss_genetic_disorder)\n",
    "print(\"F1 Score for Genetic Disorder:\", f1_score_genetic_disorder)\n",
    "print(\"Recall for Genetic Disorder:\", recall_genetic_disorder)\n",
    "print(\"Accuracy for Genetic Disorder:\", accuracy_genetic_disorder)\n",
    "print(\"Balanced Accuracy for Genetic Disorder:\", balanced_accuracy_genetic_disorder)\n",
    "\n",
    "print(\"\\nClassification for Disorder Subclass:\")\n",
    "\n",
    "print(\"Hamming Loss for Disorder Subclass:\", hamming_loss_disorder_subclass)\n",
    "print(\"F1 Score for Disorder Subclass:\", f1_score_disorder_subclass)\n",
    "print(\"Recall for Disorder Subclass:\", recall_disorder_subclass)\n",
    "print(\"Balanced Accuracy for Disorder Subclass:\", balanced_accuracy_disorder_subclass)\n",
    "print(\"Accuracy for Disorder Subclass:\", accuracy_disorder_subclass)\n",
    "\n",
    "print(\"\\n ------------ Without Cancer and Alzeimer samples --------------\")\n",
    "\n",
    "print(\"Classification for Genetic Disorder:\")\n",
    "\n",
    "print(\"\\nHamming Loss for Genetic Disorder:\", hamming_loss_genetic_disorder_new)\n",
    "print(\"F1 Score for Genetic Disorder:\", f1_score_genetic_disorder_new)\n",
    "print(\"Recall for Genetic Disorder:\", recall_genetic_disorder_new)\n",
    "print(\"Balanced Accuracy for Genetic Disorder:\", balanced_accuracy_genetic_disorder_new)\n",
    "print(\"Accuracy for Genetic Disorder:\", accuracy_genetic_disorder_new)\n",
    "\n",
    "print(\"\\nClassification for Disorder Subclass:\")\n",
    "\n",
    "print(\"Hamming Loss for Disorder Subclass:\", hamming_loss_disorder_subclass_new)\n",
    "print(\"F1 Score for Disorder Subclass:\", f1_score_disorder_subclass_new)\n",
    "print(\"Recall for Disorder Subclass:\", recall_disorder_subclass_new)\n",
    "print(\"Balanced Accuracy for Disorder Subclass:\", balanced_accuracy_disorder_subclass_new)\n",
    "print(\"Accuracy for Disorder Subclass:\", accuracy_disorder_subclass_new)\n",
    "\n"
   ]
  }
 ],
 "metadata": {
  "kernelspec": {
   "display_name": "base",
   "language": "python",
   "name": "python3"
  },
  "language_info": {
   "codemirror_mode": {
    "name": "ipython",
    "version": 3
   },
   "file_extension": ".py",
   "mimetype": "text/x-python",
   "name": "python",
   "nbconvert_exporter": "python",
   "pygments_lexer": "ipython3",
   "version": "3.11.5"
  }
 },
 "nbformat": 4,
 "nbformat_minor": 2
}
