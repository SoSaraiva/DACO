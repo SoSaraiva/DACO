{
 "cells": [
  {
   "cell_type": "code",
   "execution_count": 11,
   "metadata": {},
   "outputs": [],
   "source": [
    "# Import necessary libraries\n",
    "\n",
    "import numpy as np\n",
    "import matplotlib.pyplot as plt\n",
    "import pandas as pd\n",
    "\n",
    "from sklearn.model_selection import train_test_split, KFold, cross_val_score, ParameterGrid\n",
    "from sklearn.multioutput import MultiOutputClassifier\n",
    "from sklearn import tree\n",
    "from sklearn.metrics import balanced_accuracy_score, classification_report"
   ]
  },
  {
   "cell_type": "code",
   "execution_count": 12,
   "metadata": {},
   "outputs": [],
   "source": [
    "# Load dataset\n",
    "dataset= pd.read_csv('dataset.csv')\n",
    "\n",
    "# Replace 'Unknown' with NaN in Target\n",
    "dataset['Genetic Disorder'].replace('Unknown', np.nan, inplace=True)\n",
    "dataset['Disorder Subclass'].replace('Unknown', np.nan, inplace=True)\n",
    "\n",
    "dataset.dropna(inplace=True)\n",
    "\n",
    "\n",
    "# Removing non important features\n",
    "selected_columns = [\n",
    "    \"White Blood cell count (thousand per microliter)\",\n",
    "    \"Mother's age\",\n",
    "    \"Father's age\",\n",
    "    \"Patient Age\",\n",
    "    \"Genetic Disorder\",\n",
    "    \"Disorder Subclass\"\n",
    "]\n",
    "\n",
    "# Create a new DataFrame with only the selected columns\n",
    "dataset = dataset[selected_columns]\n",
    "\n",
    "\n",
    "# Alocate features and labels\n",
    "\n",
    "X = dataset.iloc[:, :-2]  # Features\n",
    "y = dataset.iloc[:, -2:]  # Labels (last two columns)\n",
    "\n",
    "# Perform one-hot encoding on the categorical features\n",
    "X = pd.get_dummies(X, drop_first=True)\n",
    "# drop_first is used to drop one of the columns for each categorical feature to avoid multicollinearity.\n",
    "\n",
    "# Check if the target variable has more than 2 classes\n",
    "if y.nunique().any() > 2:\n",
    "    y = pd.get_dummies(y, drop_first=True)\n",
    "\n",
    "\n",
    "\n",
    "# Split the data into validation, validation and test\n",
    "X_train, X_test, y_train, y_test = train_test_split(X, y, train_size=0.75,  random_state=1) # training as 75% \n",
    "    "
   ]
  },
  {
   "cell_type": "code",
   "execution_count": 13,
   "metadata": {},
   "outputs": [
    {
     "name": "stdout",
     "output_type": "stream",
     "text": [
      "Cross-validated scores: [0.24492058 0.2279276  0.22940525 0.23051348 0.2308829 ]\n",
      "Mean cross-validated score: 0.2327299593646103\n"
     ]
    }
   ],
   "source": [
    "# Select and train model of classifier\n",
    "\n",
    "# Best Hyperparameters: {'estimator__criterion': 'gini', 'estimator__max_depth': 10, 'estimator__max_features': None, 'estimator__min_samples_leaf': 1, 'estimator__min_samples_split': 10, 'estimator__splitter': 'random'}\n",
    "# Best Mean Accuracy: 0.2690801625415589\n",
    "\n",
    "dt = MultiOutputClassifier(tree.DecisionTreeClassifier(criterion= 'gini', max_depth= 10, max_features= None, min_samples_leaf= 1, min_samples_split= 10, splitter = 'random', random_state = 1))\n",
    "\n",
    "kf = KFold(n_splits=5, shuffle=True, random_state=1)\n",
    "\n",
    "cv_scores = cross_val_score(dt, X_train, y_train, cv=kf)\n",
    "\n",
    "print(\"Cross-validated scores:\", cv_scores)\n",
    "print(\"Mean cross-validated score:\", cv_scores.mean())\n",
    "\n",
    "dt.fit(X_train, y_train)\n",
    "\n",
    "y_pred = dt.predict(X_test) \n"
   ]
  },
  {
   "cell_type": "code",
   "execution_count": 14,
   "metadata": {},
   "outputs": [],
   "source": [
    "# Separate the multi output targets\n",
    "y_test_last1 = y_test.iloc[:, -1]\n",
    "y_test_last2 = y_test.iloc[:, -2]\n",
    "\n",
    "y_pred_last1 = y_pred[:, -1]\n",
    "y_pred_last2 = y_pred[:, -2]\n",
    "\n",
    "# Evaluate the model\n",
    "\n",
    "balanced_acc_last1 = balanced_accuracy_score(y_test_last1, y_pred_last1)\n",
    "balanced_acc_last2 = balanced_accuracy_score(y_test_last2, y_pred_last2)\n"
   ]
  },
  {
   "cell_type": "markdown",
   "metadata": {},
   "source": [
    "# Use dataset without Unknown values"
   ]
  },
  {
   "cell_type": "code",
   "execution_count": 15,
   "metadata": {},
   "outputs": [],
   "source": [
    "# Train models without unknown data\n",
    "\n",
    "# Replace 'Unknown' with NaN\n",
    "dataset.replace('Unknown', np.nan, inplace=True)\n",
    "\n",
    "dataset.dropna(inplace=True)"
   ]
  },
  {
   "cell_type": "code",
   "execution_count": 16,
   "metadata": {},
   "outputs": [],
   "source": [
    "# Alocate features and labels\n",
    "\n",
    "X = dataset.iloc[:, :-2]  # Features\n",
    "y = dataset.iloc[:, -2:]  # Labels (last two columns)\n",
    "\n",
    "# Perform one-hot encoding on the categorical features\n",
    "X = pd.get_dummies(X, drop_first=True)\n",
    "# drop_first is used to drop one of the columns for each categorical feature to avoid multicollinearity.\n",
    "\n",
    "# Check if the target variable has more than 2 classes\n",
    "if y.nunique().any() > 2:\n",
    "    y = pd.get_dummies(y, drop_first=True)\n",
    "\n",
    "# split the data into validation, validation and test\n",
    "\n",
    "X_train, X_test, y_train, y_test = train_test_split(X, y, train_size=0.75,  random_state=1) # training as 75%"
   ]
  },
  {
   "cell_type": "code",
   "execution_count": 17,
   "metadata": {},
   "outputs": [
    {
     "name": "stdout",
     "output_type": "stream",
     "text": [
      "Cross-validated scores: [0.21042084 0.23313293 0.20374081 0.20440882 0.21910488]\n",
      "Mean cross-validated score: 0.2141616566466266\n"
     ]
    }
   ],
   "source": [
    "# Select and train model of classifier\n",
    "\n",
    "# Best Hyperparameters: {'estimator__criterion': 'gini', 'estimator__max_depth': 10, 'estimator__max_features': None, 'estimator__min_samples_leaf': 1, 'estimator__min_samples_split': 10, 'estimator__splitter': 'random'}\n",
    "# Best Mean Accuracy: 0.2690801625415589\n",
    "\n",
    "dt = MultiOutputClassifier(tree.DecisionTreeClassifier(criterion= 'gini', max_depth= 10, max_features= None, min_samples_leaf= 1, min_samples_split= 10, splitter = 'random', random_state = 1))\n",
    "\n",
    "kf = KFold(n_splits=5, shuffle=True, random_state=1)  \n",
    "\n",
    "cv_scores = cross_val_score(dt, X_train, y_train, cv=kf)\n",
    "\n",
    "print(\"Cross-validated scores:\", cv_scores)\n",
    "print(\"Mean cross-validated score:\", cv_scores.mean())\n",
    "\n",
    "dt.fit(X_train, y_train)\n",
    "\n",
    "y_pred = dt.predict(X_test) \n"
   ]
  },
  {
   "cell_type": "code",
   "execution_count": 18,
   "metadata": {},
   "outputs": [],
   "source": [
    "# Separate the multi output targets\n",
    "y_test_last1_new = y_test.iloc[:, -1]\n",
    "y_test_last2_new = y_test.iloc[:, -2]\n",
    "\n",
    "y_pred_last1_new = y_pred[:, -1]\n",
    "y_pred_last2_new = y_pred[:, -2]\n",
    "\n",
    "# Evaluate the model\n",
    "\n",
    "balanced_acc_last1_new = balanced_accuracy_score(y_test_last2_new, y_pred_last2_new)\n",
    "balanced_acc_last2_new = balanced_accuracy_score(y_test_last2_new, y_pred_last2_new)\n"
   ]
  },
  {
   "cell_type": "code",
   "execution_count": 19,
   "metadata": {},
   "outputs": [
    {
     "name": "stdout",
     "output_type": "stream",
     "text": [
      "\n",
      "Classification Report (Last Column):\n",
      "                                     precision    recall  f1-score   support\n",
      "\n",
      "                        Alzheimer's       0.00      0.00      0.00        32\n",
      "                             Cancer       0.00      0.00      0.00        22\n",
      "                    Cystic fibrosis       0.18      0.02      0.04       745\n",
      "                           Diabetes       0.13      0.00      0.01       417\n",
      "                    Hemochromatosis       0.13      0.01      0.01       315\n",
      "Leber's hereditary optic neuropathy       0.00      0.00      0.00       141\n",
      "                     Leigh syndrome       0.27      0.87      0.41      1186\n",
      "             Mitochondrial myopathy       0.24      0.12      0.16      1016\n",
      "                          Tay-Sachs       0.13      0.00      0.01       638\n",
      "\n",
      "                           accuracy                           0.26      4512\n",
      "                          macro avg       0.12      0.11      0.07      4512\n",
      "                       weighted avg       0.19      0.26      0.15      4512\n",
      "\n",
      "balanced accuracy: 0.11392899605349432\n",
      "\n",
      "Classification Report (Second to Last Column):\n"
     ]
    },
    {
     "name": "stderr",
     "output_type": "stream",
     "text": [
      "c:\\Users\\Sofia\\miniconda3\\Lib\\site-packages\\sklearn\\metrics\\_classification.py:1471: UndefinedMetricWarning: Precision and F-score are ill-defined and being set to 0.0 in labels with no predicted samples. Use `zero_division` parameter to control this behavior.\n",
      "  _warn_prf(average, modifier, msg_start, len(result))\n",
      "c:\\Users\\Sofia\\miniconda3\\Lib\\site-packages\\sklearn\\metrics\\_classification.py:1471: UndefinedMetricWarning: Precision and F-score are ill-defined and being set to 0.0 in labels with no predicted samples. Use `zero_division` parameter to control this behavior.\n",
      "  _warn_prf(average, modifier, msg_start, len(result))\n",
      "c:\\Users\\Sofia\\miniconda3\\Lib\\site-packages\\sklearn\\metrics\\_classification.py:1471: UndefinedMetricWarning: Precision and F-score are ill-defined and being set to 0.0 in labels with no predicted samples. Use `zero_division` parameter to control this behavior.\n",
      "  _warn_prf(average, modifier, msg_start, len(result))\n",
      "c:\\Users\\Sofia\\miniconda3\\Lib\\site-packages\\sklearn\\metrics\\_classification.py:1471: UndefinedMetricWarning: Precision and F-score are ill-defined and being set to 0.0 in labels with no predicted samples. Use `zero_division` parameter to control this behavior.\n",
      "  _warn_prf(average, modifier, msg_start, len(result))\n"
     ]
    },
    {
     "name": "stdout",
     "output_type": "stream",
     "text": [
      "                                              precision    recall  f1-score   support\n",
      "\n",
      " Mitochondrial genetic inheritance disorders       0.52      0.95      0.67      2343\n",
      "Multifactorial genetic inheritance disorders       0.11      0.00      0.01       471\n",
      "            Single-gene inheritance diseases       0.37      0.04      0.07      1698\n",
      "\n",
      "                                    accuracy                           0.51      4512\n",
      "                                   macro avg       0.33      0.33      0.25      4512\n",
      "                                weighted avg       0.42      0.51      0.38      4512\n",
      "\n",
      "balanced accuracy: 0.33228622240814276\n",
      "\n",
      "-------------------------REMOVING UNKNOWNS ---------------------------\n",
      "\n",
      "Classification Report (Last Column):\n",
      "                                     precision    recall  f1-score   support\n",
      "\n",
      "                        Alzheimer's       0.00      0.00      0.00        24\n",
      "                             Cancer       0.00      0.00      0.00         9\n",
      "                    Cystic fibrosis       0.12      0.01      0.01       467\n",
      "                           Diabetes       0.17      0.01      0.02       247\n",
      "                    Hemochromatosis       0.04      0.01      0.01       153\n",
      "Leber's hereditary optic neuropathy       0.00      0.00      0.00        69\n",
      "                     Leigh syndrome       0.24      0.84      0.38       620\n",
      "             Mitochondrial myopathy       0.18      0.10      0.12       535\n",
      "                          Tay-Sachs       0.23      0.01      0.02       372\n",
      "\n",
      "                           accuracy                           0.23      2496\n",
      "                          macro avg       0.11      0.11      0.06      2496\n",
      "                       weighted avg       0.18      0.23      0.13      2496\n",
      "\n",
      "balanced accuracy: 0.33166201068240914\n",
      "\n",
      "Classification Report (Second to Last Column):\n",
      "                                              precision    recall  f1-score   support\n",
      "\n",
      " Mitochondrial genetic inheritance disorders       0.49      0.94      0.64      1224\n",
      "Multifactorial genetic inheritance disorders       0.00      0.00      0.00       280\n",
      "            Single-gene inheritance diseases       0.40      0.06      0.10       992\n",
      "\n",
      "                                    accuracy                           0.48      2496\n",
      "                                   macro avg       0.30      0.33      0.25      2496\n",
      "                                weighted avg       0.40      0.48      0.35      2496\n",
      "\n",
      "balanced accuracy: 0.33166201068240914\n"
     ]
    },
    {
     "name": "stderr",
     "output_type": "stream",
     "text": [
      "c:\\Users\\Sofia\\miniconda3\\Lib\\site-packages\\sklearn\\metrics\\_classification.py:1471: UndefinedMetricWarning: Precision and F-score are ill-defined and being set to 0.0 in labels with no predicted samples. Use `zero_division` parameter to control this behavior.\n",
      "  _warn_prf(average, modifier, msg_start, len(result))\n",
      "c:\\Users\\Sofia\\miniconda3\\Lib\\site-packages\\sklearn\\metrics\\_classification.py:1471: UndefinedMetricWarning: Precision and F-score are ill-defined and being set to 0.0 in labels with no predicted samples. Use `zero_division` parameter to control this behavior.\n",
      "  _warn_prf(average, modifier, msg_start, len(result))\n"
     ]
    }
   ],
   "source": [
    "# Metrics and information for each output column\n",
    "print('\\nClassification Report (Last Column):')\n",
    "print(classification_report(y_test_last1, y_pred_last1))\n",
    "print(\"balanced accuracy:\", balanced_acc_last1)\n",
    "\n",
    "print('\\nClassification Report (Second to Last Column):')\n",
    "print(classification_report(y_test_last2, y_pred_last2))\n",
    "print(\"balanced accuracy:\", balanced_acc_last2)\n",
    "\n",
    "print('\\n-------------------------REMOVING UNKNOWNS ---------------------------')\n",
    "\n",
    "print('\\nClassification Report (Last Column):')\n",
    "print(classification_report(y_test_last1_new, y_pred_last1_new))\n",
    "print(\"balanced accuracy:\", balanced_acc_last1_new)\n",
    "\n",
    "print('\\nClassification Report (Second to Last Column):')\n",
    "print(classification_report(y_test_last2_new, y_pred_last2_new))\n",
    "print(\"balanced accuracy:\", balanced_acc_last2_new)"
   ]
  }
 ],
 "metadata": {
  "kernelspec": {
   "display_name": "base",
   "language": "python",
   "name": "python3"
  },
  "language_info": {
   "codemirror_mode": {
    "name": "ipython",
    "version": 3
   },
   "file_extension": ".py",
   "mimetype": "text/x-python",
   "name": "python",
   "nbconvert_exporter": "python",
   "pygments_lexer": "ipython3",
   "version": "3.11.5"
  }
 },
 "nbformat": 4,
 "nbformat_minor": 2
}
