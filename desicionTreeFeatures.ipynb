{
 "cells": [
  {
   "cell_type": "code",
   "execution_count": 10,
   "metadata": {},
   "outputs": [],
   "source": [
    "# Import necessary libraries\n",
    "\n",
    "import numpy as np\n",
    "import matplotlib.pyplot as plt\n",
    "import pandas as pd\n",
    "\n",
    "from sklearn.model_selection import train_test_split, KFold, cross_val_score\n",
    "from sklearn.multioutput import MultiOutputClassifier\n",
    "from sklearn import tree\n",
    "from sklearn.metrics import balanced_accuracy_score, classification_report\n",
    "from sklearn.preprocessing import LabelEncoder"
   ]
  },
  {
   "cell_type": "code",
   "execution_count": 11,
   "metadata": {},
   "outputs": [],
   "source": [
    "# Load dataset\n",
    "dataset= pd.read_csv('dataset.csv')\n",
    "#print(dataset.columns)\n",
    "\n",
    "# Features to use\n",
    "features = ['Patient Age', \"Mother's age\", \"Father's age\", 'No. of previous abortion',\n",
    "    'White Blood cell count (thousand per microliter)']\n",
    "targets = ['Genetic Disorder', 'Disorder Subclass']\n",
    "\n",
    "# Select only the desired columns\n",
    "selected_columns = features + targets\n",
    "dataset = dataset[selected_columns]\n",
    "'''\n",
    "# If 'dataset' is a pandas DataFrame\n",
    "X = dataset[features]\n",
    "y = dataset[targets]'''\n",
    "\n",
    "# Replace 'Unknown' with NaN in Target \n",
    "dataset['Genetic Disorder'].replace('Unknown', np.nan, inplace=True)\n",
    "dataset['Disorder Subclass'].replace('Unknown', np.nan, inplace=True)\n",
    "# Eliminate samples of NaN targets\n",
    "dataset.dropna(inplace=True)\n",
    "\n",
    "\n",
    "# Encode categorical variables\n",
    "label_encoder = LabelEncoder()\n",
    "\n",
    "# List of categorical columns to encode\n",
    "categorical_unordered_columns = [\n",
    "        'Genetic Disorder', 'Disorder Subclass'\n",
    "]\n",
    "\n",
    "quantitative_with_unknowns_or_ordered_columns = [\n",
    "    'Patient Age', \"Mother's age\", \"Father's age\", 'No. of previous abortion',\n",
    "    'White Blood cell count (thousand per microliter)']\n",
    "\n",
    "dataset_encoded=dataset.copy()\n",
    "\n",
    "for column in quantitative_with_unknowns_or_ordered_columns:\n",
    "    dataset_encoded[column] = label_encoder.fit_transform(dataset_encoded[column].astype(str))\n",
    "dataset=pd.get_dummies(dataset_encoded, columns=categorical_unordered_columns, drop_first=False)\n",
    "\n",
    "\n",
    "# Alocate features and labels\n",
    "X = dataset.iloc[:, :-12]  # Features\n",
    "y = dataset.iloc[:, -12:]  # Labels (last two columns encoded into 3+9)\n",
    "\n",
    "\n",
    "# Split the data into validation, validation and test\n",
    "X_train, X_test, y_train, y_test = train_test_split(X, y, train_size=0.75,  random_state=1) # training as 75% \n"
   ]
  },
  {
   "cell_type": "code",
   "execution_count": 12,
   "metadata": {},
   "outputs": [
    {
     "name": "stdout",
     "output_type": "stream",
     "text": [
      "Cross-validated scores: [0.00701884 0.00554119 0.00738825 0.00738825 0.0088659 ]\n",
      "Mean cross-validated score: 0.007240487624676764\n"
     ]
    }
   ],
   "source": [
    "# Select and train model of classifier\n",
    "\n",
    "# Best Hyperparameters: {'estimator__criterion': 'gini', 'estimator__max_depth': 10, 'estimator__max_features': None, 'estimator__min_samples_leaf': 1, 'estimator__min_samples_split': 10, 'estimator__splitter': 'random'}\n",
    "# Best Mean Accuracy: 0.2690801625415589\n",
    "\n",
    "dt = MultiOutputClassifier(tree.DecisionTreeClassifier(criterion= 'gini', max_depth= 10, max_features= None, min_samples_leaf= 1, min_samples_split= 10, splitter = 'random', random_state = 1))\n",
    "\n",
    "kf = KFold(n_splits=5, shuffle=True, random_state=1)\n",
    "\n",
    "cv_scores = cross_val_score(dt, X_train, y_train, cv=kf)\n",
    "\n",
    "print(\"Cross-validated scores:\", cv_scores)\n",
    "print(\"Mean cross-validated score:\", cv_scores.mean())\n",
    "\n",
    "dt.fit(X_train, y_train)\n",
    "\n",
    "y_pred = dt.predict(X_test) \n"
   ]
  },
  {
   "cell_type": "code",
   "execution_count": 13,
   "metadata": {},
   "outputs": [],
   "source": [
    "# Get the 12 targets to evaluate model\n",
    "y_test_columns = y_test.columns[-12:] \n",
    "y_pred_columns = y_pred[:, -12:]\n",
    "\n",
    "balanced_acc_scores_ = {}\n",
    "\n",
    "for i, column in enumerate(y_test_columns):\n",
    "    y_test_ = y_test[column]\n",
    "    y_pred_ = y_pred_columns[:, i]\n",
    "    \n",
    "    balanced_acc_scores_[column] = balanced_accuracy_score(y_test_, y_pred_)\n",
    "\n"
   ]
  },
  {
   "cell_type": "markdown",
   "metadata": {},
   "source": [
    "# Use dataset without Unknown values"
   ]
  },
  {
   "cell_type": "code",
   "execution_count": 14,
   "metadata": {},
   "outputs": [],
   "source": [
    "# Train models without unknown data\n",
    "\n",
    "# Replace 'Unknown' with NaN\n",
    "dataset.replace('Unknown', np.nan, inplace=True)\n",
    "\n",
    "dataset.dropna(inplace=True)\n"
   ]
  },
  {
   "cell_type": "code",
   "execution_count": 15,
   "metadata": {},
   "outputs": [],
   "source": [
    "# Alocate features and labels\n",
    "\n",
    "X = dataset.iloc[:, :-12]  # Features\n",
    "y = dataset.iloc[:, -12:]  # Labels (last two columns encoded into 3+9)\n",
    "\n",
    "# split the data into validation, validation and test\n",
    "\n",
    "X_train, X_test, y_train, y_test = train_test_split(X, y, train_size=0.75,  random_state=1) # training as 75%"
   ]
  },
  {
   "cell_type": "code",
   "execution_count": 16,
   "metadata": {},
   "outputs": [
    {
     "name": "stdout",
     "output_type": "stream",
     "text": [
      "Cross-validated scores: [0.00701884 0.00554119 0.00738825 0.00738825 0.0088659 ]\n",
      "Mean cross-validated score: 0.007240487624676764\n"
     ]
    }
   ],
   "source": [
    "# Select and train model of classifier\n",
    "\n",
    "# Best Hyperparameters: {'estimator__criterion': 'gini', 'estimator__max_depth': 10, 'estimator__max_features': None, 'estimator__min_samples_leaf': 1, 'estimator__min_samples_split': 10, 'estimator__splitter': 'random'}\n",
    "# Best Mean Accuracy: 0.2690801625415589\n",
    "\n",
    "dt = MultiOutputClassifier(tree.DecisionTreeClassifier(criterion= 'gini', max_depth= 10, max_features= None, min_samples_leaf= 1, min_samples_split= 10, splitter = 'random', random_state = 1))\n",
    "\n",
    "kf = KFold(n_splits=5, shuffle=True, random_state=1)  \n",
    "\n",
    "cv_scores = cross_val_score(dt, X_train, y_train, cv=kf)\n",
    "\n",
    "print(\"Cross-validated scores:\", cv_scores)\n",
    "print(\"Mean cross-validated score:\", cv_scores.mean())\n",
    "\n",
    "dt.fit(X_train, y_train)\n",
    "\n",
    "y_pred = dt.predict(X_test) \n"
   ]
  },
  {
   "cell_type": "code",
   "execution_count": 17,
   "metadata": {},
   "outputs": [],
   "source": [
    "# Get 12 targets to evaluate model\n",
    "y_test_columns = y_test.columns[-12:] \n",
    "y_pred_columns = y_pred[:, -12:]\n",
    "\n",
    "balanced_acc_scores_new = {}\n",
    "\n",
    "for i, column in enumerate(y_test_columns):\n",
    "    y_test_new = y_test[column]\n",
    "    y_pred_new = y_pred_columns[:, i]\n",
    "    \n",
    "    balanced_acc_scores_new[column] = balanced_accuracy_score(y_test_new, y_pred_new)\n"
   ]
  },
  {
   "cell_type": "code",
   "execution_count": 18,
   "metadata": {},
   "outputs": [
    {
     "name": "stdout",
     "output_type": "stream",
     "text": [
      "\n",
      "Classification Report:\n",
      "              precision    recall  f1-score   support\n",
      "\n",
      "       False       0.86      0.99      0.92      3874\n",
      "        True       0.11      0.00      0.01       638\n",
      "\n",
      "    accuracy                           0.85      4512\n",
      "   macro avg       0.48      0.50      0.47      4512\n",
      "weighted avg       0.75      0.85      0.79      4512\n",
      "\n",
      "Balanced Accuracy for Genetic Disorder_Mitochondrial genetic inheritance disorders: 0.5026591081760271\n",
      "Balanced Accuracy for Genetic Disorder_Multifactorial genetic inheritance disorders: 0.5011332882539953\n",
      "Balanced Accuracy for Genetic Disorder_Single-gene inheritance diseases: 0.4997394401038724\n",
      "Balanced Accuracy for Disorder Subclass_Alzheimer's: 0.5\n",
      "Balanced Accuracy for Disorder Subclass_Cancer: 0.5\n",
      "Balanced Accuracy for Disorder Subclass_Cystic fibrosis: 0.5012768959687003\n",
      "Balanced Accuracy for Disorder Subclass_Diabetes: 0.4996117391800845\n",
      "Balanced Accuracy for Disorder Subclass_Hemochromatosis: 0.5012299034457719\n",
      "Balanced Accuracy for Disorder Subclass_Leber's hereditary optic neuropathy: 0.5\n",
      "Balanced Accuracy for Disorder Subclass_Leigh syndrome: 0.494545757834183\n",
      "Balanced Accuracy for Disorder Subclass_Mitochondrial myopathy: 0.5051982918611146\n",
      "Balanced Accuracy for Disorder Subclass_Tay-Sachs: 0.49912445804600397\n",
      "\n",
      "-------------------------REMOVING UNKNOWNS ---------------------------\n",
      "\n",
      "Classification Report:\n",
      "              precision    recall  f1-score   support\n",
      "\n",
      "       False       0.86      0.99      0.92      3874\n",
      "        True       0.11      0.00      0.01       638\n",
      "\n",
      "    accuracy                           0.85      4512\n",
      "   macro avg       0.48      0.50      0.47      4512\n",
      "weighted avg       0.75      0.85      0.79      4512\n",
      "\n",
      "Balanced Accuracy for Genetic Disorder_Mitochondrial genetic inheritance disorders: 0.5026591081760271\n",
      "Balanced Accuracy for Genetic Disorder_Multifactorial genetic inheritance disorders: 0.5011332882539953\n",
      "Balanced Accuracy for Genetic Disorder_Single-gene inheritance diseases: 0.4997394401038724\n",
      "Balanced Accuracy for Disorder Subclass_Alzheimer's: 0.5\n",
      "Balanced Accuracy for Disorder Subclass_Cancer: 0.5\n",
      "Balanced Accuracy for Disorder Subclass_Cystic fibrosis: 0.5012768959687003\n",
      "Balanced Accuracy for Disorder Subclass_Diabetes: 0.4996117391800845\n",
      "Balanced Accuracy for Disorder Subclass_Hemochromatosis: 0.5012299034457719\n",
      "Balanced Accuracy for Disorder Subclass_Leber's hereditary optic neuropathy: 0.5\n",
      "Balanced Accuracy for Disorder Subclass_Leigh syndrome: 0.494545757834183\n",
      "Balanced Accuracy for Disorder Subclass_Mitochondrial myopathy: 0.5051982918611146\n",
      "Balanced Accuracy for Disorder Subclass_Tay-Sachs: 0.49912445804600397\n"
     ]
    }
   ],
   "source": [
    "# Metrics and information for each output column\n",
    "print('\\nClassification Report:')\n",
    "print(classification_report(y_test_, y_pred_))\n",
    "for column, score in balanced_acc_scores_.items():\n",
    "    print(f'Balanced Accuracy for {column}: {score}')\n",
    "\n",
    "print('\\n-------------------------REMOVING UNKNOWNS ---------------------------')\n",
    "\n",
    "print('\\nClassification Report:')\n",
    "print(classification_report(y_test_new, y_pred_new))\n",
    "\n",
    "for column, score in balanced_acc_scores_new.items():\n",
    "    print(f'Balanced Accuracy for {column}: {score}')\n"
   ]
  }
 ],
 "metadata": {
  "kernelspec": {
   "display_name": "base",
   "language": "python",
   "name": "python3"
  },
  "language_info": {
   "codemirror_mode": {
    "name": "ipython",
    "version": 3
   },
   "file_extension": ".py",
   "mimetype": "text/x-python",
   "name": "python",
   "nbconvert_exporter": "python",
   "pygments_lexer": "ipython3",
   "version": "3.11.5"
  }
 },
 "nbformat": 4,
 "nbformat_minor": 2
}
