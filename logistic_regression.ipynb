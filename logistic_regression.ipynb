{
 "cells": [
  {
   "cell_type": "markdown",
   "metadata": {},
   "source": [
    "LOGISTIC REGRESSION CLASSIFIER"
   ]
  },
  {
   "cell_type": "code",
   "execution_count": 1,
   "metadata": {},
   "outputs": [],
   "source": [
    "import numpy as np\n",
    "import pandas as pd\n",
    "from sklearn.linear_model import LogisticRegression\n",
    "from sklearn.preprocessing import LabelEncoder\n",
    "from sklearn.preprocessing import StandardScaler\n",
    "from sklearn.model_selection import train_test_split\n",
    "from sklearn.metrics import classification_report\n",
    "from sklearn.metrics import balanced_accuracy_score\n",
    "from sklearn.metrics import f1_score\n",
    "from sklearn.model_selection import RandomizedSearchCV"
   ]
  },
  {
   "cell_type": "code",
   "execution_count": 2,
   "metadata": {},
   "outputs": [],
   "source": [
    "#dataset\n",
    "df = pd.read_csv('dataset.csv')\n",
    "\n",
    "label_encoder = LabelEncoder()\n",
    "lrc = LogisticRegression()"
   ]
  },
  {
   "cell_type": "markdown",
   "metadata": {},
   "source": [
    "REMOVE UNKNOWNS FROM TARGETS VS FROM ALL COLUMNS (RUN ONE OF THE CELLS)"
   ]
  },
  {
   "cell_type": "markdown",
   "metadata": {},
   "source": [
    "Without unknown targets (possible to apply just to one of the columns if only one of them is the target)"
   ]
  },
  {
   "cell_type": "code",
   "execution_count": 3,
   "metadata": {},
   "outputs": [],
   "source": [
    "# Replace 'Unknown' with NaN\n",
    "df['Genetic Disorder'].replace('Unknown', np.nan, inplace=True)\n",
    "df['Disorder Subclass'].replace('Unknown', np.nan, inplace=True)\n",
    "\n",
    "df.dropna(inplace=True)"
   ]
  },
  {
   "cell_type": "markdown",
   "metadata": {},
   "source": [
    "Without unknown in any column"
   ]
  },
  {
   "cell_type": "code",
   "execution_count": null,
   "metadata": {},
   "outputs": [],
   "source": [
    "# Replace 'Unknown' with NaN\n",
    "df.replace('Unknown', np.nan, inplace=True)\n",
    "\n",
    "df.dropna(inplace=True)"
   ]
  },
  {
   "cell_type": "markdown",
   "metadata": {},
   "source": [
    "USE JUST LABEL ENCODER OR BOTH LABE LENCODER AND ONE-HOT ENCODER (RUN ONE OF THE CELLS)"
   ]
  },
  {
   "cell_type": "markdown",
   "metadata": {},
   "source": [
    "Just label encoder"
   ]
  },
  {
   "cell_type": "code",
   "execution_count": 4,
   "metadata": {},
   "outputs": [],
   "source": [
    "all_x_columns= [\n",
    "    'Patient Age', \"Genes in mother's side\", 'Inherited from father', 'Maternal gene', 'Paternal gene',\n",
    "    'Blood cell count (mcL)', \"Mother's age\", \"Father's age\", 'Status', 'Respiratory Rate (breaths/min)',\n",
    "    'Heart Rate (rates/min)', 'Follow-up', 'Gender', 'Birth asphyxia',\n",
    "    'Autopsy shows birth defect (if applicable)', 'Place of birth', 'Folic acid details (peri-conceptional)',\n",
    "    'H/O serious maternal illness', 'H/O radiation exposure (x-ray)', 'H/O substance abuse',\n",
    "    'Assisted conception IVF/ART', 'History of anomalies in previous pregnancies', 'No. of previous abortion',\n",
    "    'Birth defects', 'White Blood cell count (thousand per microliter)', 'Blood test result',\n",
    "    'Symptom 1', 'Symptom 2', 'Symptom 3', 'Symptom 4', 'Symptom 5'\n",
    "]\n",
    "\n",
    "df_encoded=df.copy()\n",
    "for column in all_x_columns:\n",
    "    df_encoded[column] = label_encoder.fit_transform(df_encoded[column].astype(str))"
   ]
  },
  {
   "cell_type": "markdown",
   "metadata": {},
   "source": [
    "Label encoder and one-hot encoder"
   ]
  },
  {
   "cell_type": "code",
   "execution_count": null,
   "metadata": {},
   "outputs": [],
   "source": [
    "categorical_unordered_columns = [\n",
    "    'Genes in mother\\'s side', 'Inherited from father', 'Maternal gene', 'Paternal gene',\n",
    "    'Gender', 'Birth asphyxia',\n",
    "    'Autopsy shows birth defect (if applicable)', 'Place of birth',\n",
    "    'Folic acid details (peri-conceptional)', 'H/O serious maternal illness',\n",
    "    'H/O radiation exposure (x-ray)', 'H/O substance abuse', 'Status',\n",
    "    'Assisted conception IVF/ART', 'History of anomalies in previous pregnancies',\n",
    "    'Symptom 1', 'Symptom 2', 'Symptom 3', 'Symptom 4', 'Symptom 5'\n",
    "]\n",
    "\n",
    "quantitative_with_unknowns_or_ordered_columns = ['Patient Age', \"Mother's age\", \"Father's age\", 'Respiratory Rate (breaths/min)',\n",
    "    'Heart Rate (rates/min)', 'Follow-up', 'No. of previous abortion',\n",
    "    'Birth defects', 'White Blood cell count (thousand per microliter)', 'Blood test result']\n",
    "\n",
    "\n",
    "df_encoded=df.copy()\n",
    "for column in quantitative_with_unknowns_or_ordered_columns:\n",
    "    df_encoded[column] = label_encoder.fit_transform(df_encoded[column].astype(str))\n",
    "df_encoded=pd.get_dummies(df_encoded, columns=categorical_unordered_columns, drop_first=False)"
   ]
  },
  {
   "cell_type": "markdown",
   "metadata": {},
   "source": [
    "With Feature Selection"
   ]
  },
  {
   "cell_type": "code",
   "execution_count": 5,
   "metadata": {},
   "outputs": [],
   "source": [
    "# With feature selection\n",
    "\n",
    "df=df[[\"Symptom 5\", \"Symptom 4\", \"Symptom 3\", \"Symptom 2\", \"Genes in mother's side\", \"Inherited from father\",\"Genetic Disorder\",\"Disorder Subclass\"]]\n",
    "\n",
    "df_encoded=df.copy()\n",
    "df_encoded=pd.get_dummies(df_encoded, columns=[\"Symptom 5\", \"Symptom 4\", \"Symptom 3\", \"Symptom 2\", \"Genes in mother's side\", \"Inherited from father\"], drop_first=False)"
   ]
  },
  {
   "cell_type": "markdown",
   "metadata": {},
   "source": [
    "TRAIN MODEL TO PREDICT GENETIC DISORDER VS DISORDER SUBCLASS (RUN ONE OF THE CELLS)"
   ]
  },
  {
   "cell_type": "markdown",
   "metadata": {},
   "source": [
    "Genetic Disorder"
   ]
  },
  {
   "cell_type": "code",
   "execution_count": 6,
   "metadata": {},
   "outputs": [],
   "source": [
    "# Extract features and target\n",
    "X = df_encoded.drop(columns=['Genetic Disorder', 'Disorder Subclass'], axis=1)\n",
    "y = df_encoded['Genetic Disorder']"
   ]
  },
  {
   "cell_type": "markdown",
   "metadata": {},
   "source": [
    "Disorder subclass"
   ]
  },
  {
   "cell_type": "code",
   "execution_count": null,
   "metadata": {},
   "outputs": [],
   "source": [
    "# Extract features and target\n",
    "X = df_encoded.drop(columns=['Genetic Disorder', 'Disorder Subclass'], axis=1)\n",
    "y = df_encoded['Disorder Subclass']"
   ]
  },
  {
   "cell_type": "markdown",
   "metadata": {},
   "source": [
    "SCALE FEATURES (POSSIBLE TO SKIP)"
   ]
  },
  {
   "cell_type": "code",
   "execution_count": 7,
   "metadata": {},
   "outputs": [],
   "source": [
    "scaler = StandardScaler()\n",
    "X = scaler.fit_transform(X)"
   ]
  },
  {
   "cell_type": "markdown",
   "metadata": {},
   "source": [
    "BALANCE DATA (POSSIBLE TO SKIP)"
   ]
  },
  {
   "cell_type": "code",
   "execution_count": 8,
   "metadata": {},
   "outputs": [],
   "source": [
    "lrc = LogisticRegression(class_weight='balanced')"
   ]
  },
  {
   "cell_type": "markdown",
   "metadata": {},
   "source": [
    "TUNING (POSSIBLE TO SKIP)"
   ]
  },
  {
   "cell_type": "code",
   "execution_count": 9,
   "metadata": {},
   "outputs": [],
   "source": [
    "parameters = [    \n",
    "    {'C' : np.logspace(-4, 4, 20),\n",
    "    'solver' : ['lbfgs','newton-cg','liblinear','sag','saga'],\n",
    "    'max_iter' : [100, 1000,2500, 5000]\n",
    "    }\n",
    "]"
   ]
  },
  {
   "cell_type": "code",
   "execution_count": 10,
   "metadata": {},
   "outputs": [],
   "source": [
    "\n",
    "lrc = RandomizedSearchCV(estimator = lrc, param_distributions = parameters, n_iter = 100, cv = 3, verbose=2, refit=True, scoring='balanced_accuracy')"
   ]
  },
  {
   "cell_type": "markdown",
   "metadata": {},
   "source": [
    "TRAIN MODEL AND PRINT SCORES"
   ]
  },
  {
   "cell_type": "code",
   "execution_count": 11,
   "metadata": {},
   "outputs": [
    {
     "name": "stdout",
     "output_type": "stream",
     "text": [
      "Fitting 3 folds for each of 100 candidates, totalling 300 fits\n",
      "[CV] END C=0.03359818286283781, max_iter=100, solver=liblinear; total time=   0.0s\n",
      "[CV] END C=0.03359818286283781, max_iter=100, solver=liblinear; total time=   0.0s\n",
      "[CV] END C=0.03359818286283781, max_iter=100, solver=liblinear; total time=   0.0s\n",
      "[CV] END C=0.0006951927961775605, max_iter=1000, solver=lbfgs; total time=   0.0s\n",
      "[CV] END C=0.0006951927961775605, max_iter=1000, solver=lbfgs; total time=   0.0s\n",
      "[CV] END C=0.0006951927961775605, max_iter=1000, solver=lbfgs; total time=   0.0s\n",
      "[CV] END ....C=0.615848211066026, max_iter=5000, solver=saga; total time=   0.0s\n",
      "[CV] END ....C=0.615848211066026, max_iter=5000, solver=saga; total time=   0.0s\n",
      "[CV] END ....C=0.615848211066026, max_iter=5000, solver=saga; total time=   0.0s\n",
      "[CV] END C=0.004832930238571752, max_iter=2500, solver=lbfgs; total time=   0.0s\n",
      "[CV] END C=0.004832930238571752, max_iter=2500, solver=lbfgs; total time=   0.0s\n",
      "[CV] END C=0.004832930238571752, max_iter=2500, solver=lbfgs; total time=   0.0s\n",
      "[CV] END ....C=1.623776739188721, max_iter=100, solver=lbfgs; total time=   0.0s\n",
      "[CV] END ....C=1.623776739188721, max_iter=100, solver=lbfgs; total time=   0.0s\n",
      "[CV] END ....C=1.623776739188721, max_iter=100, solver=lbfgs; total time=   0.0s\n",
      "[CV] END C=0.012742749857031334, max_iter=1000, solver=newton-cg; total time=   0.1s\n",
      "[CV] END C=0.012742749857031334, max_iter=1000, solver=newton-cg; total time=   0.0s\n",
      "[CV] END C=0.012742749857031334, max_iter=1000, solver=newton-cg; total time=   0.0s\n",
      "[CV] END C=3792.690190732246, max_iter=5000, solver=liblinear; total time=   0.0s\n",
      "[CV] END C=3792.690190732246, max_iter=5000, solver=liblinear; total time=   0.0s\n",
      "[CV] END C=3792.690190732246, max_iter=5000, solver=liblinear; total time=   0.0s\n",
      "[CV] END .C=0.03359818286283781, max_iter=5000, solver=lbfgs; total time=   0.0s\n",
      "[CV] END .C=0.03359818286283781, max_iter=5000, solver=lbfgs; total time=   0.0s\n",
      "[CV] END .C=0.03359818286283781, max_iter=5000, solver=lbfgs; total time=   0.0s\n",
      "[CV] END .C=0.23357214690901212, max_iter=5000, solver=lbfgs; total time=   0.0s\n",
      "[CV] END .C=0.23357214690901212, max_iter=5000, solver=lbfgs; total time=   0.0s\n",
      "[CV] END .C=0.23357214690901212, max_iter=5000, solver=lbfgs; total time=   0.0s\n",
      "[CV] END ....C=4.281332398719396, max_iter=5000, solver=saga; total time=   0.0s\n",
      "[CV] END ....C=4.281332398719396, max_iter=5000, solver=saga; total time=   0.0s\n",
      "[CV] END ....C=4.281332398719396, max_iter=5000, solver=saga; total time=   0.0s\n",
      "[CV] END C=0.08858667904100823, max_iter=2500, solver=liblinear; total time=   0.0s\n",
      "[CV] END C=0.08858667904100823, max_iter=2500, solver=liblinear; total time=   0.0s\n",
      "[CV] END C=0.08858667904100823, max_iter=2500, solver=liblinear; total time=   0.0s\n"
     ]
    },
    {
     "name": "stderr",
     "output_type": "stream",
     "text": [
      "C:\\Users\\joana\\AppData\\Local\\Packages\\PythonSoftwareFoundation.Python.3.11_qbz5n2kfra8p0\\LocalCache\\local-packages\\Python311\\site-packages\\sklearn\\linear_model\\_sag.py:350: ConvergenceWarning: The max_iter was reached which means the coef_ did not converge\n",
      "  warnings.warn(\n"
     ]
    },
    {
     "name": "stdout",
     "output_type": "stream",
     "text": [
      "[CV] END .....C=11.288378916846883, max_iter=100, solver=sag; total time=   0.2s\n",
      "[CV] END .....C=11.288378916846883, max_iter=100, solver=sag; total time=   0.1s\n"
     ]
    },
    {
     "name": "stderr",
     "output_type": "stream",
     "text": [
      "C:\\Users\\joana\\AppData\\Local\\Packages\\PythonSoftwareFoundation.Python.3.11_qbz5n2kfra8p0\\LocalCache\\local-packages\\Python311\\site-packages\\sklearn\\linear_model\\_sag.py:350: ConvergenceWarning: The max_iter was reached which means the coef_ did not converge\n",
      "  warnings.warn(\n"
     ]
    },
    {
     "name": "stdout",
     "output_type": "stream",
     "text": [
      "[CV] END .....C=11.288378916846883, max_iter=100, solver=sag; total time=   0.1s\n",
      "[CV] END C=0.0006951927961775605, max_iter=1000, solver=saga; total time=   0.0s\n",
      "[CV] END C=0.0006951927961775605, max_iter=1000, solver=saga; total time=   0.0s\n",
      "[CV] END C=0.0006951927961775605, max_iter=1000, solver=saga; total time=   0.0s\n",
      "[CV] END .....C=545.5594781168514, max_iter=2500, solver=sag; total time=   0.3s\n",
      "[CV] END .....C=545.5594781168514, max_iter=2500, solver=sag; total time=   0.4s\n",
      "[CV] END .....C=545.5594781168514, max_iter=2500, solver=sag; total time=   0.2s\n",
      "[CV] END ..C=29.763514416313132, max_iter=1000, solver=lbfgs; total time=   0.0s\n",
      "[CV] END ..C=29.763514416313132, max_iter=1000, solver=lbfgs; total time=   0.0s\n",
      "[CV] END ..C=29.763514416313132, max_iter=1000, solver=lbfgs; total time=   0.0s\n",
      "[CV] END ......C=206.913808111479, max_iter=100, solver=saga; total time=   0.0s\n",
      "[CV] END ......C=206.913808111479, max_iter=100, solver=saga; total time=   0.0s\n",
      "[CV] END ......C=206.913808111479, max_iter=100, solver=saga; total time=   0.0s\n",
      "[CV] END .C=1438.44988828766, max_iter=100, solver=liblinear; total time=   0.0s\n",
      "[CV] END .C=1438.44988828766, max_iter=100, solver=liblinear; total time=   0.0s\n",
      "[CV] END .C=1438.44988828766, max_iter=100, solver=liblinear; total time=   0.0s\n",
      "[CV] END C=0.23357214690901212, max_iter=2500, solver=newton-cg; total time=   0.0s\n",
      "[CV] END C=0.23357214690901212, max_iter=2500, solver=newton-cg; total time=   0.0s\n",
      "[CV] END C=0.23357214690901212, max_iter=2500, solver=newton-cg; total time=   0.0s\n",
      "[CV] END C=0.0018329807108324356, max_iter=100, solver=liblinear; total time=   0.0s\n",
      "[CV] END C=0.0018329807108324356, max_iter=100, solver=liblinear; total time=   0.0s\n",
      "[CV] END C=0.0018329807108324356, max_iter=100, solver=liblinear; total time=   0.0s\n",
      "[CV] END C=0.23357214690901212, max_iter=100, solver=liblinear; total time=   0.0s\n",
      "[CV] END C=0.23357214690901212, max_iter=100, solver=liblinear; total time=   0.0s\n",
      "[CV] END C=0.23357214690901212, max_iter=100, solver=liblinear; total time=   0.0s\n",
      "[CV] END ....C=4.281332398719396, max_iter=1000, solver=saga; total time=   0.0s\n",
      "[CV] END ....C=4.281332398719396, max_iter=1000, solver=saga; total time=   0.0s\n",
      "[CV] END ....C=4.281332398719396, max_iter=1000, solver=saga; total time=   0.0s\n",
      "[CV] END C=4.281332398719396, max_iter=100, solver=newton-cg; total time=   0.0s\n",
      "[CV] END C=4.281332398719396, max_iter=100, solver=newton-cg; total time=   0.0s\n",
      "[CV] END C=4.281332398719396, max_iter=100, solver=newton-cg; total time=   0.0s\n",
      "[CV] END ..C=0.012742749857031334, max_iter=5000, solver=sag; total time=   0.0s\n",
      "[CV] END ..C=0.012742749857031334, max_iter=5000, solver=sag; total time=   0.0s\n",
      "[CV] END ..C=0.012742749857031334, max_iter=5000, solver=sag; total time=   0.0s\n",
      "[CV] END .....C=1.623776739188721, max_iter=5000, solver=sag; total time=   0.2s\n",
      "[CV] END .....C=1.623776739188721, max_iter=5000, solver=sag; total time=   0.2s\n",
      "[CV] END .....C=1.623776739188721, max_iter=5000, solver=sag; total time=   0.0s\n",
      "[CV] END ....C=3792.690190732246, max_iter=2500, solver=saga; total time=   0.0s\n",
      "[CV] END ....C=3792.690190732246, max_iter=2500, solver=saga; total time=   0.0s\n",
      "[CV] END ....C=3792.690190732246, max_iter=2500, solver=saga; total time=   0.0s\n",
      "[CV] END ..C=0.23357214690901212, max_iter=2500, solver=saga; total time=   0.0s\n",
      "[CV] END ..C=0.23357214690901212, max_iter=2500, solver=saga; total time=   0.0s\n",
      "[CV] END ..C=0.23357214690901212, max_iter=2500, solver=saga; total time=   0.0s\n",
      "[CV] END ...C=29.763514416313132, max_iter=100, solver=lbfgs; total time=   0.0s\n",
      "[CV] END ...C=29.763514416313132, max_iter=100, solver=lbfgs; total time=   0.0s\n",
      "[CV] END ...C=29.763514416313132, max_iter=100, solver=lbfgs; total time=   0.0s\n",
      "[CV] END ..........C=0.0001, max_iter=2500, solver=liblinear; total time=   0.0s\n",
      "[CV] END ..........C=0.0001, max_iter=2500, solver=liblinear; total time=   0.0s\n",
      "[CV] END ..........C=0.0001, max_iter=2500, solver=liblinear; total time=   0.0s\n",
      "[CV] END .....C=0.615848211066026, max_iter=100, solver=saga; total time=   0.0s\n",
      "[CV] END .....C=0.615848211066026, max_iter=100, solver=saga; total time=   0.0s\n",
      "[CV] END .....C=0.615848211066026, max_iter=100, solver=saga; total time=   0.0s\n",
      "[CV] END .........C=10000.0, max_iter=5000, solver=newton-cg; total time=   0.0s\n",
      "[CV] END .........C=10000.0, max_iter=5000, solver=newton-cg; total time=   0.0s\n",
      "[CV] END .........C=10000.0, max_iter=5000, solver=newton-cg; total time=   0.0s\n",
      "[CV] END ....C=4.281332398719396, max_iter=100, solver=lbfgs; total time=   0.0s\n",
      "[CV] END ....C=4.281332398719396, max_iter=100, solver=lbfgs; total time=   0.0s\n",
      "[CV] END ....C=4.281332398719396, max_iter=100, solver=lbfgs; total time=   0.0s\n",
      "[CV] END ...C=0.615848211066026, max_iter=5000, solver=lbfgs; total time=   0.0s\n",
      "[CV] END ...C=0.615848211066026, max_iter=5000, solver=lbfgs; total time=   0.0s\n",
      "[CV] END ...C=0.615848211066026, max_iter=5000, solver=lbfgs; total time=   0.0s\n",
      "[CV] END ..C=0.004832930238571752, max_iter=1000, solver=sag; total time=   0.0s\n",
      "[CV] END ..C=0.004832930238571752, max_iter=1000, solver=sag; total time=   0.0s\n",
      "[CV] END ..C=0.004832930238571752, max_iter=1000, solver=sag; total time=   0.0s\n",
      "[CV] END .C=0.03359818286283781, max_iter=2500, solver=lbfgs; total time=   0.0s\n",
      "[CV] END .C=0.03359818286283781, max_iter=2500, solver=lbfgs; total time=   0.0s\n",
      "[CV] END .C=0.03359818286283781, max_iter=2500, solver=lbfgs; total time=   0.0s\n",
      "[CV] END ..C=0.08858667904100823, max_iter=1000, solver=saga; total time=   0.0s\n",
      "[CV] END ..C=0.08858667904100823, max_iter=1000, solver=saga; total time=   0.0s\n",
      "[CV] END ..C=0.08858667904100823, max_iter=1000, solver=saga; total time=   0.0s\n",
      "[CV] END .........C=10000.0, max_iter=2500, solver=newton-cg; total time=   0.0s\n",
      "[CV] END .........C=10000.0, max_iter=2500, solver=newton-cg; total time=   0.0s\n",
      "[CV] END .........C=10000.0, max_iter=2500, solver=newton-cg; total time=   0.0s\n",
      "[CV] END C=0.0018329807108324356, max_iter=2500, solver=liblinear; total time=   0.0s\n",
      "[CV] END C=0.0018329807108324356, max_iter=2500, solver=liblinear; total time=   0.0s\n",
      "[CV] END C=0.0018329807108324356, max_iter=2500, solver=liblinear; total time=   0.0s\n",
      "[CV] END ..C=0.012742749857031334, max_iter=1000, solver=sag; total time=   0.0s\n",
      "[CV] END ..C=0.012742749857031334, max_iter=1000, solver=sag; total time=   0.0s\n",
      "[CV] END ..C=0.012742749857031334, max_iter=1000, solver=sag; total time=   0.0s\n",
      "[CV] END C=0.00026366508987303583, max_iter=1000, solver=saga; total time=   0.0s\n",
      "[CV] END C=0.00026366508987303583, max_iter=1000, solver=saga; total time=   0.0s\n",
      "[CV] END C=0.00026366508987303583, max_iter=1000, solver=saga; total time=   0.0s\n",
      "[CV] END ..C=0.004832930238571752, max_iter=5000, solver=sag; total time=   0.0s\n",
      "[CV] END ..C=0.004832930238571752, max_iter=5000, solver=sag; total time=   0.0s\n",
      "[CV] END ..C=0.004832930238571752, max_iter=5000, solver=sag; total time=   0.0s\n",
      "[CV] END C=0.23357214690901212, max_iter=1000, solver=liblinear; total time=   0.0s\n",
      "[CV] END C=0.23357214690901212, max_iter=1000, solver=liblinear; total time=   0.0s\n",
      "[CV] END C=0.23357214690901212, max_iter=1000, solver=liblinear; total time=   0.0s\n",
      "[CV] END C=0.0018329807108324356, max_iter=5000, solver=saga; total time=   0.0s\n",
      "[CV] END C=0.0018329807108324356, max_iter=5000, solver=saga; total time=   0.0s\n",
      "[CV] END C=0.0018329807108324356, max_iter=5000, solver=saga; total time=   0.0s\n",
      "[CV] END ...............C=0.0001, max_iter=1000, solver=saga; total time=   0.0s\n",
      "[CV] END ...............C=0.0001, max_iter=1000, solver=saga; total time=   0.0s\n",
      "[CV] END ...............C=0.0001, max_iter=1000, solver=saga; total time=   0.0s\n",
      "[CV] END .C=0.0006951927961775605, max_iter=2500, solver=sag; total time=   0.0s\n",
      "[CV] END .C=0.0006951927961775605, max_iter=2500, solver=sag; total time=   0.0s\n",
      "[CV] END .C=0.0006951927961775605, max_iter=2500, solver=sag; total time=   0.0s\n",
      "[CV] END .C=0.004832930238571752, max_iter=2500, solver=saga; total time=   0.0s\n",
      "[CV] END .C=0.004832930238571752, max_iter=2500, solver=saga; total time=   0.0s\n",
      "[CV] END .C=0.004832930238571752, max_iter=2500, solver=saga; total time=   0.0s\n",
      "[CV] END C=1.623776739188721, max_iter=2500, solver=newton-cg; total time=   0.0s\n",
      "[CV] END C=1.623776739188721, max_iter=2500, solver=newton-cg; total time=   0.0s\n",
      "[CV] END C=1.623776739188721, max_iter=2500, solver=newton-cg; total time=   0.0s\n",
      "[CV] END ................C=0.0001, max_iter=100, solver=saga; total time=   0.0s\n",
      "[CV] END ................C=0.0001, max_iter=100, solver=saga; total time=   0.0s\n",
      "[CV] END ................C=0.0001, max_iter=100, solver=saga; total time=   0.0s\n",
      "[CV] END ...............C=0.0001, max_iter=100, solver=lbfgs; total time=   0.0s\n",
      "[CV] END ...............C=0.0001, max_iter=100, solver=lbfgs; total time=   0.0s\n",
      "[CV] END ...............C=0.0001, max_iter=100, solver=lbfgs; total time=   0.0s\n",
      "[CV] END C=1.623776739188721, max_iter=5000, solver=newton-cg; total time=   0.0s\n",
      "[CV] END C=1.623776739188721, max_iter=5000, solver=newton-cg; total time=   0.0s\n",
      "[CV] END C=1.623776739188721, max_iter=5000, solver=newton-cg; total time=   0.0s\n",
      "[CV] END ...C=0.23357214690901212, max_iter=2500, solver=sag; total time=   0.2s\n",
      "[CV] END ...C=0.23357214690901212, max_iter=2500, solver=sag; total time=   0.2s\n",
      "[CV] END ...C=0.23357214690901212, max_iter=2500, solver=sag; total time=   0.1s\n",
      "[CV] END ..............C=10000.0, max_iter=1000, solver=saga; total time=   0.0s\n",
      "[CV] END ..............C=10000.0, max_iter=1000, solver=saga; total time=   0.0s\n",
      "[CV] END ..............C=10000.0, max_iter=1000, solver=saga; total time=   0.0s\n",
      "[CV] END C=4.281332398719396, max_iter=1000, solver=newton-cg; total time=   0.0s\n",
      "[CV] END C=4.281332398719396, max_iter=1000, solver=newton-cg; total time=   0.0s\n",
      "[CV] END C=4.281332398719396, max_iter=1000, solver=newton-cg; total time=   0.1s\n",
      "[CV] END C=0.012742749857031334, max_iter=2500, solver=liblinear; total time=   0.0s\n",
      "[CV] END C=0.012742749857031334, max_iter=2500, solver=liblinear; total time=   0.0s\n",
      "[CV] END C=0.012742749857031334, max_iter=2500, solver=liblinear; total time=   0.0s\n",
      "[CV] END C=11.288378916846883, max_iter=100, solver=liblinear; total time=   0.0s\n",
      "[CV] END C=11.288378916846883, max_iter=100, solver=liblinear; total time=   0.0s\n",
      "[CV] END C=11.288378916846883, max_iter=100, solver=liblinear; total time=   0.0s\n",
      "[CV] END C=0.08858667904100823, max_iter=100, solver=newton-cg; total time=   0.0s\n",
      "[CV] END C=0.08858667904100823, max_iter=100, solver=newton-cg; total time=   0.0s\n",
      "[CV] END C=0.08858667904100823, max_iter=100, solver=newton-cg; total time=   0.0s\n",
      "[CV] END C=11.288378916846883, max_iter=5000, solver=newton-cg; total time=   0.0s\n",
      "[CV] END C=11.288378916846883, max_iter=5000, solver=newton-cg; total time=   0.0s\n",
      "[CV] END C=11.288378916846883, max_iter=5000, solver=newton-cg; total time=   0.0s\n",
      "[CV] END ......C=1438.44988828766, max_iter=1000, solver=sag; total time=   0.1s\n",
      "[CV] END ......C=1438.44988828766, max_iter=1000, solver=sag; total time=   0.3s\n",
      "[CV] END ......C=1438.44988828766, max_iter=1000, solver=sag; total time=   0.2s\n",
      "[CV] END C=0.00026366508987303583, max_iter=2500, solver=liblinear; total time=   0.0s\n",
      "[CV] END C=0.00026366508987303583, max_iter=2500, solver=liblinear; total time=   0.0s\n",
      "[CV] END C=0.00026366508987303583, max_iter=2500, solver=liblinear; total time=   0.0s\n",
      "[CV] END ..........C=0.0001, max_iter=5000, solver=liblinear; total time=   0.0s\n",
      "[CV] END ..........C=0.0001, max_iter=5000, solver=liblinear; total time=   0.0s\n",
      "[CV] END ..........C=0.0001, max_iter=5000, solver=liblinear; total time=   0.0s\n",
      "[CV] END ....C=0.23357214690901212, max_iter=100, solver=sag; total time=   0.1s\n",
      "[CV] END ....C=0.23357214690901212, max_iter=100, solver=sag; total time=   0.1s\n"
     ]
    },
    {
     "name": "stderr",
     "output_type": "stream",
     "text": [
      "C:\\Users\\joana\\AppData\\Local\\Packages\\PythonSoftwareFoundation.Python.3.11_qbz5n2kfra8p0\\LocalCache\\local-packages\\Python311\\site-packages\\sklearn\\linear_model\\_sag.py:350: ConvergenceWarning: The max_iter was reached which means the coef_ did not converge\n",
      "  warnings.warn(\n"
     ]
    },
    {
     "name": "stdout",
     "output_type": "stream",
     "text": [
      "[CV] END ....C=0.23357214690901212, max_iter=100, solver=sag; total time=   0.2s\n",
      "[CV] END C=0.0006951927961775605, max_iter=100, solver=newton-cg; total time=   0.0s\n",
      "[CV] END C=0.0006951927961775605, max_iter=100, solver=newton-cg; total time=   0.0s\n",
      "[CV] END C=0.0006951927961775605, max_iter=100, solver=newton-cg; total time=   0.0s\n",
      "[CV] END C=0.0006951927961775605, max_iter=1000, solver=liblinear; total time=   0.0s\n",
      "[CV] END C=0.0006951927961775605, max_iter=1000, solver=liblinear; total time=   0.0s\n",
      "[CV] END C=0.0006951927961775605, max_iter=1000, solver=liblinear; total time=   0.0s\n",
      "[CV] END .C=0.0018329807108324356, max_iter=1000, solver=sag; total time=   0.0s\n",
      "[CV] END .C=0.0018329807108324356, max_iter=1000, solver=sag; total time=   0.0s\n",
      "[CV] END .C=0.0018329807108324356, max_iter=1000, solver=sag; total time=   0.0s\n",
      "[CV] END ....C=29.763514416313132, max_iter=2500, solver=sag; total time=   0.6s\n",
      "[CV] END ....C=29.763514416313132, max_iter=2500, solver=sag; total time=   0.2s\n",
      "[CV] END ....C=29.763514416313132, max_iter=2500, solver=sag; total time=   0.3s\n",
      "[CV] END ....C=545.5594781168514, max_iter=5000, solver=saga; total time=   0.0s\n",
      "[CV] END ....C=545.5594781168514, max_iter=5000, solver=saga; total time=   0.0s\n",
      "[CV] END ....C=545.5594781168514, max_iter=5000, solver=saga; total time=   0.0s\n",
      "[CV] END ....C=1438.44988828766, max_iter=1000, solver=lbfgs; total time=   0.0s\n",
      "[CV] END ....C=1438.44988828766, max_iter=1000, solver=lbfgs; total time=   0.0s\n",
      "[CV] END ....C=1438.44988828766, max_iter=1000, solver=lbfgs; total time=   0.0s\n",
      "[CV] END C=206.913808111479, max_iter=2500, solver=newton-cg; total time=   0.0s\n",
      "[CV] END C=206.913808111479, max_iter=2500, solver=newton-cg; total time=   0.0s\n",
      "[CV] END C=206.913808111479, max_iter=2500, solver=newton-cg; total time=   0.0s\n",
      "[CV] END ....C=0.615848211066026, max_iter=100, solver=lbfgs; total time=   0.0s\n",
      "[CV] END ....C=0.615848211066026, max_iter=100, solver=lbfgs; total time=   0.0s\n",
      "[CV] END ....C=0.615848211066026, max_iter=100, solver=lbfgs; total time=   0.0s\n",
      "[CV] END ......C=1438.44988828766, max_iter=100, solver=saga; total time=   0.0s\n",
      "[CV] END ......C=1438.44988828766, max_iter=100, solver=saga; total time=   0.0s\n",
      "[CV] END ......C=1438.44988828766, max_iter=100, solver=saga; total time=   0.0s\n",
      "[CV] END C=0.615848211066026, max_iter=2500, solver=liblinear; total time=   0.0s\n",
      "[CV] END C=0.615848211066026, max_iter=2500, solver=liblinear; total time=   0.0s\n",
      "[CV] END C=0.615848211066026, max_iter=2500, solver=liblinear; total time=   0.0s\n",
      "[CV] END .C=0.0006951927961775605, max_iter=5000, solver=sag; total time=   0.0s\n",
      "[CV] END .C=0.0006951927961775605, max_iter=5000, solver=sag; total time=   0.0s\n",
      "[CV] END .C=0.0006951927961775605, max_iter=5000, solver=sag; total time=   0.0s\n",
      "[CV] END ....C=78.47599703514607, max_iter=2500, solver=saga; total time=   0.0s\n",
      "[CV] END ....C=78.47599703514607, max_iter=2500, solver=saga; total time=   0.0s\n",
      "[CV] END ....C=78.47599703514607, max_iter=2500, solver=saga; total time=   0.0s\n",
      "[CV] END C=0.0018329807108324356, max_iter=5000, solver=liblinear; total time=   0.0s\n",
      "[CV] END C=0.0018329807108324356, max_iter=5000, solver=liblinear; total time=   0.0s\n",
      "[CV] END C=0.0018329807108324356, max_iter=5000, solver=liblinear; total time=   0.0s\n",
      "[CV] END C=545.5594781168514, max_iter=5000, solver=newton-cg; total time=   0.0s\n",
      "[CV] END C=545.5594781168514, max_iter=5000, solver=newton-cg; total time=   0.0s\n",
      "[CV] END C=545.5594781168514, max_iter=5000, solver=newton-cg; total time=   0.0s\n",
      "[CV] END C=0.615848211066026, max_iter=100, solver=newton-cg; total time=   0.0s\n",
      "[CV] END C=0.615848211066026, max_iter=100, solver=newton-cg; total time=   0.0s\n",
      "[CV] END C=0.615848211066026, max_iter=100, solver=newton-cg; total time=   0.0s\n",
      "[CV] END C=0.03359818286283781, max_iter=1000, solver=newton-cg; total time=   0.0s\n",
      "[CV] END C=0.03359818286283781, max_iter=1000, solver=newton-cg; total time=   0.0s\n",
      "[CV] END C=0.03359818286283781, max_iter=1000, solver=newton-cg; total time=   0.0s\n",
      "[CV] END C=0.08858667904100823, max_iter=2500, solver=newton-cg; total time=   0.0s\n",
      "[CV] END C=0.08858667904100823, max_iter=2500, solver=newton-cg; total time=   0.0s\n",
      "[CV] END C=0.08858667904100823, max_iter=2500, solver=newton-cg; total time=   0.0s\n",
      "[CV] END ...C=0.004832930238571752, max_iter=100, solver=sag; total time=   0.0s\n",
      "[CV] END ...C=0.004832930238571752, max_iter=100, solver=sag; total time=   0.0s\n",
      "[CV] END ...C=0.004832930238571752, max_iter=100, solver=sag; total time=   0.0s\n",
      "[CV] END C=0.08858667904100823, max_iter=5000, solver=newton-cg; total time=   0.0s\n",
      "[CV] END C=0.08858667904100823, max_iter=5000, solver=newton-cg; total time=   0.0s\n",
      "[CV] END C=0.08858667904100823, max_iter=5000, solver=newton-cg; total time=   0.0s\n",
      "[CV] END ...C=0.03359818286283781, max_iter=5000, solver=sag; total time=   0.0s\n",
      "[CV] END ...C=0.03359818286283781, max_iter=5000, solver=sag; total time=   0.0s\n",
      "[CV] END ...C=0.03359818286283781, max_iter=5000, solver=sag; total time=   0.0s\n",
      "[CV] END .....C=1.623776739188721, max_iter=2500, solver=sag; total time=   0.1s\n",
      "[CV] END .....C=1.623776739188721, max_iter=2500, solver=sag; total time=   0.3s\n",
      "[CV] END .....C=1.623776739188721, max_iter=2500, solver=sag; total time=   0.4s\n",
      "[CV] END ....C=78.47599703514607, max_iter=1000, solver=saga; total time=   0.0s\n",
      "[CV] END ....C=78.47599703514607, max_iter=1000, solver=saga; total time=   0.0s\n",
      "[CV] END ....C=78.47599703514607, max_iter=1000, solver=saga; total time=   0.0s\n",
      "[CV] END C=0.00026366508987303583, max_iter=100, solver=lbfgs; total time=   0.0s\n",
      "[CV] END C=0.00026366508987303583, max_iter=100, solver=lbfgs; total time=   0.0s\n",
      "[CV] END C=0.00026366508987303583, max_iter=100, solver=lbfgs; total time=   0.0s\n",
      "[CV] END ................C=0.0001, max_iter=1000, solver=sag; total time=   0.0s\n",
      "[CV] END ................C=0.0001, max_iter=1000, solver=sag; total time=   0.0s\n",
      "[CV] END ................C=0.0001, max_iter=1000, solver=sag; total time=   0.0s\n",
      "[CV] END .....C=4.281332398719396, max_iter=2500, solver=sag; total time=   0.2s\n",
      "[CV] END .....C=4.281332398719396, max_iter=2500, solver=sag; total time=   0.3s\n",
      "[CV] END .....C=4.281332398719396, max_iter=2500, solver=sag; total time=   0.4s\n",
      "[CV] END C=0.004832930238571752, max_iter=5000, solver=liblinear; total time=   0.0s\n",
      "[CV] END C=0.004832930238571752, max_iter=5000, solver=liblinear; total time=   0.0s\n",
      "[CV] END C=0.004832930238571752, max_iter=5000, solver=liblinear; total time=   0.0s\n",
      "[CV] END ..C=0.03359818286283781, max_iter=2500, solver=saga; total time=   0.0s\n",
      "[CV] END ..C=0.03359818286283781, max_iter=2500, solver=saga; total time=   0.0s\n",
      "[CV] END ..C=0.03359818286283781, max_iter=2500, solver=saga; total time=   0.0s\n",
      "[CV] END C=0.0006951927961775605, max_iter=2500, solver=saga; total time=   0.0s\n",
      "[CV] END C=0.0006951927961775605, max_iter=2500, solver=saga; total time=   0.1s\n",
      "[CV] END C=0.0006951927961775605, max_iter=2500, solver=saga; total time=   0.0s\n",
      "[CV] END .....C=4.281332398719396, max_iter=1000, solver=sag; total time=   0.2s\n",
      "[CV] END .....C=4.281332398719396, max_iter=1000, solver=sag; total time=   0.2s\n",
      "[CV] END .....C=4.281332398719396, max_iter=1000, solver=sag; total time=   0.4s\n",
      "[CV] END .............C=10000.0, max_iter=2500, solver=lbfgs; total time=   0.0s\n",
      "[CV] END .............C=10000.0, max_iter=2500, solver=lbfgs; total time=   0.0s\n",
      "[CV] END .............C=10000.0, max_iter=2500, solver=lbfgs; total time=   0.0s\n",
      "[CV] END C=0.012742749857031334, max_iter=2500, solver=lbfgs; total time=   0.0s\n",
      "[CV] END C=0.012742749857031334, max_iter=2500, solver=lbfgs; total time=   0.0s\n",
      "[CV] END C=0.012742749857031334, max_iter=2500, solver=lbfgs; total time=   0.0s\n",
      "[CV] END C=0.00026366508987303583, max_iter=2500, solver=newton-cg; total time=   0.0s\n",
      "[CV] END C=0.00026366508987303583, max_iter=2500, solver=newton-cg; total time=   0.0s\n",
      "[CV] END C=0.00026366508987303583, max_iter=2500, solver=newton-cg; total time=   0.0s\n",
      "[CV] END .C=0.0018329807108324356, max_iter=5000, solver=sag; total time=   0.0s\n",
      "[CV] END .C=0.0018329807108324356, max_iter=5000, solver=sag; total time=   0.0s\n",
      "[CV] END .C=0.0018329807108324356, max_iter=5000, solver=sag; total time=   0.0s\n",
      "[CV] END ...........C=0.0001, max_iter=100, solver=liblinear; total time=   0.0s\n",
      "[CV] END ...........C=0.0001, max_iter=100, solver=liblinear; total time=   0.0s\n",
      "[CV] END ...........C=0.0001, max_iter=100, solver=liblinear; total time=   0.0s\n",
      "[CV] END ...............C=0.0001, max_iter=2500, solver=saga; total time=   0.0s\n",
      "[CV] END ...............C=0.0001, max_iter=2500, solver=saga; total time=   0.0s\n",
      "[CV] END ...............C=0.0001, max_iter=2500, solver=saga; total time=   0.0s\n",
      "[CV] END .....C=1438.44988828766, max_iter=100, solver=lbfgs; total time=   0.0s\n",
      "[CV] END .....C=1438.44988828766, max_iter=100, solver=lbfgs; total time=   0.0s\n",
      "[CV] END .....C=1438.44988828766, max_iter=100, solver=lbfgs; total time=   0.0s\n",
      "[CV] END ...C=4.281332398719396, max_iter=2500, solver=lbfgs; total time=   0.0s\n",
      "[CV] END ...C=4.281332398719396, max_iter=2500, solver=lbfgs; total time=   0.0s\n",
      "[CV] END ...C=4.281332398719396, max_iter=2500, solver=lbfgs; total time=   0.0s\n",
      "[CV] END C=0.012742749857031334, max_iter=1000, solver=lbfgs; total time=   0.0s\n",
      "[CV] END C=0.012742749857031334, max_iter=1000, solver=lbfgs; total time=   0.0s\n",
      "[CV] END C=0.012742749857031334, max_iter=1000, solver=lbfgs; total time=   0.0s\n",
      "[CV] END ...C=545.5594781168514, max_iter=5000, solver=lbfgs; total time=   0.0s\n",
      "[CV] END ...C=545.5594781168514, max_iter=5000, solver=lbfgs; total time=   0.0s\n",
      "[CV] END ...C=545.5594781168514, max_iter=5000, solver=lbfgs; total time=   0.0s\n",
      "[CV] END C=0.0006951927961775605, max_iter=2500, solver=liblinear; total time=   0.0s\n",
      "[CV] END C=0.0006951927961775605, max_iter=2500, solver=liblinear; total time=   0.0s\n",
      "[CV] END C=0.0006951927961775605, max_iter=2500, solver=liblinear; total time=   0.0s\n"
     ]
    }
   ],
   "source": [
    "X_train, X_test, y_train, y_test = train_test_split(X, y, train_size=0.75, stratify=y) # training as 50%\n",
    "lrc.fit(X_train, y_train)\n",
    "\n",
    "y_pred = lrc.predict(X_test) \n",
    "\n",
    "print('\\nGenetic Disorder')\n",
    "print(classification_report(y_test, y_pred))\n",
    "print('\\nBalanced accuracy:')\n",
    "print(balanced_accuracy_score(y_test, y_pred))\n",
    "print('\\nMacro f1:')\n",
    "print(f1_score(y_test, y_pred, average='macro'))\n",
    "print('\\nWeighted f1:')\n",
    "print(f1_score(y_test, y_pred, average='weighted'))"
   ]
  },
  {
   "cell_type": "markdown",
   "metadata": {},
   "source": [
    "PRINT SCORES ONE TARGET VS MULTIOUTPUT (RUN ONE OF THE CELLS)"
   ]
  },
  {
   "cell_type": "markdown",
   "metadata": {},
   "source": [
    "Multioutput"
   ]
  },
  {
   "cell_type": "markdown",
   "metadata": {},
   "source": [
    "One target"
   ]
  },
  {
   "cell_type": "code",
   "execution_count": 12,
   "metadata": {},
   "outputs": [
    {
     "name": "stdout",
     "output_type": "stream",
     "text": [
      "\n",
      "Genetic Disorder\n",
      "                                              precision    recall  f1-score   support\n",
      "\n",
      " Mitochondrial genetic inheritance disorders       0.67      0.34      0.45      2311\n",
      "Multifactorial genetic inheritance disorders       0.29      0.86      0.43       469\n",
      "            Single-gene inheritance diseases       0.43      0.49      0.46      1732\n",
      "\n",
      "                                    accuracy                           0.45      4512\n",
      "                                   macro avg       0.46      0.56      0.45      4512\n",
      "                                weighted avg       0.54      0.45      0.45      4512\n",
      "\n",
      "\n",
      "Balanced accuracy:\n",
      "0.5595088899556395\n",
      "\n",
      "Macro f1:\n",
      "0.44521207330500223\n",
      "\n",
      "Weighted f1:\n",
      "0.4496043901988412\n"
     ]
    }
   ],
   "source": [
    "print('\\nGenetic Disorder')\n",
    "print(classification_report(y_test, y_pred))\n",
    "print('\\nBalanced accuracy:')\n",
    "print(balanced_accuracy_score(y_test, y_pred))\n",
    "print('\\nMacro f1:')\n",
    "print(f1_score(y_test, y_pred, average='macro'))\n",
    "print('\\nWeighted f1:')\n",
    "print(f1_score(y_test, y_pred, average='weighted'))"
   ]
  },
  {
   "cell_type": "code",
   "execution_count": null,
   "metadata": {},
   "outputs": [],
   "source": []
  }
 ],
 "metadata": {
  "kernelspec": {
   "display_name": "Python 3",
   "language": "python",
   "name": "python3"
  },
  "language_info": {
   "codemirror_mode": {
    "name": "ipython",
    "version": 3
   },
   "file_extension": ".py",
   "mimetype": "text/x-python",
   "name": "python",
   "nbconvert_exporter": "python",
   "pygments_lexer": "ipython3",
   "version": "3.11.7"
  }
 },
 "nbformat": 4,
 "nbformat_minor": 2
}
